{
 "cells": [
  {
   "cell_type": "markdown",
   "metadata": {
    "id": "Ftlnj4MY9q-8"
   },
   "source": [
    "# CHIẾN LƯỢC LỰA CHỌN CỔ PHIẾU THÔNG MINH\n",
    "## Sử dụng Machine Learning và Technical Analysis\n",
    "\n",
    "**Đội thi:** [Tên đội]\n",
    "**Ngày:** September 2024\n",
    "\n",
    "---\n",
    "\n",
    "## 1. TỔNG QUAN CHIẾN LƯỢC\n",
    "\n",
    "### 1.1 Mục tiêu\n",
    "Xây dựng một hệ thống lựa chọn cổ phiếu tự động dựa trên:\n",
    "- **Phân tích kỹ thuật (TA):** Sử dụng các chỉ báo RSI, MACD, Bollinger Bands, MA, Ichimoku\n",
    "- **Machine Learning:** Tối ưu hóa trọng số các chỉ báo và dự đoán xu hướng\n",
    "- **Risk Management:** Kiểm soát rủi ro thông qua diversification và position sizing\n",
    "\n",
    "### 1.2 Dữ liệu đầu vào\n",
    "- **Dataset:** 450 mã cổ phiếu đã được lọc theo FA score (A+, A, B+, B)\n",
    "- **Thời gian:** 2022-2025 (gần 3 năm dữ liệu)\n",
    "- **Tần suất:** Dữ liệu ngày\n",
    "- **Chỉ báo:** 40+ features kỹ thuật và cơ bản\n"
   ]
  },
  {
   "cell_type": "code",
   "execution_count": 3,
   "metadata": {},
   "outputs": [
    {
     "name": "stdout",
     "output_type": "stream",
     "text": [
      "🚀 Bắt đầu cài đặt các thư viện ML...\n",
      "==================================================\n",
      "✅ xgboost đã được cài đặt\n",
      "✅ lightgbm đã được cài đặt\n",
      "✅ optuna đã được cài đặt\n",
      "✅ imblearn đã được cài đặt\n",
      "\n",
      "✅ Hoàn thành cài đặt tất cả thư viện!\n",
      "🎯 Sẵn sàng để sử dụng XGBoost và LightGBM!\n"
     ]
    }
   ],
   "source": [
    "# Cài đặt các thư viện cần thiết cho XGBoost và LightGBM\n",
    "import subprocess\n",
    "import sys\n",
    "\n",
    "def install_package(package):\n",
    "    \"\"\"Cài đặt package nếu chưa có\"\"\"\n",
    "    try:\n",
    "        __import__(package)\n",
    "        print(f\"✅ {package} đã được cài đặt\")\n",
    "    except ImportError:\n",
    "        print(f\"📦 Đang cài đặt {package}...\")\n",
    "        subprocess.check_call([sys.executable, \"-m\", \"pip\", \"install\", package])\n",
    "        print(f\"✅ Đã cài đặt {package} thành công\")\n",
    "\n",
    "# Cài đặt các thư viện cần thiết\n",
    "packages_to_install = [\n",
    "    \"xgboost\",\n",
    "    \"lightgbm\",\n",
    "    \"optuna\",\n",
    "    \"imblearn\" \n",
    "]\n",
    "\n",
    "print(\"🚀 Bắt đầu cài đặt các thư viện ML...\")\n",
    "print(\"=\"*50)\n",
    "\n",
    "for package in packages_to_install:\n",
    "    install_package(package)\n",
    "\n",
    "print(\"\\n✅ Hoàn thành cài đặt tất cả thư viện!\")\n",
    "print(\"🎯 Sẵn sàng để sử dụng XGBoost và LightGBM!\")\n"
   ]
  },
  {
   "cell_type": "code",
   "execution_count": 6,
   "metadata": {
    "id": "4wng7xIGid2v"
   },
   "outputs": [
    {
     "name": "stdout",
     "output_type": "stream",
     "text": [
      "✅ XGBoost available\n",
      "✅ LightGBM available\n",
      "Đã import thành công tất cả thư viện cần thiết\n"
     ]
    }
   ],
   "source": [
    "# Import các thư viện cần thiết\n",
    "import pandas as pd\n",
    "import numpy as np\n",
    "import matplotlib.pyplot as plt\n",
    "import seaborn as sns\n",
    "from datetime import datetime, timedelta\n",
    "import warnings\n",
    "warnings.filterwarnings('ignore')\n",
    "\n",
    "# Machine Learning libraries\n",
    "from sklearn.ensemble import RandomForestRegressor, GradientBoostingRegressor\n",
    "from sklearn.linear_model import LogisticRegression, SGDClassifier\n",
    "from sklearn.svm import SVR, LinearSVC\n",
    "from sklearn.neighbors import KNeighborsRegressor\n",
    "from sklearn.decomposition import PCA\n",
    "from sklearn.cluster import KMeans\n",
    "from sklearn.preprocessing import StandardScaler, RobustScaler\n",
    "from sklearn.model_selection import train_test_split, cross_val_score, TimeSeriesSplit\n",
    "from sklearn.metrics import mean_squared_error, r2_score, classification_report\n",
    "\n",
    "# Advanced Tree-based Models\n",
    "try:\n",
    "    import xgboost as xgb\n",
    "    XGBOOST_AVAILABLE = True\n",
    "    print(\"✅ XGBoost available\")\n",
    "except ImportError:\n",
    "    XGBOOST_AVAILABLE = False\n",
    "    print(\"⚠️ XGBoost not available - install with: pip install xgboost\")\n",
    "\n",
    "try:\n",
    "    import lightgbm as lgb\n",
    "    LIGHTGBM_AVAILABLE = True\n",
    "    print(\"✅ LightGBM available\")\n",
    "except ImportError:\n",
    "    LIGHTGBM_AVAILABLE = False\n",
    "    print(\"⚠️ LightGBM not available - install with: pip install lightgbm\")\n",
    "\n",
    "# Visualization\n",
    "plt.style.use('seaborn-v0_8')\n",
    "plt.rcParams['figure.figsize'] = (12, 8)\n",
    "plt.rcParams['font.size'] = 10\n",
    "\n",
    "print(\"Đã import thành công tất cả thư viện cần thiết\")"
   ]
  },
  {
   "cell_type": "code",
   "execution_count": 7,
   "metadata": {},
   "outputs": [
    {
     "name": "stdout",
     "output_type": "stream",
     "text": [
      "📊 Dataset shape: (77023, 48)\n",
      "📈 Số mã cổ phiếu: 103\n",
      "📅 Thời gian: 1/10/2023 0:00 - 9/9/2024 0:00\n",
      "\n",
      "🏭 Top 5 ngành theo số lượng records:\n",
      "industry\n",
      "Công nghiệp              7490\n",
      "Tiện ích                 7490\n",
      "Chăm sóc sức khỏe        7490\n",
      "Dịch vụ truyền thông    7490\n",
      "Bất động sản             7490\n",
      "Name: count, dtype: int64\n",
      "\n",
      "💰 Thống kê tỷ suất sinh lời:\n",
      "ret_1d: Mean=0.0010, Std=0.0309, Positive%=32.9%\n",
      "ret_5d: Mean=0.0044, Std=0.0625, Positive%=43.2%\n",
      "ret_20d: Mean=0.0162, Std=0.1138, Positive%=51.3%\n"
     ]
    }
   ],
   "source": [
    "# Load và khám phá dữ liệu\n",
    "df = pd.read_csv('filtered_final.csv')\n",
    "print(f\"📊 Dataset shape: {df.shape}\")\n",
    "print(f\"📈 Số mã cổ phiếu: {df['ticker'].nunique()}\")\n",
    "print(f\"📅 Thời gian: {df['timestamp'].min()} - {df['timestamp'].max()}\")\n",
    "\n",
    "# Chuyển đổi timestamp\n",
    "df['timestamp'] = pd.to_datetime(df['timestamp'])\n",
    "df = df.sort_values(['ticker', 'timestamp']).reset_index(drop=True)\n",
    "\n",
    "# Hiển thị thông tin cơ bản\n",
    "print(\"\\n🏭 Top 5 ngành theo số lượng records:\")\n",
    "print(df['industry'].value_counts().head())\n",
    "\n",
    "print(\"\\n💰 Thống kê tỷ suất sinh lời:\")\n",
    "return_cols = ['ret_1d', 'ret_5d', 'ret_20d']\n",
    "for col in return_cols:\n",
    "    if col in df.columns:\n",
    "        data = df[col].dropna()\n",
    "        print(f\"{col}: Mean={data.mean():.4f}, Std={data.std():.4f}, Positive%={((data > 0).mean()*100):.1f}%\")\n"
   ]
  },
  {
   "cell_type": "markdown",
   "metadata": {
    "id": "CIwUOA1j9wpv"
   },
   "source": [
    "## 2. PHÂN TÍCH DỮ LIỆU (EDA)\n",
    "\n",
    "### 2.1 Tổng quan Dataset\n",
    "\n",
    "**Đặc điểm chính của dataset:**\n",
    "- **Kích thước:** 331,170 dòng × 48 cột\n",
    "- **Số mã cổ phiếu:** 449 mã (đã lọc theo FA score A+, A, B+, B)\n",
    "- **Thời gian:** 2022-08-30 đến 2025-08-29 (gần 3 năm)\n",
    "- **Missing values:** Một số chỉ báo có missing values (MFI: 19.7%, ADX: 13.3%)\n",
    "\n",
    "### 2.2 Phân bố theo ngành nghề\n",
    "\n",
    "Dataset bao gồm 11 ngành chính với phân bố:\n",
    "- **Công nghiệp:** 83,010 records (25.1%)\n",
    "- **Tiện ích:** 54,663 records (16.5%)  \n",
    "- **Nguyên vật liệu:** 54,158 records (16.4%)\n",
    "- **Tiêu dùng thiết yếu:** 34,546 records (10.4%)\n",
    "- **Các ngành khác:** 104,793 records (31.6%)\n"
   ]
  },
  {
   "cell_type": "code",
   "execution_count": 8,
   "metadata": {
    "id": "WFuemcQFi2fY"
   },
   "outputs": [
    {
     "name": "stdout",
     "output_type": "stream",
     "text": [
      "Dataset shape: (77023, 48)\n",
      "Số mã cổ phiếu: 103\n",
      "Thời gian: 2022-08-30 00:00:00 - 2025-08-29 00:00:00\n",
      "\n",
      "Top 5 ngành theo số lượng records:\n",
      "industry\n",
      "Công nghiệp              7490\n",
      "Tiện ích                 7490\n",
      "Chăm sóc sức khỏe        7490\n",
      "Dịch vụ truyền thông    7490\n",
      "Bất động sản             7490\n",
      "Name: count, dtype: int64\n",
      "\n",
      "Thống kê tỷ suất sinh lời:\n",
      "ret_1d: Mean=0.0010, Std=0.0309, Positive%=32.9%\n",
      "ret_5d: Mean=0.0044, Std=0.0625, Positive%=43.2%\n",
      "ret_20d: Mean=0.0162, Std=0.1138, Positive%=51.3%\n"
     ]
    }
   ],
   "source": [
    "# Load và khám phá dữ liệu\n",
    "print(f\"Dataset shape: {df.shape}\")\n",
    "print(f\"Số mã cổ phiếu: {df['ticker'].nunique()}\")\n",
    "print(f\"Thời gian: {df['timestamp'].min()} - {df['timestamp'].max()}\")\n",
    "\n",
    "# Chuyển đổi timestamp\n",
    "df['timestamp'] = pd.to_datetime(df['timestamp'])\n",
    "df = df.sort_values(['ticker', 'timestamp']).reset_index(drop=True)\n",
    "\n",
    "# Hiển thị thông tin cơ bản\n",
    "print(\"\\nTop 5 ngành theo số lượng records:\")\n",
    "print(df['industry'].value_counts().head())\n",
    "\n",
    "print(\"\\nThống kê tỷ suất sinh lời:\")\n",
    "return_cols = ['ret_1d', 'ret_5d', 'ret_20d']\n",
    "for col in return_cols:\n",
    "    if col in df.columns:\n",
    "        data = df[col].dropna()\n",
    "        print(f\"{col}: Mean={data.mean():.4f}, Std={data.std():.4f}, Positive%={((data > 0).mean()*100):.1f}%\")"
   ]
  },
  {
   "cell_type": "markdown",
   "metadata": {
    "id": "EC_xq7mm92iA"
   },
   "source": [
    "## 3. FEATURE ENGINEERING - TẠO CÁC CHỈ BÁO KẾT HỢP\n",
    "\n",
    "### 3.1 Chiến lược Feature Engineering\n",
    "\n",
    "Dựa trên phân tích EDA, tôi sẽ tạo các features nâng cao:\n",
    "\n",
    "1. **Composite Technical Scores:** Kết hợp nhiều chỉ báo kỹ thuật\n",
    "2. **Momentum Indicators:** Đo lường xu hướng và động lượng\n",
    "3. **Risk Metrics:** Các chỉ số đo lường rủi ro\n",
    "4. **Signal Strength:** Độ mạnh của tín hiệu giao dịch\n",
    "5. **Multi-timeframe Analysis:** Phân tích đa khung thời gian\n"
   ]
  },
  {
   "cell_type": "code",
   "execution_count": 9,
   "metadata": {
    "id": "UgcUqaGqi85P"
   },
   "outputs": [
    {
     "name": "stdout",
     "output_type": "stream",
     "text": [
      "Đang tạo advanced features...\n",
      "  - Tạo bullish_score từ 12 signals\n",
      "  - Tạo bearish_score từ 5 signals\n",
      "  - Tạo momentum indicators\n",
      "  - Tạo volatility metrics\n",
      "  - Tạo RSI enhanced features\n",
      "  - Tạo volume analysis features\n",
      "  - Tạo price action features\n",
      "  - Tạo trend strength indicators\n",
      "  - Tạo sector momentum features\n",
      "\n",
      "Hoàn thành! Đã tạo 24 features mới:\n",
      "    1. bullish_score\n",
      "    2. bullish_ratio\n",
      "    3. bearish_score\n",
      "    4. bearish_ratio\n",
      "    5. net_signal_score\n",
      "    6. momentum_consistency\n",
      "    7. momentum_accel\n",
      "    8. volatility_5d\n",
      "    9. volatility_20d\n",
      "   10. rsi_momentum\n",
      "   11. rsi_oversold\n",
      "   12. rsi_overbought\n",
      "   13. rsi_neutral\n",
      "   14. volume_ma5\n",
      "   15. volume_ratio\n",
      "   16. high_volume\n",
      "   17. daily_range\n",
      "   18. body_ratio\n",
      "   19. gap_size\n",
      "   20. gap_up\n",
      "   21. gap_down\n",
      "   22. trend_strength\n",
      "   23. sector_ret_5d\n",
      "   24. relative_to_sector\n",
      "\n",
      "Enhanced dataset shape: (77023, 72)\n"
     ]
    }
   ],
   "source": [
    "def create_advanced_features(df):\n",
    "    \"\"\"\n",
    "    Tạo các features nâng cao từ dữ liệu kỹ thuật\n",
    "    \"\"\"\n",
    "    print(\"Đang tạo advanced features...\")\n",
    "    df_enhanced = df.copy()\n",
    "\n",
    "    # 1. COMPOSITE TECHNICAL SCORE\n",
    "    # Tín hiệu tăng giá (bullish signals)\n",
    "    bullish_signals = [\n",
    "        'px_gt_SMA50', 'EMA20_gt_SMA50', 'px_cross_up_SMA20', 'px_cross_up_EMA20',\n",
    "        'macd_cross_up', 'macd_above_zero', 'RSI_cross_up30', 'stoch_cross_up',\n",
    "        'bb_break_upper', 'px_gt_PSAR', 'PSAR_flip_up', 'px_above_cloud'\n",
    "    ]\n",
    "    available_bullish = [col for col in bullish_signals if col in df.columns]\n",
    "\n",
    "    if available_bullish:\n",
    "        df_enhanced['bullish_score'] = df_enhanced[available_bullish].fillna(0).sum(axis=1)\n",
    "        df_enhanced['bullish_ratio'] = df_enhanced['bullish_score'] / len(available_bullish)\n",
    "        print(f\"  - Tạo bullish_score từ {len(available_bullish)} signals\")\n",
    "\n",
    "    # Tín hiệu giảm giá (bearish signals)\n",
    "    bearish_signals = [\n",
    "        'px_cross_dn_SMA20', 'px_cross_dn_EMA20', 'RSI_cross_dn70',\n",
    "        'bb_break_lower', 'DeathCross'\n",
    "    ]\n",
    "    available_bearish = [col for col in bearish_signals if col in df.columns]\n",
    "\n",
    "    if available_bearish:\n",
    "        df_enhanced['bearish_score'] = df_enhanced[available_bearish].fillna(0).sum(axis=1)\n",
    "        df_enhanced['bearish_ratio'] = df_enhanced['bearish_score'] / len(available_bearish)\n",
    "        print(f\"  - Tạo bearish_score từ {len(available_bearish)} signals\")\n",
    "\n",
    "    # Net signal score\n",
    "    if 'bullish_score' in df_enhanced.columns and 'bearish_score' in df_enhanced.columns:\n",
    "        df_enhanced['net_signal_score'] = df_enhanced['bullish_score'] - df_enhanced['bearish_score']\n",
    "\n",
    "    # 2. MOMENTUM INDICATORS\n",
    "    if all(col in df.columns for col in ['ret_1d', 'ret_5d', 'ret_20d']):\n",
    "        # Momentum consistency\n",
    "        df_enhanced['momentum_consistency'] = (\n",
    "            (df_enhanced['ret_1d'] > 0).astype(int) +\n",
    "            (df_enhanced['ret_5d'] > 0).astype(int) +\n",
    "            (df_enhanced['ret_20d'] > 0).astype(int)\n",
    "        ) / 3\n",
    "\n",
    "        # Momentum acceleration\n",
    "        df_enhanced['momentum_accel'] = (\n",
    "            df_enhanced['ret_1d'] - df_enhanced['ret_5d']/5\n",
    "        )\n",
    "        print(\"  - Tạo momentum indicators\")\n",
    "\n",
    "    # 3. VOLATILITY & RISK METRICS\n",
    "    if 'ret_1d' in df.columns:\n",
    "        # Rolling volatility\n",
    "        df_enhanced['volatility_5d'] = (\n",
    "            df_enhanced.groupby('ticker')['ret_1d']\n",
    "            .rolling(5, min_periods=3).std()\n",
    "            .reset_index(0, drop=True)\n",
    "        )\n",
    "        df_enhanced['volatility_20d'] = (\n",
    "            df_enhanced.groupby('ticker')['ret_1d']\n",
    "            .rolling(20, min_periods=10).std()\n",
    "            .reset_index(0, drop=True)\n",
    "        )\n",
    "        print(\"  - Tạo volatility metrics\")\n",
    "\n",
    "    # 4. RSI ENHANCED FEATURES\n",
    "    if 'rsi14' in df.columns:\n",
    "        # RSI momentum\n",
    "        df_enhanced['rsi_momentum'] = (\n",
    "            df_enhanced.groupby('ticker')['rsi14']\n",
    "            .diff().fillna(0)\n",
    "        )\n",
    "\n",
    "        # RSI zones\n",
    "        df_enhanced['rsi_oversold'] = (df_enhanced['rsi14'] < 30).astype(int)\n",
    "        df_enhanced['rsi_overbought'] = (df_enhanced['rsi14'] > 70).astype(int)\n",
    "        df_enhanced['rsi_neutral'] = (\n",
    "            (df_enhanced['rsi14'] >= 40) & (df_enhanced['rsi14'] <= 60)\n",
    "        ).astype(int)\n",
    "        print(\"  - Tạo RSI enhanced features\")\n",
    "\n",
    "    # 5. VOLUME ANALYSIS\n",
    "    if 'volume' in df.columns:\n",
    "        # Volume moving averages\n",
    "        df_enhanced['volume_ma5'] = (\n",
    "            df_enhanced.groupby('ticker')['volume']\n",
    "            .rolling(5, min_periods=3).mean()\n",
    "            .reset_index(0, drop=True)\n",
    "        )\n",
    "\n",
    "        # Volume relative strength\n",
    "        df_enhanced['volume_ratio'] = (\n",
    "            df_enhanced['volume'] / (df_enhanced['volume_ma5'] + 1)\n",
    "        )\n",
    "\n",
    "        # High volume signals\n",
    "        df_enhanced['high_volume'] = (df_enhanced['volume_ratio'] > 2).astype(int)\n",
    "        print(\"  - Tạo volume analysis features\")\n",
    "\n",
    "    # 6. PRICE ACTION FEATURES\n",
    "    if all(col in df.columns for col in ['open', 'high', 'low', 'close']):\n",
    "        # Daily range\n",
    "        df_enhanced['daily_range'] = (\n",
    "            (df_enhanced['high'] - df_enhanced['low']) / df_enhanced['close']\n",
    "        )\n",
    "\n",
    "        # Body vs shadow ratio (candlestick analysis)\n",
    "        df_enhanced['body_ratio'] = (\n",
    "            abs(df_enhanced['close'] - df_enhanced['open']) /\n",
    "            (df_enhanced['high'] - df_enhanced['low'] + 1e-8)\n",
    "        )\n",
    "\n",
    "        # Gap analysis\n",
    "        if 'gap_open' in df.columns:\n",
    "            df_enhanced['gap_size'] = abs(df_enhanced['gap_open'])\n",
    "            df_enhanced['gap_up'] = (df_enhanced['gap_open'] > 0.02).astype(int)\n",
    "            df_enhanced['gap_down'] = (df_enhanced['gap_open'] < -0.02).astype(int)\n",
    "\n",
    "        print(\"  - Tạo price action features\")\n",
    "\n",
    "    # 7. TREND STRENGTH INDICATORS\n",
    "    if all(col in df.columns for col in ['adx', 'rsi14']):\n",
    "        # Combined trend strength\n",
    "        df_enhanced['trend_strength'] = (\n",
    "            (df_enhanced['adx'].fillna(25) / 100) * 0.6 +\n",
    "            (abs(df_enhanced['rsi14'].fillna(50) - 50) / 50) * 0.4\n",
    "        )\n",
    "        print(\"  - Tạo trend strength indicators\")\n",
    "\n",
    "    # 8. SECTOR MOMENTUM\n",
    "    if 'industry' in df.columns and 'ret_5d' in df.columns:\n",
    "        # Sector relative performance\n",
    "        sector_performance = (\n",
    "            df_enhanced.groupby(['industry', df_enhanced['timestamp'].dt.date])['ret_5d']\n",
    "            .mean().reset_index()\n",
    "        )\n",
    "        sector_performance.columns = ['industry', 'date', 'sector_ret_5d']\n",
    "\n",
    "        df_enhanced['date'] = df_enhanced['timestamp'].dt.date\n",
    "        df_enhanced = df_enhanced.merge(\n",
    "            sector_performance,\n",
    "            on=['industry', 'date'],\n",
    "            how='left'\n",
    "        )\n",
    "\n",
    "        # Relative to sector performance\n",
    "        df_enhanced['relative_to_sector'] = (\n",
    "            df_enhanced['ret_5d'] - df_enhanced['sector_ret_5d']\n",
    "        )\n",
    "        df_enhanced.drop('date', axis=1, inplace=True)\n",
    "        print(\"  - Tạo sector momentum features\")\n",
    "\n",
    "    # Summary\n",
    "    new_features = [col for col in df_enhanced.columns if col not in df.columns]\n",
    "    print(f\"\\nHoàn thành! Đã tạo {len(new_features)} features mới:\")\n",
    "    for i, feature in enumerate(new_features, 1):\n",
    "        print(f\"   {i:2d}. {feature}\")\n",
    "\n",
    "    return df_enhanced\n",
    "\n",
    "# Áp dụng feature engineering\n",
    "df_enhanced = create_advanced_features(df)\n",
    "print(f\"\\nEnhanced dataset shape: {df_enhanced.shape}\")"
   ]
  },
  {
   "cell_type": "markdown",
   "metadata": {
    "id": "TY_3P1su96_a"
   },
   "source": [
    "## 4. THIẾT KẾ CHIẾN LƯỢC LỰA CHỌN CỔ PHIẾU\n",
    "\n",
    "### 4.1 Khung tư duy chiến lược\n",
    "\n",
    "**Mục tiêu:** Xây dựng hệ thống scoring đa tầng để lựa chọn cổ phiếu có tiềm năng sinh lời cao\n",
    "\n",
    "**Các thành phần chính:**\n",
    "1. **Technical Score (40%):** Điểm số từ các chỉ báo kỹ thuật\n",
    "2. **Momentum Score (30%):** Xu hướng và động lượng giá\n",
    "3. **Risk-Adjusted Score (20%):** Tỷ lệ rủi ro/lợi nhuận  \n",
    "4. **Volume & Liquidity Score (10%):** Thanh khoản và khối lượng\n",
    "\n",
    "### 4.2 Logic Scoring System\n"
   ]
  },
  {
   "cell_type": "code",
   "execution_count": 10,
   "metadata": {
    "id": "2EDQUGrnGZQq"
   },
   "outputs": [
    {
     "name": "stdout",
     "output_type": "stream",
     "text": [
      "🎯 Tính toán Composite Score...\n",
      "📊 Tính toán Technical Score...\n",
      "🚀 Tính toán Momentum Score...\n",
      "⚖️ Tính toán Risk-Adjusted Score...\n",
      "📈 Tính toán Volume Score...\n",
      "\n",
      "✅ Đã tính toán xong các điểm số!\n",
      "📊 Composite Score - Mean: 30.35, Std: 11.30\n"
     ]
    }
   ],
   "source": [
    "class StockScoringSystem:\n",
    "    \"\"\"\n",
    "    Hệ thống chấm điểm cổ phiếu đa tầng\n",
    "    \"\"\"\n",
    "\n",
    "    def __init__(self):\n",
    "        self.weights = {\n",
    "            'technical': 0.40,\n",
    "            'momentum': 0.30,\n",
    "            'risk_adjusted': 0.20,\n",
    "            'volume_liquidity': 0.10\n",
    "        }\n",
    "\n",
    "    def calculate_technical_score(self, df):\n",
    "        \"\"\"Tính điểm kỹ thuật (0-100)\"\"\"\n",
    "        print(\"📊 Tính toán Technical Score...\")\n",
    "\n",
    "        scores = []\n",
    "\n",
    "        # 1. Trend signals (40 points)\n",
    "        trend_score = 0\n",
    "        if 'bullish_ratio' in df.columns:\n",
    "            trend_score += df['bullish_ratio'] * 20  # 0-20 points\n",
    "        if 'bearish_ratio' in df.columns:\n",
    "            trend_score -= df['bearish_ratio'] * 10  # penalty for bearish\n",
    "        if 'net_signal_score' in df.columns:\n",
    "            # Normalize net signal score to 0-20 range\n",
    "            trend_score += np.clip(df['net_signal_score'] * 2, -10, 20)\n",
    "        scores.append(np.clip(trend_score, 0, 40))\n",
    "\n",
    "        # 2. RSI score (20 points)\n",
    "        rsi_score = 0\n",
    "        if 'rsi14' in df.columns:\n",
    "            rsi = df['rsi14'].fillna(50)\n",
    "            # Optimal RSI range: 40-60 gets full points\n",
    "            # Oversold (30-40) gets partial points\n",
    "            # Overbought (60-80) gets reduced points\n",
    "            rsi_score = np.where(\n",
    "                (rsi >= 40) & (rsi <= 60), 20,\n",
    "                np.where(\n",
    "                    (rsi >= 30) & (rsi < 40), 15,\n",
    "                    np.where(\n",
    "                        (rsi > 60) & (rsi <= 70), 10,\n",
    "                        np.where(rsi > 70, 5, 0)\n",
    "                    )\n",
    "                )\n",
    "            )\n",
    "        scores.append(rsi_score)\n",
    "\n",
    "        # 3. MACD score (20 points)\n",
    "        macd_score = 0\n",
    "        if 'macd' in df.columns:\n",
    "            macd = df['macd'].fillna(0)\n",
    "            macd_score += np.where(macd > 0, 10, 0)  # MACD above zero\n",
    "        if 'macd_cross_up' in df.columns:\n",
    "            macd_score += df['macd_cross_up'] * 10  # Recent bullish crossover\n",
    "        scores.append(np.clip(macd_score, 0, 20))\n",
    "\n",
    "        # 4. ADX trend strength (20 points)\n",
    "        adx_score = 0\n",
    "        if 'trend_strength' in df.columns:\n",
    "            # Higher trend strength gets more points\n",
    "            adx_score = df['trend_strength'].fillna(0.25) * 20\n",
    "        scores.append(np.clip(adx_score, 0, 20))\n",
    "\n",
    "        # Combine all technical scores\n",
    "        technical_score = sum(scores)\n",
    "        return np.clip(technical_score, 0, 100)\n",
    "\n",
    "    def calculate_momentum_score(self, df):\n",
    "        \"\"\"Tính điểm momentum (0-100)\"\"\"\n",
    "        print(\"🚀 Tính toán Momentum Score...\")\n",
    "\n",
    "        scores = []\n",
    "\n",
    "        # 1. Multi-timeframe momentum (40 points)\n",
    "        if 'momentum_consistency' in df.columns:\n",
    "            scores.append(df['momentum_consistency'] * 40)\n",
    "\n",
    "        # 2. Recent performance (30 points)\n",
    "        if all(col in df.columns for col in ['ret_1d', 'ret_5d']):\n",
    "            ret_1d = df['ret_1d'].fillna(0)\n",
    "            ret_5d = df['ret_5d'].fillna(0)\n",
    "\n",
    "            # Weight recent performance more\n",
    "            recent_score = (ret_1d * 0.6 + ret_5d * 0.4) * 100\n",
    "            scores.append(np.clip(recent_score, -10, 30))\n",
    "\n",
    "        # 3. Momentum acceleration (30 points)\n",
    "        if 'momentum_accel' in df.columns:\n",
    "            accel_score = df['momentum_accel'].fillna(0) * 150\n",
    "            scores.append(np.clip(accel_score, -10, 30))\n",
    "\n",
    "        momentum_score = sum(scores) if scores else 0\n",
    "        return np.clip(momentum_score, 0, 100)\n",
    "\n",
    "    def calculate_risk_adjusted_score(self, df):\n",
    "        \"\"\"Tính điểm risk-adjusted (0-100)\"\"\"\n",
    "        print(\"⚖️ Tính toán Risk-Adjusted Score...\")\n",
    "\n",
    "        scores = []\n",
    "\n",
    "        # 1. Volatility score (50 points) - lower volatility is better\n",
    "        if 'volatility_20d' in df.columns:\n",
    "            vol = df['volatility_20d'].fillna(df['volatility_20d'].median())\n",
    "            # Normalize volatility (lower is better)\n",
    "            vol_percentile = vol.rank(pct=True)\n",
    "            vol_score = (1 - vol_percentile) * 50\n",
    "            scores.append(vol_score)\n",
    "\n",
    "        # 2. Sharpe-like ratio (50 points)\n",
    "        if all(col in df.columns for col in ['ret_20d', 'volatility_20d']):\n",
    "            ret = df['ret_20d'].fillna(0)\n",
    "            vol = df['volatility_20d'].fillna(0.01)\n",
    "\n",
    "            sharpe_like = ret / (vol + 1e-8)\n",
    "            sharpe_score = np.clip(sharpe_like * 10, -25, 50)\n",
    "            scores.append(sharpe_score)\n",
    "\n",
    "        risk_score = sum(scores) if scores else 50\n",
    "        return np.clip(risk_score, 0, 100)\n",
    "\n",
    "    def calculate_volume_score(self, df):\n",
    "        \"\"\"Tính điểm volume & liquidity (0-100)\"\"\"\n",
    "        print(\"📈 Tính toán Volume Score...\")\n",
    "\n",
    "        scores = []\n",
    "\n",
    "        # 1. Volume trend (50 points)\n",
    "        if 'volume_ratio' in df.columns:\n",
    "            vol_ratio = df['volume_ratio'].fillna(1)\n",
    "            # Higher volume ratio is better (up to a point)\n",
    "            vol_score = np.clip(vol_ratio * 25, 0, 50)\n",
    "            scores.append(vol_score)\n",
    "\n",
    "        # 2. Volume surge signals (50 points)\n",
    "        if 'high_volume' in df.columns:\n",
    "            scores.append(df['high_volume'] * 30)\n",
    "        if 'vol_surge' in df.columns:\n",
    "            scores.append(df['vol_surge'] * 20)\n",
    "\n",
    "        volume_score = sum(scores) if scores else 50\n",
    "        return np.clip(volume_score, 0, 100)\n",
    "\n",
    "    def calculate_composite_score(self, df):\n",
    "        \"\"\"Tính điểm tổng hợp cuối cùng\"\"\"\n",
    "        print(\"🎯 Tính toán Composite Score...\")\n",
    "\n",
    "        # Calculate individual scores\n",
    "        technical = self.calculate_technical_score(df)\n",
    "        momentum = self.calculate_momentum_score(df)\n",
    "        risk_adj = self.calculate_risk_adjusted_score(df)\n",
    "        volume = self.calculate_volume_score(df)\n",
    "\n",
    "        # Weighted combination\n",
    "        composite = (\n",
    "            technical * self.weights['technical'] +\n",
    "            momentum * self.weights['momentum'] +\n",
    "            risk_adj * self.weights['risk_adjusted'] +\n",
    "            volume * self.weights['volume_liquidity']\n",
    "        )\n",
    "\n",
    "        return {\n",
    "            'technical_score': technical,\n",
    "            'momentum_score': momentum,\n",
    "            'risk_adjusted_score': risk_adj,\n",
    "            'volume_score': volume,\n",
    "            'composite_score': composite\n",
    "        }\n",
    "\n",
    "# Tạo scoring system và tính điểm\n",
    "scorer = StockScoringSystem()\n",
    "scores = scorer.calculate_composite_score(df_enhanced)\n",
    "\n",
    "# Add scores to dataframe\n",
    "for score_type, values in scores.items():\n",
    "    df_enhanced[score_type] = values\n",
    "\n",
    "# Hiển thị từng score chi tiết\n",
    "\n",
    "print(f\"\\n✅ Đã tính toán xong các điểm số!\")\n",
    "print(f\"📊 Composite Score - Mean: {df_enhanced['composite_score'].mean():.2f}, Std: {df_enhanced['composite_score'].std():.2f}\")\n"
   ]
  },
  {
   "cell_type": "markdown",
   "metadata": {
    "id": "Id0JzgVm-Cqv"
   },
   "source": [
    "## 5. MACHINE LEARNING - TỐI ƯU HÓA TRỌNG SỐ\n",
    "\n",
    "### 5.1 Chuẩn bị dữ liệu cho ML Models\n",
    "\n",
    "Tôi sẽ sử dụng nhiều mô hình ML khác nhau để:\n",
    "1. **Tối ưu hóa trọng số** cho các chỉ báo kỹ thuật\n",
    "2. **Dự đoán khả năng sinh lời** trong tương lai\n",
    "3. **Phân loại cổ phiếu** theo mức độ tiềm năng\n",
    "4. **Clustering** để nhóm cổ phiếu có đặc điểm tương tự\n"
   ]
  },
  {
   "cell_type": "code",
   "execution_count": 18,
   "metadata": {
    "id": "xLTXlzawjRtJ"
   },
   "outputs": [
    {
     "name": "stdout",
     "output_type": "stream",
     "text": [
      " Tạo target variables cho Mô hình.\n",
      "  Tạo targets cho 5 ngày\n",
      "  Tạo targets cho 10 ngày\n",
      "  Tạo targets cho 20 ngày\n",
      "\n",
      " Sử dụng 20 features cho ML:\n",
      "    1. rsi14\n",
      "    2. macd\n",
      "    3. adx\n",
      "    4. mfi\n",
      "    5. bullish_score\n",
      "    6. bearish_score\n",
      "    7. net_signal_score\n",
      "    8. momentum_consistency\n",
      "    9. momentum_accel\n",
      "   10. volatility_5d\n",
      "   11. volatility_20d\n",
      "   12. rsi_momentum\n",
      "   13. volume_ratio\n",
      "   14. daily_range\n",
      "   15. body_ratio\n",
      "   16. trend_strength\n",
      "   17. technical_score\n",
      "   18. momentum_score\n",
      "   19. risk_adjusted_score\n",
      "   20. volume_score\n",
      "\n",
      " ML Dataset shape: (77023, 83)\n"
     ]
    }
   ],
   "source": [
    "# Tạo target variables cho ML\n",
    "def create_ml_targets(df, forward_periods=[5, 10, 20]):\n",
    "    \"\"\"Tạo target variables cho machine learning\"\"\"\n",
    "    print(\" Tạo target variables cho Mô hình.\")\n",
    "\n",
    "    df_ml = df.copy()\n",
    "\n",
    "    for period in forward_periods:\n",
    "        # Future returns\n",
    "        df_ml[f'future_ret_{period}d'] = (\n",
    "            df_ml.groupby('ticker')['close']\n",
    "            .pct_change(period).shift(-period)\n",
    "        )\n",
    "\n",
    "        # Binary classification: outperform median\n",
    "        median_return = df_ml[f'future_ret_{period}d'].median()\n",
    "        df_ml[f'outperform_{period}d'] = (\n",
    "            df_ml[f'future_ret_{period}d'] > median_return\n",
    "        ).astype(int)\n",
    "\n",
    "        print(f\"  Tạo targets cho {period} ngày\")\n",
    "\n",
    "    return df_ml\n",
    "\n",
    "# Tạo targets\n",
    "df_ml = create_ml_targets(df_enhanced)\n",
    "\n",
    "# Prepare feature matrix\n",
    "feature_columns = [\n",
    "    # Technical indicators\n",
    "    'rsi14', 'macd', 'adx', 'mfi',\n",
    "    # Enhanced features\n",
    "    'bullish_score', 'bearish_score', 'net_signal_score',\n",
    "    'momentum_consistency', 'momentum_accel',\n",
    "    'volatility_5d', 'volatility_20d', 'rsi_momentum',\n",
    "    'volume_ratio', 'daily_range', 'body_ratio', 'trend_strength',\n",
    "    # Scores\n",
    "    'technical_score', 'momentum_score', 'risk_adjusted_score', 'volume_score'\n",
    "]\n",
    "\n",
    "# Filter existing columns\n",
    "available_features = [col for col in feature_columns if col in df_ml.columns]\n",
    "print(f\"\\n Sử dụng {len(available_features)} features cho ML:\")\n",
    "for i, feat in enumerate(available_features, 1):\n",
    "    print(f\"   {i:2d}. {feat}\")\n",
    "\n",
    "print(f\"\\n ML Dataset shape: {df_ml.shape}\")\n"
   ]
  },
  {
   "cell_type": "code",
   "execution_count": 19,
   "metadata": {},
   "outputs": [
    {
     "name": "stdout",
     "output_type": "stream",
     "text": [
      "✅ Số feature tìm thấy trong df_ml: 20\n",
      "📌 Các feature dùng để tính correlation:\n",
      "['rsi14', 'macd', 'adx', 'mfi', 'bullish_score', 'bearish_score', 'net_signal_score', 'momentum_consistency', 'momentum_accel', 'volatility_5d', 'volatility_20d', 'rsi_momentum', 'volume_ratio', 'daily_range', 'body_ratio', 'trend_strength', 'technical_score', 'momentum_score', 'risk_adjusted_score', 'volume_score']\n",
      "\n",
      "📊 Top correlations (có thể gây multicollinearity):\n",
      "net_signal_score      bullish_score           0.972662\n",
      "bullish_score         net_signal_score        0.972662\n",
      "momentum_score        momentum_consistency    0.958410\n",
      "momentum_consistency  momentum_score          0.958410\n",
      "bullish_score         technical_score         0.904437\n",
      "technical_score       bullish_score           0.904437\n",
      "                      net_signal_score        0.899158\n",
      "net_signal_score      technical_score         0.899158\n",
      "volume_score          volume_ratio            0.889531\n",
      "volume_ratio          volume_score            0.889531\n",
      "trend_strength        adx                     0.880680\n",
      "adx                   trend_strength          0.880680\n",
      "net_signal_score      rsi14                   0.740525\n",
      "rsi14                 net_signal_score        0.740525\n",
      "                      bullish_score           0.732027\n",
      "dtype: float64\n"
     ]
    },
    {
     "data": {
      "image/png": "[encoded data removed]",
      "text/plain": [
       "<Figure size 1200x1000 with 2 Axes>"
      ]
     },
     "metadata": {},
     "output_type": "display_data"
    }
   ],
   "source": [
    "import seaborn as sns\n",
    "import matplotlib.pyplot as plt\n",
    "\n",
    "# 20 features bạn định nghĩa sẵn\n",
    "feature_columns = [\n",
    "    'rsi14', 'macd', 'adx', 'mfi',\n",
    "    'bullish_score', 'bearish_score', 'net_signal_score',\n",
    "    'momentum_consistency', 'momentum_accel',\n",
    "    'volatility_5d', 'volatility_20d', 'rsi_momentum',\n",
    "    'volume_ratio', 'daily_range', 'body_ratio', 'trend_strength',\n",
    "    'technical_score', 'momentum_score', 'risk_adjusted_score', 'volume_score'\n",
    "]\n",
    "\n",
    "# Giữ lại những feature thực sự có trong df_ml\n",
    "existing_features = [col for col in feature_columns if col in df_ml.columns]\n",
    "\n",
    "print(f\"✅ Số feature tìm thấy trong df_ml: {len(existing_features)}\")\n",
    "print(\"📌 Các feature dùng để tính correlation:\")\n",
    "print(existing_features)\n",
    "\n",
    "# Tạo dataset cho correlation\n",
    "feature_data = df_ml[existing_features].dropna()\n",
    "\n",
    "# Tính ma trận correlation\n",
    "corr_matrix = feature_data.corr()\n",
    "\n",
    "# In ra top correlations\n",
    "print(\"\\n📊 Top correlations (có thể gây multicollinearity):\")\n",
    "corr_pairs = (\n",
    "    corr_matrix.abs()\n",
    "    .unstack()\n",
    "    .sort_values(ascending=False)\n",
    ")\n",
    "# Bỏ self-correlation (1.0)\n",
    "corr_pairs = corr_pairs[corr_pairs < 1.0]\n",
    "print(corr_pairs.head(15))\n",
    "\n",
    "# Vẽ heatmap\n",
    "plt.figure(figsize=(12, 10))\n",
    "sns.heatmap(corr_matrix, annot=False, cmap='coolwarm', center=0)\n",
    "plt.title(\"Feature Correlation Heatmap\", fontsize=16)\n",
    "plt.show()\n"
   ]
  },
  {
   "cell_type": "code",
   "execution_count": 8,
   "metadata": {
    "scrolled": true
   },
   "outputs": [
    {
     "name": "stdout",
     "output_type": "stream",
     "text": [
      "================================================================================\n",
      "ML OPTIMIZATION - ADVANCED CLASSIFIERS WITH TIME SERIES HANDLING\n",
      "================================================================================\n",
      "[INFO] Preparing data for training with advanced feature engineering...\n",
      "[INFO] Clean data shape: (77023, 83)\n",
      "[INFO] Creating interaction features...\n",
      "[SUCCESS] Created 11 interaction features: ['tech_momentum_ratio', 'tech_momentum_sum', 'tech_momentum_diff', 'risk_reward_ratio', 'risk_momentum_interaction', 'volatility_momentum_diff', 'volatility_momentum_ratio', 'volume_price_interaction', 'volume_range_ratio', 'signal_strength', 'signal_balance']\n",
      "[INFO] Class distribution: {0: 41338, 1: 35685}\n",
      "[INFO] Imbalance ratio: 1.16\n",
      "[INFO] Scale pos weight: 1.158\n",
      "[SUCCESS] Data preparation completed\n",
      "[INFO] Training data shape: X=(77023, 31), y=(77023,)\n",
      "[INFO] Total features after engineering: 31\n",
      "🚀 Training ML Models - Classifiers Focus...\n",
      "   🔄 Training XGBoost_Classifier...\n",
      "      📊 Accuracy: 0.7746 (+/- 0.0023)\n",
      "      🎯 ROC-AUC:  0.8592 (+/- 0.0038)\n",
      "      ⚖️ F1-Score: 0.7655 (+/- 0.0187)\n",
      "   🔄 Training LightGBM_Classifier...\n",
      "      📊 Accuracy: 0.7755 (+/- 0.0035)\n",
      "      🎯 ROC-AUC:  0.8616 (+/- 0.0030)\n",
      "      ⚖️ F1-Score: 0.7680 (+/- 0.0171)\n",
      "   🔄 Training LogisticRegression...\n"
     ]
    },
    {
     "name": "stderr",
     "output_type": "stream",
     "text": [
      "[I 2025-09-03 23:23:37,853] A new study created in memory with name: no-name-5d681983-9db1-424c-8758-b7db26f75a89\n"
     ]
    },
    {
     "name": "stdout",
     "output_type": "stream",
     "text": [
      "      📊 Accuracy: 0.5379 (+/- 0.0221)\n",
      "      🎯 ROC-AUC:  0.6053 (+/- 0.0515)\n",
      "      ⚖️ F1-Score: 0.5352 (+/- 0.0526)\n",
      "[INFO] XGBoost_Classifier - Business Score: 0.8057 (ROC-AUC: 0.8592, F1: 0.7655, Recall: 0.7789)\n",
      "[INFO] LightGBM_Classifier - Business Score: 0.8092 (ROC-AUC: 0.8616, F1: 0.7680, Recall: 0.7870)\n",
      "[INFO] LogisticRegression - Business Score: 0.5691 (ROC-AUC: 0.6053, F1: 0.5352, Recall: 0.5647)\n",
      "[SUCCESS] Best Model: LightGBM_Classifier (Business Score: 0.8092)\n",
      "[INFO] Performing advanced Optuna tuning for LightGBM...\n",
      "[INFO] Advanced Hyperparameter Tuning for LightGBM using Optuna...\n"
     ]
    },
    {
     "name": "stderr",
     "output_type": "stream",
     "text": [
      "[I 2025-09-03 23:23:57,738] Trial 0 finished with value: 0.8522013577365454 and parameters: {'n_estimators': 1062, 'max_depth': 7, 'learning_rate': 0.14907884894416698, 'subsample': 0.8795975452591109, 'colsample_bytree': 0.7468055921327309, 'reg_alpha': 0.15599452033620265, 'reg_lambda': 0.05808361216819946, 'num_leaves': 112}. Best is trial 0 with value: 0.8522013577365454.\n"
     ]
    },
    {
     "name": "stdout",
     "output_type": "stream",
     "text": [
      "[INFO] Trial 0: ROC-AUC = 0.8522\n"
     ]
    },
    {
     "name": "stderr",
     "output_type": "stream",
     "text": [
      "[I 2025-09-03 23:24:15,850] Trial 1 finished with value: 0.8673149655513868 and parameters: {'n_estimators': 1402, 'max_depth': 6, 'learning_rate': 0.013911053916202464, 'subsample': 0.9909729556485982, 'colsample_bytree': 0.9497327922401265, 'reg_alpha': 0.21233911067827616, 'reg_lambda': 0.18182496720710062, 'num_leaves': 35}. Best is trial 1 with value: 0.8673149655513868.\n"
     ]
    },
    {
     "name": "stdout",
     "output_type": "stream",
     "text": [
      "[INFO] Trial 1: ROC-AUC = 0.8673\n"
     ]
    },
    {
     "name": "stderr",
     "output_type": "stream",
     "text": [
      "[I 2025-09-03 23:24:24,565] Trial 2 finished with value: 0.8586013353152598 and parameters: {'n_estimators': 956, 'max_depth': 5, 'learning_rate': 0.092069553542002, 'subsample': 0.7873687420594125, 'colsample_bytree': 0.8835558684167139, 'reg_alpha': 0.13949386065204183, 'reg_lambda': 0.29214464853521815, 'num_leaves': 56}. Best is trial 1 with value: 0.8673149655513868.\n"
     ]
    },
    {
     "name": "stdout",
     "output_type": "stream",
     "text": [
      "[INFO] Trial 2: ROC-AUC = 0.8586\n"
     ]
    },
    {
     "name": "stderr",
     "output_type": "stream",
     "text": [
      "[I 2025-09-03 23:24:37,809] Trial 3 finished with value: 0.8614987139629341 and parameters: {'n_estimators': 1184, 'max_depth': 6, 'learning_rate': 0.047938018610088354, 'subsample': 0.8542703315240835, 'colsample_bytree': 0.8777243706586128, 'reg_alpha': 0.046450412719997725, 'reg_lambda': 0.6075448519014384, 'num_leaves': 34}. Best is trial 1 with value: 0.8673149655513868.\n"
     ]
    },
    {
     "name": "stdout",
     "output_type": "stream",
     "text": [
      "[INFO] Trial 3: ROC-AUC = 0.8615\n"
     ]
    },
    {
     "name": "stderr",
     "output_type": "stream",
     "text": [
      "[I 2025-09-03 23:24:48,611] Trial 4 finished with value: 0.8523662542311637 and parameters: {'n_estimators': 597, 'max_depth': 7, 'learning_rate': 0.1934700862841663, 'subsample': 0.9425192044349383, 'colsample_bytree': 0.7913841307520112, 'reg_alpha': 0.09767211400638387, 'reg_lambda': 0.6842330265121569, 'num_leaves': 64}. Best is trial 1 with value: 0.8673149655513868.\n"
     ]
    },
    {
     "name": "stdout",
     "output_type": "stream",
     "text": [
      "[INFO] Trial 4: ROC-AUC = 0.8524\n"
     ]
    },
    {
     "name": "stderr",
     "output_type": "stream",
     "text": [
      "[I 2025-09-03 23:24:56,410] Trial 5 finished with value: 0.8695952076985853 and parameters: {'n_estimators': 683, 'max_depth': 5, 'learning_rate': 0.016533819011891496, 'subsample': 0.9727961206236346, 'colsample_bytree': 0.777633994480005, 'reg_alpha': 0.662522284353982, 'reg_lambda': 0.31171107608941095, 'num_leaves': 73}. Best is trial 5 with value: 0.8695952076985853.\n"
     ]
    },
    {
     "name": "stdout",
     "output_type": "stream",
     "text": [
      "[INFO] Trial 5: ROC-AUC = 0.8696\n"
     ]
    },
    {
     "name": "stderr",
     "output_type": "stream",
     "text": [
      "[I 2025-09-03 23:25:03,019] Trial 6 finished with value: 0.8565957608999973 and parameters: {'n_estimators': 1320, 'max_depth': 3, 'learning_rate': 0.19422107927526613, 'subsample': 0.9325398470083344, 'colsample_bytree': 0.9818496824692567, 'reg_alpha': 0.8948273504276488, 'reg_lambda': 0.5978999788110851, 'num_leaves': 119}. Best is trial 5 with value: 0.8695952076985853.\n"
     ]
    },
    {
     "name": "stdout",
     "output_type": "stream",
     "text": [
      "[INFO] Trial 6: ROC-AUC = 0.8566\n"
     ]
    },
    {
     "name": "stderr",
     "output_type": "stream",
     "text": [
      "[I 2025-09-03 23:25:06,405] Trial 7 finished with value: 0.868707371135765 and parameters: {'n_estimators': 632, 'max_depth': 3, 'learning_rate': 0.018593184893002233, 'subsample': 0.7975990992289793, 'colsample_bytree': 0.8166031869068446, 'reg_alpha': 0.2713490317738959, 'reg_lambda': 0.8287375091519293, 'num_leaves': 55}. Best is trial 5 with value: 0.8695952076985853.\n"
     ]
    },
    {
     "name": "stdout",
     "output_type": "stream",
     "text": [
      "[INFO] Trial 7: ROC-AUC = 0.8687\n"
     ]
    },
    {
     "name": "stderr",
     "output_type": "stream",
     "text": [
      "[I 2025-09-03 23:25:18,850] Trial 8 finished with value: 0.8661337337483456 and parameters: {'n_estimators': 921, 'max_depth': 5, 'learning_rate': 0.0367756027452049, 'subsample': 0.9406590942262119, 'colsample_bytree': 0.7223651931039312, 'reg_alpha': 0.9868869366005173, 'reg_lambda': 0.7722447692966574, 'num_leaves': 37}. Best is trial 5 with value: 0.8695952076985853.\n"
     ]
    },
    {
     "name": "stdout",
     "output_type": "stream",
     "text": [
      "[INFO] Trial 8: ROC-AUC = 0.8661\n"
     ]
    },
    {
     "name": "stderr",
     "output_type": "stream",
     "text": [
      "[I 2025-09-03 23:25:26,422] Trial 9 finished with value: 0.8586831344056352 and parameters: {'n_estimators': 508, 'max_depth': 7, 'learning_rate': 0.14430289533104726, 'subsample': 0.9187021504122962, 'colsample_bytree': 0.9313811040057838, 'reg_alpha': 0.07404465173409036, 'reg_lambda': 0.3584657285442726, 'num_leaves': 28}. Best is trial 5 with value: 0.8695952076985853.\n"
     ]
    },
    {
     "name": "stdout",
     "output_type": "stream",
     "text": [
      "[INFO] Trial 9: ROC-AUC = 0.8587\n"
     ]
    },
    {
     "name": "stderr",
     "output_type": "stream",
     "text": [
      "[I 2025-09-03 23:25:39,896] Trial 10 finished with value: 0.8573300708012894 and parameters: {'n_estimators': 1918, 'max_depth': 4, 'learning_rate': 0.08005846681700851, 'subsample': 0.7053885626844459, 'colsample_bytree': 0.7818060631603253, 'reg_alpha': 0.6902470735691452, 'reg_lambda': 0.9597707459454198, 'num_leaves': 91}. Best is trial 5 with value: 0.8695952076985853.\n"
     ]
    },
    {
     "name": "stdout",
     "output_type": "stream",
     "text": [
      "[INFO] Trial 10: ROC-AUC = 0.8573\n"
     ]
    },
    {
     "name": "stderr",
     "output_type": "stream",
     "text": [
      "[I 2025-09-03 23:25:44,724] Trial 11 finished with value: 0.8684848392348762 and parameters: {'n_estimators': 770, 'max_depth': 3, 'learning_rate': 0.012989671967541758, 'subsample': 0.7888261639563798, 'colsample_bytree': 0.8221679145170759, 'reg_alpha': 0.4272450847175573, 'reg_lambda': 0.4304137118393218, 'num_leaves': 85}. Best is trial 5 with value: 0.8695952076985853.\n"
     ]
    },
    {
     "name": "stdout",
     "output_type": "stream",
     "text": [
      "[INFO] Trial 11: ROC-AUC = 0.8685\n"
     ]
    },
    {
     "name": "stderr",
     "output_type": "stream",
     "text": [
      "[I 2025-09-03 23:25:50,375] Trial 12 finished with value: 0.8662206928091406 and parameters: {'n_estimators': 740, 'max_depth': 4, 'learning_rate': 0.06072830385962023, 'subsample': 0.7643114906796433, 'colsample_bytree': 0.837659375798294, 'reg_alpha': 0.4632899268170013, 'reg_lambda': 0.9942502322437741, 'num_leaves': 77}. Best is trial 5 with value: 0.8695952076985853.\n"
     ]
    },
    {
     "name": "stdout",
     "output_type": "stream",
     "text": [
      "[INFO] Trial 12: ROC-AUC = 0.8662\n"
     ]
    },
    {
     "name": "stderr",
     "output_type": "stream",
     "text": [
      "[I 2025-09-03 23:26:01,765] Trial 13 finished with value: 0.8656162538745501 and parameters: {'n_estimators': 1605, 'max_depth': 4, 'learning_rate': 0.03184056969947514, 'subsample': 0.9988049595242305, 'colsample_bytree': 0.7731624882590704, 'reg_alpha': 0.6608557252922864, 'reg_lambda': 0.8186654304763922, 'num_leaves': 57}. Best is trial 5 with value: 0.8695952076985853.\n"
     ]
    },
    {
     "name": "stdout",
     "output_type": "stream",
     "text": [
      "[INFO] Trial 13: ROC-AUC = 0.8656\n"
     ]
    },
    {
     "name": "stderr",
     "output_type": "stream",
     "text": [
      "[I 2025-09-03 23:26:05,383] Trial 14 finished with value: 0.8674804832903965 and parameters: {'n_estimators': 738, 'max_depth': 3, 'learning_rate': 0.06932463782520212, 'subsample': 0.8312737879816808, 'colsample_bytree': 0.7039420947153425, 'reg_alpha': 0.308868272157813, 'reg_lambda': 0.4826583456299787, 'num_leaves': 15}. Best is trial 5 with value: 0.8695952076985853.\n"
     ]
    },
    {
     "name": "stdout",
     "output_type": "stream",
     "text": [
      "[INFO] Trial 14: ROC-AUC = 0.8675\n"
     ]
    },
    {
     "name": "stderr",
     "output_type": "stream",
     "text": [
      "[I 2025-09-03 23:26:11,908] Trial 15 finished with value: 0.8584124164754129 and parameters: {'n_estimators': 555, 'max_depth': 6, 'learning_rate': 0.11617173077822976, 'subsample': 0.7496668844156134, 'colsample_bytree': 0.8287701365892407, 'reg_alpha': 0.659028604808974, 'reg_lambda': 0.19449835159756046, 'num_leaves': 104}. Best is trial 5 with value: 0.8695952076985853.\n"
     ]
    },
    {
     "name": "stdout",
     "output_type": "stream",
     "text": [
      "[INFO] Trial 15: ROC-AUC = 0.8584\n"
     ]
    },
    {
     "name": "stderr",
     "output_type": "stream",
     "text": [
      "[I 2025-09-03 23:26:17,558] Trial 16 finished with value: 0.8598225176895093 and parameters: {'n_estimators': 873, 'max_depth': 4, 'learning_rate': 0.11003726346906371, 'subsample': 0.821774162409951, 'colsample_bytree': 0.8731609759875282, 'reg_alpha': 0.29199716813145365, 'reg_lambda': 0.004740119653089625, 'num_leaves': 49}. Best is trial 5 with value: 0.8695952076985853.\n"
     ]
    },
    {
     "name": "stdout",
     "output_type": "stream",
     "text": [
      "[INFO] Trial 16: ROC-AUC = 0.8598\n"
     ]
    },
    {
     "name": "stderr",
     "output_type": "stream",
     "text": [
      "[I 2025-09-03 23:26:27,230] Trial 17 finished with value: 0.86959347003388 and parameters: {'n_estimators': 1105, 'max_depth': 5, 'learning_rate': 0.010805972806172903, 'subsample': 0.8936418147254974, 'colsample_bytree': 0.747128873151615, 'reg_alpha': 0.5596158930967835, 'reg_lambda': 0.8399289384445635, 'num_leaves': 72}. Best is trial 5 with value: 0.8695952076985853.\n"
     ]
    },
    {
     "name": "stdout",
     "output_type": "stream",
     "text": [
      "[INFO] Trial 17: ROC-AUC = 0.8696\n"
     ]
    },
    {
     "name": "stderr",
     "output_type": "stream",
     "text": [
      "[I 2025-09-03 23:26:41,115] Trial 18 finished with value: 0.8603915329135944 and parameters: {'n_estimators': 1585, 'max_depth': 5, 'learning_rate': 0.05122866524580848, 'subsample': 0.8879436740654849, 'colsample_bytree': 0.7431611093700348, 'reg_alpha': 0.7882758800944409, 'reg_lambda': 0.5618977186941465, 'num_leaves': 74}. Best is trial 5 with value: 0.8695952076985853.\n"
     ]
    },
    {
     "name": "stdout",
     "output_type": "stream",
     "text": [
      "[INFO] Trial 18: ROC-AUC = 0.8604\n"
     ]
    },
    {
     "name": "stderr",
     "output_type": "stream",
     "text": [
      "[I 2025-09-03 23:26:51,781] Trial 19 finished with value: 0.8640239665660113 and parameters: {'n_estimators': 1139, 'max_depth': 5, 'learning_rate': 0.041544250032462794, 'subsample': 0.9707971446146021, 'colsample_bytree': 0.7543872254175015, 'reg_alpha': 0.5915176709957255, 'reg_lambda': 0.2875458549276667, 'num_leaves': 96}. Best is trial 5 with value: 0.8695952076985853.\n"
     ]
    },
    {
     "name": "stdout",
     "output_type": "stream",
     "text": [
      "[INFO] Trial 19: ROC-AUC = 0.8640\n"
     ]
    },
    {
     "name": "stderr",
     "output_type": "stream",
     "text": [
      "[I 2025-09-03 23:27:11,577] Trial 20 finished with value: 0.8553372751811806 and parameters: {'n_estimators': 1376, 'max_depth': 6, 'learning_rate': 0.08214531122507185, 'subsample': 0.895709967082406, 'colsample_bytree': 0.800096579677134, 'reg_alpha': 0.5514835462389989, 'reg_lambda': 0.728129004395262, 'num_leaves': 80}. Best is trial 5 with value: 0.8695952076985853.\n"
     ]
    },
    {
     "name": "stdout",
     "output_type": "stream",
     "text": [
      "[INFO] Trial 20: ROC-AUC = 0.8553\n"
     ]
    },
    {
     "name": "stderr",
     "output_type": "stream",
     "text": [
      "[I 2025-09-03 23:27:19,264] Trial 21 finished with value: 0.869001709661218 and parameters: {'n_estimators': 675, 'max_depth': 5, 'learning_rate': 0.020041894864226646, 'subsample': 0.8553452162996074, 'colsample_bytree': 0.8074277497998563, 'reg_alpha': 0.35699902937983313, 'reg_lambda': 0.8777699551799188, 'num_leaves': 65}. Best is trial 5 with value: 0.8695952076985853.\n"
     ]
    },
    {
     "name": "stdout",
     "output_type": "stream",
     "text": [
      "[INFO] Trial 21: ROC-AUC = 0.8690\n"
     ]
    },
    {
     "name": "stderr",
     "output_type": "stream",
     "text": [
      "[I 2025-09-03 23:27:30,144] Trial 22 finished with value: 0.8661595088925496 and parameters: {'n_estimators': 1015, 'max_depth': 5, 'learning_rate': 0.031627520650599504, 'subsample': 0.8540629039837714, 'colsample_bytree': 0.7683093070217152, 'reg_alpha': 0.3778531571257424, 'reg_lambda': 0.8741516408421189, 'num_leaves': 68}. Best is trial 5 with value: 0.8695952076985853.\n"
     ]
    },
    {
     "name": "stdout",
     "output_type": "stream",
     "text": [
      "[INFO] Trial 22: ROC-AUC = 0.8662\n"
     ]
    },
    {
     "name": "stderr",
     "output_type": "stream",
     "text": [
      "[I 2025-09-03 23:27:39,368] Trial 23 finished with value: 0.8682319216266542 and parameters: {'n_estimators': 854, 'max_depth': 5, 'learning_rate': 0.02390896606383126, 'subsample': 0.96358810197491, 'colsample_bytree': 0.7236523671425332, 'reg_alpha': 0.5427812286708974, 'reg_lambda': 0.9084419426751374, 'num_leaves': 67}. Best is trial 5 with value: 0.8695952076985853.\n"
     ]
    },
    {
     "name": "stdout",
     "output_type": "stream",
     "text": [
      "[INFO] Trial 23: ROC-AUC = 0.8682\n"
     ]
    },
    {
     "name": "stderr",
     "output_type": "stream",
     "text": [
      "[I 2025-09-03 23:27:47,139] Trial 24 finished with value: 0.863601794752438 and parameters: {'n_estimators': 683, 'max_depth': 6, 'learning_rate': 0.055821728016618104, 'subsample': 0.9069783164920467, 'colsample_bytree': 0.7966407812928861, 'reg_alpha': 0.8140978129633255, 'reg_lambda': 0.6868404983809374, 'num_leaves': 45}. Best is trial 5 with value: 0.8695952076985853.\n"
     ]
    },
    {
     "name": "stdout",
     "output_type": "stream",
     "text": [
      "[INFO] Trial 24: ROC-AUC = 0.8636\n"
     ]
    },
    {
     "name": "stderr",
     "output_type": "stream",
     "text": [
      "[I 2025-09-03 23:28:01,057] Trial 25 finished with value: 0.86749616496484 and parameters: {'n_estimators': 1999, 'max_depth': 4, 'learning_rate': 0.016285125491355874, 'subsample': 0.8650427851125038, 'colsample_bytree': 0.8509273364604892, 'reg_alpha': 0.41344035711879057, 'reg_lambda': 0.4321048542689302, 'num_leaves': 88}. Best is trial 5 with value: 0.8695952076985853.\n"
     ]
    },
    {
     "name": "stdout",
     "output_type": "stream",
     "text": [
      "[INFO] Trial 25: ROC-AUC = 0.8675\n"
     ]
    },
    {
     "name": "stderr",
     "output_type": "stream",
     "text": [
      "[I 2025-09-03 23:28:09,947] Trial 26 finished with value: 0.867005082156801 and parameters: {'n_estimators': 839, 'max_depth': 5, 'learning_rate': 0.0320647015461807, 'subsample': 0.8236758286038676, 'colsample_bytree': 0.7326126126127636, 'reg_alpha': 0.754126800679207, 'reg_lambda': 0.907465045989646, 'num_leaves': 96}. Best is trial 5 with value: 0.8695952076985853.\n"
     ]
    },
    {
     "name": "stdout",
     "output_type": "stream",
     "text": [
      "[INFO] Trial 26: ROC-AUC = 0.8670\n"
     ]
    },
    {
     "name": "stderr",
     "output_type": "stream",
     "text": [
      "[I 2025-09-03 23:28:22,341] Trial 27 finished with value: 0.8507316800188427 and parameters: {'n_estimators': 1536, 'max_depth': 6, 'learning_rate': 0.1346722455826926, 'subsample': 0.9568190373076016, 'colsample_bytree': 0.700228908110539, 'reg_alpha': 0.49105854217025313, 'reg_lambda': 0.17467332761565318, 'num_leaves': 65}. Best is trial 5 with value: 0.8695952076985853.\n"
     ]
    },
    {
     "name": "stdout",
     "output_type": "stream",
     "text": [
      "[INFO] Trial 27: ROC-AUC = 0.8507\n"
     ]
    },
    {
     "name": "stderr",
     "output_type": "stream",
     "text": [
      "[I 2025-09-03 23:28:30,845] Trial 28 finished with value: 0.8495159313108287 and parameters: {'n_estimators': 1772, 'max_depth': 4, 'learning_rate': 0.1674024421058817, 'subsample': 0.9125275415072512, 'colsample_bytree': 0.854252344510193, 'reg_alpha': 0.3670808799374981, 'reg_lambda': 0.5306556833646566, 'num_leaves': 81}. Best is trial 5 with value: 0.8695952076985853.\n"
     ]
    },
    {
     "name": "stdout",
     "output_type": "stream",
     "text": [
      "[INFO] Trial 28: ROC-AUC = 0.8495\n"
     ]
    },
    {
     "name": "stderr",
     "output_type": "stream",
     "text": [
      "[I 2025-09-03 23:28:37,760] Trial 29 finished with value: 0.8604821548451032 and parameters: {'n_estimators': 1119, 'max_depth': 5, 'learning_rate': 0.06918292986766869, 'subsample': 0.8780261828104647, 'colsample_bytree': 0.7672118513625548, 'reg_alpha': 0.577674823598497, 'reg_lambda': 0.6529263614197508, 'num_leaves': 73}. Best is trial 5 with value: 0.8695952076985853.\n"
     ]
    },
    {
     "name": "stdout",
     "output_type": "stream",
     "text": [
      "[INFO] Trial 29: ROC-AUC = 0.8605\n"
     ]
    },
    {
     "name": "stderr",
     "output_type": "stream",
     "text": [
      "[I 2025-09-03 23:28:43,626] Trial 30 finished with value: 0.8694599424817594 and parameters: {'n_estimators': 1007, 'max_depth': 5, 'learning_rate': 0.011012747164403805, 'subsample': 0.8710358086653347, 'colsample_bytree': 0.7531197593555844, 'reg_alpha': 0.7113906573344566, 'reg_lambda': 0.11098551705239049, 'num_leaves': 108}. Best is trial 5 with value: 0.8695952076985853.\n"
     ]
    },
    {
     "name": "stdout",
     "output_type": "stream",
     "text": [
      "[INFO] Trial 30: ROC-AUC = 0.8695\n"
     ]
    },
    {
     "name": "stderr",
     "output_type": "stream",
     "text": [
      "[I 2025-09-03 23:28:50,472] Trial 31 finished with value: 0.8675200649281054 and parameters: {'n_estimators': 1037, 'max_depth': 5, 'learning_rate': 0.025259645840135694, 'subsample': 0.8762003046613036, 'colsample_bytree': 0.7558466164115228, 'reg_alpha': 0.7245178001793682, 'reg_lambda': 0.035903678473654554, 'num_leaves': 106}. Best is trial 5 with value: 0.8695952076985853.\n"
     ]
    },
    {
     "name": "stdout",
     "output_type": "stream",
     "text": [
      "[INFO] Trial 31: ROC-AUC = 0.8675\n"
     ]
    },
    {
     "name": "stderr",
     "output_type": "stream",
     "text": [
      "[I 2025-09-03 23:28:58,543] Trial 32 finished with value: 0.8691027702803474 and parameters: {'n_estimators': 1236, 'max_depth': 5, 'learning_rate': 0.011966203404128337, 'subsample': 0.829060464171696, 'colsample_bytree': 0.7437449356279225, 'reg_alpha': 0.6277920999514455, 'reg_lambda': 0.12716358604661324, 'num_leaves': 119}. Best is trial 5 with value: 0.8695952076985853.\n"
     ]
    },
    {
     "name": "stdout",
     "output_type": "stream",
     "text": [
      "[INFO] Trial 32: ROC-AUC = 0.8691\n"
     ]
    },
    {
     "name": "stderr",
     "output_type": "stream",
     "text": [
      "[I 2025-09-03 23:29:11,274] Trial 33 finished with value: 0.8688441244373665 and parameters: {'n_estimators': 1312, 'max_depth': 6, 'learning_rate': 0.010471631299033017, 'subsample': 0.8367509231867373, 'colsample_bytree': 0.7422135591586969, 'reg_alpha': 0.6298421276551772, 'reg_lambda': 0.13318464446788544, 'num_leaves': 124}. Best is trial 5 with value: 0.8695952076985853.\n"
     ]
    },
    {
     "name": "stdout",
     "output_type": "stream",
     "text": [
      "[INFO] Trial 33: ROC-AUC = 0.8688\n"
     ]
    },
    {
     "name": "stderr",
     "output_type": "stream",
     "text": [
      "[I 2025-09-03 23:29:19,777] Trial 34 finished with value: 0.8633557862206122 and parameters: {'n_estimators': 1261, 'max_depth': 5, 'learning_rate': 0.04232366751446877, 'subsample': 0.8139142739640016, 'colsample_bytree': 0.7148630142964308, 'reg_alpha': 0.8302585168285512, 'reg_lambda': 0.09359502663353014, 'num_leaves': 111}. Best is trial 5 with value: 0.8695952076985853.\n"
     ]
    },
    {
     "name": "stdout",
     "output_type": "stream",
     "text": [
      "[INFO] Trial 34: ROC-AUC = 0.8634\n"
     ]
    },
    {
     "name": "stderr",
     "output_type": "stream",
     "text": [
      "[I 2025-09-03 23:29:26,152] Trial 35 finished with value: 0.8692775599951993 and parameters: {'n_estimators': 1189, 'max_depth': 4, 'learning_rate': 0.010378490129858647, 'subsample': 0.7657313012941603, 'colsample_bytree': 0.7551918674602855, 'reg_alpha': 0.8848666283000728, 'reg_lambda': 0.2935437107615104, 'num_leaves': 117}. Best is trial 5 with value: 0.8695952076985853.\n"
     ]
    },
    {
     "name": "stdout",
     "output_type": "stream",
     "text": [
      "[INFO] Trial 35: ROC-AUC = 0.8693\n"
     ]
    },
    {
     "name": "stderr",
     "output_type": "stream",
     "text": [
      "[I 2025-09-03 23:29:30,880] Trial 36 finished with value: 0.8660517576112609 and parameters: {'n_estimators': 1008, 'max_depth': 4, 'learning_rate': 0.04675822629531738, 'subsample': 0.7112838899281007, 'colsample_bytree': 0.7846663352697356, 'reg_alpha': 0.8943777483279761, 'reg_lambda': 0.2593018939700761, 'num_leaves': 100}. Best is trial 5 with value: 0.8695952076985853.\n"
     ]
    },
    {
     "name": "stdout",
     "output_type": "stream",
     "text": [
      "[INFO] Trial 36: ROC-AUC = 0.8661\n"
     ]
    },
    {
     "name": "stderr",
     "output_type": "stream",
     "text": [
      "[I 2025-09-03 23:29:37,337] Trial 37 finished with value: 0.8675637651300238 and parameters: {'n_estimators': 1147, 'max_depth': 4, 'learning_rate': 0.02819512961093054, 'subsample': 0.981661605596533, 'colsample_bytree': 0.9080046238310866, 'reg_alpha': 0.9919564653632482, 'reg_lambda': 0.22999822008293258, 'num_leaves': 112}. Best is trial 5 with value: 0.8695952076985853.\n"
     ]
    },
    {
     "name": "stdout",
     "output_type": "stream",
     "text": [
      "[INFO] Trial 37: ROC-AUC = 0.8676\n"
     ]
    },
    {
     "name": "stderr",
     "output_type": "stream",
     "text": [
      "[I 2025-09-03 23:29:50,313] Trial 38 finished with value: 0.8646961655122555 and parameters: {'n_estimators': 1452, 'max_depth': 6, 'learning_rate': 0.022580551994329963, 'subsample': 0.7371863892253435, 'colsample_bytree': 0.7580181298910295, 'reg_alpha': 0.9190681062341619, 'reg_lambda': 0.3372642470332976, 'num_leaves': 123}. Best is trial 5 with value: 0.8695952076985853.\n"
     ]
    },
    {
     "name": "stdout",
     "output_type": "stream",
     "text": [
      "[INFO] Trial 38: ROC-AUC = 0.8647\n"
     ]
    },
    {
     "name": "stderr",
     "output_type": "stream",
     "text": [
      "[I 2025-09-03 23:29:55,156] Trial 39 finished with value: 0.8605252946005667 and parameters: {'n_estimators': 942, 'max_depth': 4, 'learning_rate': 0.09573136559543148, 'subsample': 0.7659861327854651, 'colsample_bytree': 0.9939535814198084, 'reg_alpha': 0.8568948473138608, 'reg_lambda': 0.3500572188847406, 'num_leaves': 112}. Best is trial 5 with value: 0.8695952076985853.\n"
     ]
    },
    {
     "name": "stdout",
     "output_type": "stream",
     "text": [
      "[INFO] Trial 39: ROC-AUC = 0.8605\n"
     ]
    },
    {
     "name": "stderr",
     "output_type": "stream",
     "text": [
      "[I 2025-09-03 23:30:06,984] Trial 40 finished with value: 0.8501311056944346 and parameters: {'n_estimators': 1068, 'max_depth': 7, 'learning_rate': 0.17781270444529468, 'subsample': 0.8031159694220029, 'colsample_bytree': 0.7342499370693957, 'reg_alpha': 0.7089748674958343, 'reg_lambda': 0.45046456676027946, 'num_leaves': 57}. Best is trial 5 with value: 0.8695952076985853.\n"
     ]
    },
    {
     "name": "stdout",
     "output_type": "stream",
     "text": [
      "[INFO] Trial 40: ROC-AUC = 0.8501\n"
     ]
    },
    {
     "name": "stderr",
     "output_type": "stream",
     "text": [
      "[I 2025-09-03 23:30:15,391] Trial 41 finished with value: 0.868801598565458 and parameters: {'n_estimators': 1227, 'max_depth': 5, 'learning_rate': 0.013440122759306736, 'subsample': 0.8412033935874209, 'colsample_bytree': 0.7456813237274901, 'reg_alpha': 0.6215439295307121, 'reg_lambda': 0.09637131704775109, 'num_leaves': 117}. Best is trial 5 with value: 0.8695952076985853.\n"
     ]
    },
    {
     "name": "stdout",
     "output_type": "stream",
     "text": [
      "[INFO] Trial 41: ROC-AUC = 0.8688\n"
     ]
    },
    {
     "name": "stderr",
     "output_type": "stream",
     "text": [
      "[I 2025-09-03 23:30:27,310] Trial 42 finished with value: 0.868314343476371 and parameters: {'n_estimators': 1275, 'max_depth': 6, 'learning_rate': 0.011708545031349665, 'subsample': 0.9341761788415107, 'colsample_bytree': 0.7787732426823003, 'reg_alpha': 0.7401761130951643, 'reg_lambda': 0.15118498339609646, 'num_leaves': 116}. Best is trial 5 with value: 0.8695952076985853.\n"
     ]
    },
    {
     "name": "stdout",
     "output_type": "stream",
     "text": [
      "[INFO] Trial 42: ROC-AUC = 0.8683\n"
     ]
    },
    {
     "name": "stderr",
     "output_type": "stream",
     "text": [
      "[I 2025-09-03 23:30:34,930] Trial 43 finished with value: 0.8639504958508644 and parameters: {'n_estimators': 1213, 'max_depth': 5, 'learning_rate': 0.03809929176873304, 'subsample': 0.9220646656329538, 'colsample_bytree': 0.7206940259915678, 'reg_alpha': 0.7731396895478169, 'reg_lambda': 0.3831130452894802, 'num_leaves': 127}. Best is trial 5 with value: 0.8695952076985853.\n"
     ]
    },
    {
     "name": "stdout",
     "output_type": "stream",
     "text": [
      "[INFO] Trial 43: ROC-AUC = 0.8640\n"
     ]
    },
    {
     "name": "stderr",
     "output_type": "stream",
     "text": [
      "[I 2025-09-03 23:30:40,383] Trial 44 finished with value: 0.8685944790948765 and parameters: {'n_estimators': 1444, 'max_depth': 3, 'learning_rate': 0.022361403442077772, 'subsample': 0.8966306346631501, 'colsample_bytree': 0.762766968715976, 'reg_alpha': 0.5094955358399846, 'reg_lambda': 0.21627332631307644, 'num_leaves': 107}. Best is trial 5 with value: 0.8695952076985853.\n"
     ]
    },
    {
     "name": "stdout",
     "output_type": "stream",
     "text": [
      "[INFO] Trial 44: ROC-AUC = 0.8686\n"
     ]
    },
    {
     "name": "stderr",
     "output_type": "stream",
     "text": [
      "[I 2025-09-03 23:30:47,268] Trial 45 finished with value: 0.8695671638683983 and parameters: {'n_estimators': 951, 'max_depth': 5, 'learning_rate': 0.011073159553698527, 'subsample': 0.7809672525592859, 'colsample_bytree': 0.7905431657090447, 'reg_alpha': 0.9433795149855579, 'reg_lambda': 0.07255220374961685, 'num_leaves': 120}. Best is trial 5 with value: 0.8695952076985853.\n"
     ]
    },
    {
     "name": "stdout",
     "output_type": "stream",
     "text": [
      "[INFO] Trial 45: ROC-AUC = 0.8696\n"
     ]
    },
    {
     "name": "stderr",
     "output_type": "stream",
     "text": [
      "[I 2025-09-03 23:30:53,013] Trial 46 finished with value: 0.86716759312836 and parameters: {'n_estimators': 974, 'max_depth': 4, 'learning_rate': 0.03536229421654135, 'subsample': 0.7759323082006956, 'colsample_bytree': 0.8154224073673655, 'reg_alpha': 0.9533280661249389, 'reg_lambda': 0.07079847712318235, 'num_leaves': 95}. Best is trial 5 with value: 0.8695952076985853.\n"
     ]
    },
    {
     "name": "stdout",
     "output_type": "stream",
     "text": [
      "[INFO] Trial 46: ROC-AUC = 0.8672\n"
     ]
    },
    {
     "name": "stderr",
     "output_type": "stream",
     "text": [
      "[I 2025-09-03 23:30:58,748] Trial 47 finished with value: 0.868642938305095 and parameters: {'n_estimators': 819, 'max_depth': 5, 'learning_rate': 0.020594620806429008, 'subsample': 0.7279111946632029, 'colsample_bytree': 0.7883076068664496, 'reg_alpha': 0.8555806257001881, 'reg_lambda': 0.3006576982565188, 'num_leaves': 101}. Best is trial 5 with value: 0.8695952076985853.\n"
     ]
    },
    {
     "name": "stdout",
     "output_type": "stream",
     "text": [
      "[INFO] Trial 47: ROC-AUC = 0.8686\n"
     ]
    },
    {
     "name": "stderr",
     "output_type": "stream",
     "text": [
      "[I 2025-09-03 23:31:05,047] Trial 48 finished with value: 0.862764223064065 and parameters: {'n_estimators': 908, 'max_depth': 5, 'learning_rate': 0.06034259501502838, 'subsample': 0.7850470201550991, 'colsample_bytree': 0.77599955786438, 'reg_alpha': 0.9060921305037422, 'reg_lambda': 0.012826670548524044, 'num_leaves': 84}. Best is trial 5 with value: 0.8695952076985853.\n"
     ]
    },
    {
     "name": "stdout",
     "output_type": "stream",
     "text": [
      "[INFO] Trial 48: ROC-AUC = 0.8628\n"
     ]
    },
    {
     "name": "stderr",
     "output_type": "stream",
     "text": [
      "[I 2025-09-03 23:31:09,643] Trial 49 finished with value: 0.8673171271449989 and parameters: {'n_estimators': 1112, 'max_depth': 3, 'learning_rate': 0.04721521449686864, 'subsample': 0.9488420390526814, 'colsample_bytree': 0.8087284665911608, 'reg_alpha': 0.1971480173088952, 'reg_lambda': 0.3863568505353269, 'num_leaves': 60}. Best is trial 5 with value: 0.8695952076985853.\n"
     ]
    },
    {
     "name": "stdout",
     "output_type": "stream",
     "text": [
      "[INFO] Trial 49: ROC-AUC = 0.8673\n",
      "[SUCCESS] Best parameters: {'n_estimators': 683, 'max_depth': 5, 'learning_rate': 0.016533819011891496, 'subsample': 0.9727961206236346, 'colsample_bytree': 0.777633994480005, 'reg_alpha': 0.662522284353982, 'reg_lambda': 0.31171107608941095, 'num_leaves': 73}\n",
      "[SUCCESS] Best ROC-AUC score: 0.8696\n",
      "[INFO] Comprehensive Model Interpretation Analysis...\n",
      "[INFO] Top 15 Most Important Features:\n",
      "[INFO] Rank Feature                   Importance   Percentage\n",
      "[INFO] -------------------------------------------------------\n",
      "[INFO] 1    momentum_accel            1861.0000    9.94      %\n",
      "[INFO] 2    momentum_score            1463.0000    7.82      %\n",
      "[INFO] 3    volatility_20d            1274.0000    6.81      %\n",
      "[INFO] 4    rsi14                     1191.0000    6.36      %\n",
      "[INFO] 5    risk_adjusted_score       1154.0000    6.17      %\n",
      "[INFO] 6    risk_momentum_interaction 1148.0000    6.13      %\n",
      "[INFO] 7    macd                      978.0000     5.23      %\n",
      "[INFO] 8    mfi                       883.0000     4.72      %\n",
      "[INFO] 9    adx                       829.0000     4.43      %\n",
      "[INFO] 10   trend_strength            761.0000     4.07      %\n",
      "[INFO] 11   volatility_5d             739.0000     3.95      %\n",
      "[INFO] 12   volatility_momentum_ratio 628.0000     3.36      %\n",
      "[INFO] 13   volatility_momentum_diff  620.0000     3.31      %\n",
      "[INFO] 14   risk_reward_ratio         614.0000     3.28      %\n",
      "[INFO] 15   tech_momentum_sum         470.0000     2.51      %\n"
     ]
    },
    {
     "name": "stderr",
     "output_type": "stream",
     "text": [
      "[I 2025-09-03 23:31:12,571] A new study created in memory with name: no-name-caf2aefd-73a3-4c00-b75e-a6c3f135b4a2\n"
     ]
    },
    {
     "name": "stdout",
     "output_type": "stream",
     "text": [
      "[INFO] Prediction Analysis:\n",
      "[INFO] Mean probability: 0.1371\n",
      "[INFO] Std probability:  0.1383\n",
      "[INFO] Min probability:  0.0063\n",
      "[INFO] Max probability:  0.6637\n",
      "[INFO] Confusion Matrix:\n",
      "[INFO] True Negatives:  41,081\n",
      "[INFO] False Positives: 257\n",
      "[INFO] False Negatives: 34,068\n",
      "[INFO] True Positives:  1,617\n",
      "[INFO] Final Model Performance:\n",
      "[INFO] Accuracy:  0.5544\n",
      "[INFO] ROC-AUC:   0.7780\n",
      "[INFO] F1-Score:  0.0861\n",
      "[INFO] Precision: 0.8629\n",
      "[INFO] Recall:    0.0453\n",
      "[INFO] Business-Focused Metrics:\n",
      "[INFO] True Positive Rate (Sensitivity): 0.0453\n",
      "[INFO] False Positive Rate: 0.0062\n",
      "[INFO] Positive Predictive Value: 0.8629\n",
      "[INFO] Negative Predictive Value: 0.5467\n",
      "\n",
      "================================================================================\n",
      "SUMMARY OF IMPROVEMENTS IMPLEMENTED\n",
      "================================================================================\n",
      "[INFO] Class Imbalance: Scale pos weight = 1.158\n",
      "[INFO] SMOTE: Disabled for time series data preservation\n",
      "[INFO] Feature Engineering: 0 new interaction features\n",
      "[INFO] Hyperparameter Tuning: Optuna with expanded ranges (500-2000 estimators)\n",
      "[INFO] Enhanced Metrics: Accuracy, ROC-AUC, F1, Precision, Recall\n",
      "[INFO] Business Metrics: TPR, FPR, PPV, NPV\n",
      "[INFO] Advanced Scaling: RobustScaler for outlier handling\n",
      "[INFO] Structured Logging: Professional logging system\n",
      "[INFO] Business-Focused Selection: Weighted score (ROC-AUC 40%, F1 40%, Recall 20%)\n",
      "================================================================================\n",
      "🔄 REPLACING HYPERPARAMETER TUNING WITH MULTI-OBJECTIVE OPTIMIZATION...\n",
      "🚀 STARTING MULTI-OBJECTIVE HYPERPARAMETER OPTIMIZATION\n",
      "============================================================\n",
      "\n",
      "==================================================\n",
      "🎯 OPTIMIZING LIGHTGBM\n",
      "==================================================\n",
      "🎯 Multi-Objective Hyperparameter Optimization for LightGBM...\n",
      "📊 Optimizing: F1-Score (30%) + ROC-AUC (25%) + Precision (20%) + Recall (15%) + Balanced-Acc (10%)\n"
     ]
    },
    {
     "name": "stderr",
     "output_type": "stream",
     "text": [
      "[I 2025-09-03 23:31:24,953] Trial 0 finished with value: 0.7841956024322245 and parameters: {'n_estimators': 937, 'max_depth': 8, 'learning_rate': 0.1205712628744377, 'subsample': 0.8394633936788146, 'colsample_bytree': 0.6624074561769746, 'reg_alpha': 0.3119890406724053, 'reg_lambda': 0.11616722433639892, 'num_leaves': 175, 'min_child_samples': 62, 'min_child_weight': 0.679657809075816, 'subsample_freq': 0}. Best is trial 0 with value: 0.7841956024322245.\n"
     ]
    },
    {
     "name": "stdout",
     "output_type": "stream",
     "text": [
      "Trial   0: Composite = 0.7842\n",
      "    F1=0.757, ROC-AUC=0.852, Precision=0.759, Recall=0.756\n"
     ]
    },
    {
     "name": "stderr",
     "output_type": "stream",
     "text": [
      "[I 2025-09-03 23:32:00,516] Trial 1 finished with value: 0.7919640167376741 and parameters: {'n_estimators': 1949, 'max_depth': 7, 'learning_rate': 0.020589728197687916, 'subsample': 0.6727299868828402, 'colsample_bytree': 0.6733618039413735, 'reg_alpha': 0.6084844859190754, 'reg_lambda': 1.0495128632644757, 'num_leaves': 92, 'min_child_samples': 32, 'min_child_weight': 0.2801635158716261, 'subsample_freq': 1}. Best is trial 1 with value: 0.7919640167376741.\n"
     ]
    },
    {
     "name": "stdout",
     "output_type": "stream",
     "text": [
      "Trial   1: Composite = 0.7920\n",
      "    F1=0.763, ROC-AUC=0.862, Precision=0.765, Recall=0.761\n"
     ]
    },
    {
     "name": "stderr",
     "output_type": "stream",
     "text": [
      "[I 2025-09-03 23:32:28,436] Trial 2 finished with value: 0.7965204597934884 and parameters: {'n_estimators': 796, 'max_depth': 5, 'learning_rate': 0.04717052037625178, 'subsample': 0.9140703845572055, 'colsample_bytree': 0.6798695128633439, 'reg_alpha': 1.0284688768272232, 'reg_lambda': 1.184829137724085, 'num_leaves': 18, 'min_child_samples': 63, 'min_child_weight': 0.004809461967501573, 'subsample_freq': 0}. Best is trial 2 with value: 0.7965204597934884.\n"
     ]
    },
    {
     "name": "stdout",
     "output_type": "stream",
     "text": [
      "Trial   2: Composite = 0.7965\n",
      "    F1=0.769, ROC-AUC=0.867, Precision=0.775, Recall=0.763\n"
     ]
    },
    {
     "name": "stderr",
     "output_type": "stream",
     "text": [
      "[I 2025-09-03 23:32:51,589] Trial 3 finished with value: 0.7748285578360946 and parameters: {'n_estimators': 1914, 'max_depth': 8, 'learning_rate': 0.1563510870813346, 'subsample': 0.7218455076693483, 'colsample_bytree': 0.6390688456025535, 'reg_alpha': 1.3684660530243138, 'reg_lambda': 0.8803049874792026, 'num_leaves': 33, 'min_child_samples': 52, 'min_child_weight': 0.0013726318898045872, 'subsample_freq': 10}. Best is trial 2 with value: 0.7965204597934884.\n"
     ]
    },
    {
     "name": "stdout",
     "output_type": "stream",
     "text": [
      "Trial   3: Composite = 0.7748\n"
     ]
    },
    {
     "name": "stderr",
     "output_type": "stream",
     "text": [
      "[I 2025-09-03 23:32:58,284] Trial 4 finished with value: 0.7976219031471466 and parameters: {'n_estimators': 740, 'max_depth': 6, 'learning_rate': 0.028869220380495747, 'subsample': 0.8080272084711243, 'colsample_bytree': 0.8186841117373118, 'reg_alpha': 0.3697089110510541, 'reg_lambda': 1.9391692555291171, 'num_leaves': 158, 'min_child_samples': 95, 'min_child_weight': 3.7958531426706403, 'subsample_freq': 6}. Best is trial 4 with value: 0.7976219031471466.\n"
     ]
    },
    {
     "name": "stdout",
     "output_type": "stream",
     "text": [
      "Trial   4: Composite = 0.7976\n",
      "    F1=0.768, ROC-AUC=0.868, Precision=0.775, Recall=0.762\n"
     ]
    },
    {
     "name": "stderr",
     "output_type": "stream",
     "text": [
      "[I 2025-09-03 23:33:13,067] Trial 5 finished with value: 0.7971539591046423 and parameters: {'n_estimators': 1868, 'max_depth': 3, 'learning_rate': 0.01947558230629543, 'subsample': 0.6180909155642152, 'colsample_bytree': 0.7301321323053057, 'reg_alpha': 0.777354579378964, 'reg_lambda': 0.5426980635477918, 'num_leaves': 168, 'min_child_samples': 39, 'min_child_weight': 0.013296521457299506, 'subsample_freq': 5}. Best is trial 4 with value: 0.7976219031471466.\n"
     ]
    },
    {
     "name": "stdout",
     "output_type": "stream",
     "text": [
      "Trial   5: Composite = 0.7972\n"
     ]
    },
    {
     "name": "stderr",
     "output_type": "stream",
     "text": [
      "[I 2025-09-03 23:33:21,736] Trial 6 finished with value: 0.8009037829802761 and parameters: {'n_estimators': 539, 'max_depth': 7, 'learning_rate': 0.012886065671894011, 'subsample': 0.9947547746402069, 'colsample_bytree': 0.908897907718663, 'reg_alpha': 0.3974313630683448, 'reg_lambda': 0.011044234247204798, 'num_leaves': 165, 'min_child_samples': 72, 'min_child_weight': 0.8241925264876453, 'subsample_freq': 8}. Best is trial 6 with value: 0.8009037829802761.\n"
     ]
    },
    {
     "name": "stdout",
     "output_type": "stream",
     "text": [
      "Trial   6: Composite = 0.8009\n",
      "    F1=0.769, ROC-AUC=0.870, Precision=0.779, Recall=0.758\n"
     ]
    },
    {
     "name": "stderr",
     "output_type": "stream",
     "text": [
      "[I 2025-09-03 23:33:35,791] Trial 7 finished with value: 0.7998866065931765 and parameters: {'n_estimators': 425, 'max_depth': 5, 'learning_rate': 0.014830392684568025, 'subsample': 0.9452413703502374, 'colsample_bytree': 0.8493192507310232, 'reg_alpha': 0.6617960497052984, 'reg_lambda': 0.12711670057204727, 'num_leaves': 69, 'min_child_samples': 36, 'min_child_weight': 0.8287522363768158, 'subsample_freq': 7}. Best is trial 6 with value: 0.8009037829802761.\n"
     ]
    },
    {
     "name": "stdout",
     "output_type": "stream",
     "text": [
      "Trial   7: Composite = 0.7999\n"
     ]
    },
    {
     "name": "stderr",
     "output_type": "stream",
     "text": [
      "[I 2025-09-03 23:33:46,789] Trial 8 finished with value: 0.7973724150681635 and parameters: {'n_estimators': 1809, 'max_depth': 5, 'learning_rate': 0.015019490572374374, 'subsample': 0.885297914889198, 'colsample_bytree': 0.9043140194467589, 'reg_alpha': 1.1225543951389925, 'reg_lambda': 1.541934359909122, 'num_leaves': 104, 'min_child_samples': 55, 'min_child_weight': 0.05130551760589835, 'subsample_freq': 0}. Best is trial 6 with value: 0.8009037829802761.\n"
     ]
    },
    {
     "name": "stdout",
     "output_type": "stream",
     "text": [
      "Trial   8: Composite = 0.7974\n"
     ]
    },
    {
     "name": "stderr",
     "output_type": "stream",
     "text": [
      "[I 2025-09-03 23:33:48,623] Trial 9 finished with value: 0.797275679089332 and parameters: {'n_estimators': 483, 'max_depth': 3, 'learning_rate': 0.08710745900492396, 'subsample': 0.7257423924305306, 'colsample_bytree': 0.8034282764658811, 'reg_alpha': 1.815132947852186, 'reg_lambda': 0.4985844582977499, 'num_leaves': 88, 'min_child_samples': 77, 'min_child_weight': 0.008226074946221037, 'subsample_freq': 0}. Best is trial 6 with value: 0.8009037829802761.\n"
     ]
    },
    {
     "name": "stdout",
     "output_type": "stream",
     "text": [
      "Trial   9: Composite = 0.7973\n"
     ]
    },
    {
     "name": "stderr",
     "output_type": "stream",
     "text": [
      "[I 2025-09-03 23:33:52,224] Trial 10 finished with value: 0.789644207424824 and parameters: {'n_estimators': 792, 'max_depth': 3, 'learning_rate': 0.23619797107806514, 'subsample': 0.9232481518257668, 'colsample_bytree': 0.8533615026041694, 'reg_alpha': 1.7429211803754354, 'reg_lambda': 1.607344153798229, 'num_leaves': 45, 'min_child_samples': 90, 'min_child_weight': 0.1436709513866423, 'subsample_freq': 8}. Best is trial 6 with value: 0.8009037829802761.\n"
     ]
    },
    {
     "name": "stdout",
     "output_type": "stream",
     "text": [
      "Trial  10: Composite = 0.7896\n"
     ]
    },
    {
     "name": "stderr",
     "output_type": "stream",
     "text": [
      "[I 2025-09-03 23:34:01,703] Trial 11 finished with value: 0.7987597900081648 and parameters: {'n_estimators': 1824, 'max_depth': 4, 'learning_rate': 0.014539853705640319, 'subsample': 0.6911740650167767, 'colsample_bytree': 0.7708431154505025, 'reg_alpha': 1.6360295318449862, 'reg_lambda': 1.7214611665126869, 'num_leaves': 11, 'min_child_samples': 54, 'min_child_weight': 0.0467351899956275, 'subsample_freq': 2}. Best is trial 6 with value: 0.8009037829802761.\n"
     ]
    },
    {
     "name": "stdout",
     "output_type": "stream",
     "text": [
      "Trial  11: Composite = 0.7988\n"
     ]
    },
    {
     "name": "stderr",
     "output_type": "stream",
     "text": [
      "[I 2025-09-03 23:34:05,544] Trial 12 finished with value: 0.7788928193866346 and parameters: {'n_estimators': 503, 'max_depth': 5, 'learning_rate': 0.24705404270823272, 'subsample': 0.7292811728083021, 'colsample_bytree': 0.8075162486973464, 'reg_alpha': 1.4060379177903557, 'reg_lambda': 0.727259204758588, 'num_leaves': 195, 'min_child_samples': 97, 'min_child_weight': 0.010165510266418737, 'subsample_freq': 5}. Best is trial 6 with value: 0.8009037829802761.\n"
     ]
    },
    {
     "name": "stdout",
     "output_type": "stream",
     "text": [
      "Trial  12: Composite = 0.7789\n"
     ]
    },
    {
     "name": "stderr",
     "output_type": "stream",
     "text": [
      "[I 2025-09-03 23:34:10,201] Trial 13 finished with value: 0.7987645651141458 and parameters: {'n_estimators': 811, 'max_depth': 4, 'learning_rate': 0.011336695817840537, 'subsample': 0.8438257335919588, 'colsample_bytree': 0.8010716092915446, 'reg_alpha': 0.1029575024999787, 'reg_lambda': 0.5572929284732229, 'num_leaves': 183, 'min_child_samples': 27, 'min_child_weight': 0.003798214508453258, 'subsample_freq': 5}. Best is trial 6 with value: 0.8009037829802761.\n"
     ]
    },
    {
     "name": "stdout",
     "output_type": "stream",
     "text": [
      "Trial  13: Composite = 0.7988\n"
     ]
    },
    {
     "name": "stderr",
     "output_type": "stream",
     "text": [
      "[I 2025-09-03 23:34:19,848] Trial 14 finished with value: 0.7863301455410993 and parameters: {'n_estimators': 1976, 'max_depth': 4, 'learning_rate': 0.09836162684900028, 'subsample': 0.9046478461314871, 'colsample_bytree': 0.6950550175969599, 'reg_alpha': 1.4564326972237192, 'reg_lambda': 0.7355662654385065, 'num_leaves': 130, 'min_child_samples': 65, 'min_child_weight': 0.1390268671103501, 'subsample_freq': 0}. Best is trial 6 with value: 0.8009037829802761.\n"
     ]
    },
    {
     "name": "stdout",
     "output_type": "stream",
     "text": [
      "Trial  14: Composite = 0.7863\n"
     ]
    },
    {
     "name": "stderr",
     "output_type": "stream",
     "text": [
      "[I 2025-09-03 23:34:30,410] Trial 15 finished with value: 0.7970164892915216 and parameters: {'n_estimators': 1720, 'max_depth': 4, 'learning_rate': 0.01885864373172233, 'subsample': 0.6163100566219055, 'colsample_bytree': 0.8363571772752967, 'reg_alpha': 1.3551287236845648, 'reg_lambda': 0.033175657855712304, 'num_leaves': 107, 'min_child_samples': 26, 'min_child_weight': 0.38079493367685613, 'subsample_freq': 1}. Best is trial 6 with value: 0.8009037829802761.\n"
     ]
    },
    {
     "name": "stdout",
     "output_type": "stream",
     "text": [
      "Trial  15: Composite = 0.7970\n"
     ]
    },
    {
     "name": "stderr",
     "output_type": "stream",
     "text": [
      "[I 2025-09-03 23:34:38,899] Trial 16 finished with value: 0.7720412706291458 and parameters: {'n_estimators': 1475, 'max_depth': 5, 'learning_rate': 0.2419155450887376, 'subsample': 0.6550083776583973, 'colsample_bytree': 0.7364265404201034, 'reg_alpha': 0.22694704248117814, 'reg_lambda': 1.8493872365571256, 'num_leaves': 177, 'min_child_samples': 29, 'min_child_weight': 0.4364516946807793, 'subsample_freq': 8}. Best is trial 6 with value: 0.8009037829802761.\n"
     ]
    },
    {
     "name": "stdout",
     "output_type": "stream",
     "text": [
      "Trial  16: Composite = 0.7720\n"
     ]
    },
    {
     "name": "stderr",
     "output_type": "stream",
     "text": [
      "[I 2025-09-03 23:34:48,281] Trial 17 finished with value: 0.7941454981926652 and parameters: {'n_estimators': 1244, 'max_depth': 6, 'learning_rate': 0.02276382086652691, 'subsample': 0.6372411071223597, 'colsample_bytree': 0.9588863031813307, 'reg_alpha': 1.800836114326661, 'reg_lambda': 1.2662029145465359, 'num_leaves': 74, 'min_child_samples': 38, 'min_child_weight': 0.8013508750140627, 'subsample_freq': 9}. Best is trial 6 with value: 0.8009037829802761.\n"
     ]
    },
    {
     "name": "stdout",
     "output_type": "stream",
     "text": [
      "Trial  17: Composite = 0.7941\n"
     ]
    },
    {
     "name": "stderr",
     "output_type": "stream",
     "text": [
      "[I 2025-09-03 23:34:54,840] Trial 18 finished with value: 0.7902128868966551 and parameters: {'n_estimators': 1808, 'max_depth': 7, 'learning_rate': 0.08878888265538125, 'subsample': 0.6336559859980195, 'colsample_bytree': 0.6646514856378455, 'reg_alpha': 1.7971083770541585, 'reg_lambda': 1.2128581193191799, 'num_leaves': 11, 'min_child_samples': 14, 'min_child_weight': 0.4508240502480682, 'subsample_freq': 0}. Best is trial 6 with value: 0.8009037829802761.\n"
     ]
    },
    {
     "name": "stdout",
     "output_type": "stream",
     "text": [
      "Trial  18: Composite = 0.7902\n"
     ]
    },
    {
     "name": "stderr",
     "output_type": "stream",
     "text": [
      "[I 2025-09-03 23:34:59,221] Trial 19 finished with value: 0.7881422143904415 and parameters: {'n_estimators': 573, 'max_depth': 6, 'learning_rate': 0.10519936117151477, 'subsample': 0.8607845038010402, 'colsample_bytree': 0.689707723784224, 'reg_alpha': 1.4243584426950717, 'reg_lambda': 0.47449817499360014, 'num_leaves': 72, 'min_child_samples': 76, 'min_child_weight': 0.39676339357448603, 'subsample_freq': 9}. Best is trial 6 with value: 0.8009037829802761.\n"
     ]
    },
    {
     "name": "stdout",
     "output_type": "stream",
     "text": [
      "Trial  19: Composite = 0.7881\n"
     ]
    },
    {
     "name": "stderr",
     "output_type": "stream",
     "text": [
      "[I 2025-09-03 23:35:03,129] Trial 20 finished with value: 0.7987971320499629 and parameters: {'n_estimators': 305, 'max_depth': 7, 'learning_rate': 0.03659172241066214, 'subsample': 0.9976385742123344, 'colsample_bytree': 0.9957992966078251, 'reg_alpha': 0.5954216833888842, 'reg_lambda': 0.23426711001249034, 'num_leaves': 141, 'min_child_samples': 6, 'min_child_weight': 2.865420322527313, 'subsample_freq': 7}. Best is trial 6 with value: 0.8009037829802761.\n"
     ]
    },
    {
     "name": "stdout",
     "output_type": "stream",
     "text": [
      "Trial  20: Composite = 0.7988\n"
     ]
    },
    {
     "name": "stderr",
     "output_type": "stream",
     "text": [
      "[I 2025-09-03 23:35:07,325] Trial 21 finished with value: 0.7976027474747016 and parameters: {'n_estimators': 303, 'max_depth': 7, 'learning_rate': 0.037859678243701574, 'subsample': 0.9999398073799962, 'colsample_bytree': 0.9972329932241336, 'reg_alpha': 0.5802381770472789, 'reg_lambda': 0.24558351879173324, 'num_leaves': 142, 'min_child_samples': 5, 'min_child_weight': 3.3330859784291413, 'subsample_freq': 7}. Best is trial 6 with value: 0.8009037829802761.\n"
     ]
    },
    {
     "name": "stdout",
     "output_type": "stream",
     "text": [
      "Trial  21: Composite = 0.7976\n"
     ]
    },
    {
     "name": "stderr",
     "output_type": "stream",
     "text": [
      "[I 2025-09-03 23:35:11,706] Trial 22 finished with value: 0.8007709569897908 and parameters: {'n_estimators': 303, 'max_depth': 7, 'learning_rate': 0.010470687681025622, 'subsample': 0.9977793353700665, 'colsample_bytree': 0.8924229784713114, 'reg_alpha': 0.8145781174910973, 'reg_lambda': 0.22464497424914232, 'num_leaves': 132, 'min_child_samples': 16, 'min_child_weight': 8.195650941517375, 'subsample_freq': 7}. Best is trial 6 with value: 0.8009037829802761.\n"
     ]
    },
    {
     "name": "stdout",
     "output_type": "stream",
     "text": [
      "Trial  22: Composite = 0.8008\n"
     ]
    },
    {
     "name": "stderr",
     "output_type": "stream",
     "text": [
      "[I 2025-09-03 23:35:20,384] Trial 23 finished with value: 0.799808861455977 and parameters: {'n_estimators': 610, 'max_depth': 8, 'learning_rate': 0.011200343850100528, 'subsample': 0.9573523355658674, 'colsample_bytree': 0.8892186138673087, 'reg_alpha': 0.8300462400507105, 'reg_lambda': 0.29329904937594004, 'num_leaves': 124, 'min_child_samples': 16, 'min_child_weight': 9.930885579614824, 'subsample_freq': 4}. Best is trial 6 with value: 0.8009037829802761.\n"
     ]
    },
    {
     "name": "stdout",
     "output_type": "stream",
     "text": [
      "Trial  23: Composite = 0.7998\n"
     ]
    },
    {
     "name": "stderr",
     "output_type": "stream",
     "text": [
      "[I 2025-09-03 23:35:29,387] Trial 24 finished with value: 0.7992621715921425 and parameters: {'n_estimators': 1052, 'max_depth': 6, 'learning_rate': 0.01009692230525965, 'subsample': 0.9566569425818581, 'colsample_bytree': 0.9180975048131618, 'reg_alpha': 0.8327257487110048, 'reg_lambda': 0.018812434467588166, 'num_leaves': 54, 'min_child_samples': 45, 'min_child_weight': 1.3633535255660163, 'subsample_freq': 7}. Best is trial 6 with value: 0.8009037829802761.\n"
     ]
    },
    {
     "name": "stdout",
     "output_type": "stream",
     "text": [
      "Trial  24: Composite = 0.7993\n"
     ]
    },
    {
     "name": "stderr",
     "output_type": "stream",
     "text": [
      "[I 2025-09-03 23:35:35,006] Trial 25 finished with value: 0.8004340146049739 and parameters: {'n_estimators': 413, 'max_depth': 7, 'learning_rate': 0.014145158996425706, 'subsample': 0.9605801218139313, 'colsample_bytree': 0.8692283161457003, 'reg_alpha': 0.44473256649534876, 'reg_lambda': 0.36043666753464326, 'num_leaves': 152, 'min_child_samples': 18, 'min_child_weight': 9.689562342145559, 'subsample_freq': 6}. Best is trial 6 with value: 0.8009037829802761.\n"
     ]
    },
    {
     "name": "stdout",
     "output_type": "stream",
     "text": [
      "Trial  25: Composite = 0.8004\n"
     ]
    },
    {
     "name": "stderr",
     "output_type": "stream",
     "text": [
      "[I 2025-09-03 23:35:43,334] Trial 26 finished with value: 0.792682838940169 and parameters: {'n_estimators': 648, 'max_depth': 7, 'learning_rate': 0.05813464818088968, 'subsample': 0.9772145172619292, 'colsample_bytree': 0.9384858723027495, 'reg_alpha': 0.4426817309715587, 'reg_lambda': 0.3724026351022547, 'num_leaves': 155, 'min_child_samples': 18, 'min_child_weight': 9.745318598899653, 'subsample_freq': 4}. Best is trial 6 with value: 0.8009037829802761.\n"
     ]
    },
    {
     "name": "stdout",
     "output_type": "stream",
     "text": [
      "Trial  26: Composite = 0.7927\n"
     ]
    },
    {
     "name": "stderr",
     "output_type": "stream",
     "text": [
      "[I 2025-09-03 23:35:49,854] Trial 27 finished with value: 0.7984147441225259 and parameters: {'n_estimators': 401, 'max_depth': 8, 'learning_rate': 0.0268143786784247, 'subsample': 0.9385489620320018, 'colsample_bytree': 0.8846008643396095, 'reg_alpha': 0.02182939877290213, 'reg_lambda': 0.7258167008050237, 'num_leaves': 200, 'min_child_samples': 78, 'min_child_weight': 1.6178086711383894, 'subsample_freq': 6}. Best is trial 6 with value: 0.8009037829802761.\n"
     ]
    },
    {
     "name": "stdout",
     "output_type": "stream",
     "text": [
      "Trial  27: Composite = 0.7984\n"
     ]
    },
    {
     "name": "stderr",
     "output_type": "stream",
     "text": [
      "[I 2025-09-03 23:36:00,565] Trial 28 finished with value: 0.798658078608894 and parameters: {'n_estimators': 948, 'max_depth': 7, 'learning_rate': 0.013542669391244133, 'subsample': 0.9728296489130221, 'colsample_bytree': 0.8714374401303564, 'reg_alpha': 0.48272533681301966, 'reg_lambda': 0.389347036097931, 'num_leaves': 121, 'min_child_samples': 21, 'min_child_weight': 5.565277304879198, 'subsample_freq': 10}. Best is trial 6 with value: 0.8009037829802761.\n"
     ]
    },
    {
     "name": "stdout",
     "output_type": "stream",
     "text": [
      "Trial  28: Composite = 0.7987\n"
     ]
    },
    {
     "name": "stderr",
     "output_type": "stream",
     "text": [
      "[I 2025-09-03 23:36:16,737] Trial 29 finished with value: 0.7949754393497885 and parameters: {'n_estimators': 1257, 'max_depth': 8, 'learning_rate': 0.01700586781847592, 'subsample': 0.7946670048143538, 'colsample_bytree': 0.9571446154798786, 'reg_alpha': 0.26619708769302186, 'reg_lambda': 0.17627360367248612, 'num_leaves': 153, 'min_child_samples': 69, 'min_child_weight': 1.6776345403101542, 'subsample_freq': 8}. Best is trial 6 with value: 0.8009037829802761.\n"
     ]
    },
    {
     "name": "stdout",
     "output_type": "stream",
     "text": [
      "Trial  29: Composite = 0.7950\n"
     ]
    },
    {
     "name": "stderr",
     "output_type": "stream",
     "text": [
      "[I 2025-09-03 23:36:24,314] Trial 30 finished with value: 0.7969344205840453 and parameters: {'n_estimators': 678, 'max_depth': 7, 'learning_rate': 0.02537636030230131, 'subsample': 0.8871657154915762, 'colsample_bytree': 0.9183978663377023, 'reg_alpha': 1.151239734584022, 'reg_lambda': 0.010845067396124973, 'num_leaves': 168, 'min_child_samples': 85, 'min_child_weight': 5.256609004901747, 'subsample_freq': 6}. Best is trial 6 with value: 0.8009037829802761.\n"
     ]
    },
    {
     "name": "stdout",
     "output_type": "stream",
     "text": [
      "Trial  30: Composite = 0.7969\n"
     ]
    },
    {
     "name": "stderr",
     "output_type": "stream",
     "text": [
      "[I 2025-09-03 23:36:29,283] Trial 31 finished with value: 0.8000095729195564 and parameters: {'n_estimators': 432, 'max_depth': 6, 'learning_rate': 0.012936818915104367, 'subsample': 0.9421330772942421, 'colsample_bytree': 0.8529036997102436, 'reg_alpha': 0.7502120731950903, 'reg_lambda': 0.1489240970896067, 'num_leaves': 138, 'min_child_samples': 11, 'min_child_weight': 1.0359075094589103, 'subsample_freq': 7}. Best is trial 6 with value: 0.8009037829802761.\n"
     ]
    },
    {
     "name": "stdout",
     "output_type": "stream",
     "text": [
      "Trial  31: Composite = 0.8000\n"
     ]
    },
    {
     "name": "stderr",
     "output_type": "stream",
     "text": [
      "[I 2025-09-03 23:36:33,760] Trial 32 finished with value: 0.8004005248038899 and parameters: {'n_estimators': 387, 'max_depth': 6, 'learning_rate': 0.01211956535288809, 'subsample': 0.9797728309864104, 'colsample_bytree': 0.8655962995274151, 'reg_alpha': 0.72606026065884, 'reg_lambda': 0.15249254792136152, 'num_leaves': 139, 'min_child_samples': 11, 'min_child_weight': 2.1077355906879482, 'subsample_freq': 9}. Best is trial 6 with value: 0.8009037829802761.\n"
     ]
    },
    {
     "name": "stdout",
     "output_type": "stream",
     "text": [
      "Trial  32: Composite = 0.8004\n"
     ]
    },
    {
     "name": "stderr",
     "output_type": "stream",
     "text": [
      "[I 2025-09-03 23:36:38,571] Trial 33 finished with value: 0.8007218847612546 and parameters: {'n_estimators': 303, 'max_depth': 7, 'learning_rate': 0.0103996503797138, 'subsample': 0.979624356114068, 'colsample_bytree': 0.8732147147972866, 'reg_alpha': 0.9551730034253586, 'reg_lambda': 0.34755222168152705, 'num_leaves': 116, 'min_child_samples': 22, 'min_child_weight': 2.3513731257046153, 'subsample_freq': 9}. Best is trial 6 with value: 0.8009037829802761.\n"
     ]
    },
    {
     "name": "stdout",
     "output_type": "stream",
     "text": [
      "Trial  33: Composite = 0.8007\n"
     ]
    },
    {
     "name": "stderr",
     "output_type": "stream",
     "text": [
      "[I 2025-09-03 23:36:47,673] Trial 34 finished with value: 0.800096907170588 and parameters: {'n_estimators': 543, 'max_depth': 8, 'learning_rate': 0.010135682305488858, 'subsample': 0.9997221766319615, 'colsample_bytree': 0.9468557652682168, 'reg_alpha': 1.0175497676842042, 'reg_lambda': 0.34386250554830244, 'num_leaves': 109, 'min_child_samples': 22, 'min_child_weight': 6.036394551689755, 'subsample_freq': 8}. Best is trial 6 with value: 0.8009037829802761.\n"
     ]
    },
    {
     "name": "stdout",
     "output_type": "stream",
     "text": [
      "Trial  34: Composite = 0.8001\n"
     ]
    },
    {
     "name": "stderr",
     "output_type": "stream",
     "text": [
      "[I 2025-09-03 23:36:51,968] Trial 35 finished with value: 0.8007289738253128 and parameters: {'n_estimators': 300, 'max_depth': 7, 'learning_rate': 0.01727548282325243, 'subsample': 0.9212008458604968, 'colsample_bytree': 0.7740497409268594, 'reg_alpha': 0.8705509311135291, 'reg_lambda': 0.9607705305435443, 'num_leaves': 116, 'min_child_samples': 47, 'min_child_weight': 2.6448993803941185, 'subsample_freq': 9}. Best is trial 6 with value: 0.8009037829802761.\n"
     ]
    },
    {
     "name": "stdout",
     "output_type": "stream",
     "text": [
      "Trial  35: Composite = 0.8007\n"
     ]
    },
    {
     "name": "stderr",
     "output_type": "stream",
     "text": [
      "[I 2025-09-03 23:36:56,620] Trial 36 finished with value: 0.8000791020097736 and parameters: {'n_estimators': 319, 'max_depth': 8, 'learning_rate': 0.017394759980066676, 'subsample': 0.9198372510728967, 'colsample_bytree': 0.7713842166289855, 'reg_alpha': 0.8887425637368154, 'reg_lambda': 1.0382432553119658, 'num_leaves': 94, 'min_child_samples': 46, 'min_child_weight': 2.6656612683520695, 'subsample_freq': 10}. Best is trial 6 with value: 0.8009037829802761.\n"
     ]
    },
    {
     "name": "stdout",
     "output_type": "stream",
     "text": [
      "Trial  36: Composite = 0.8001\n"
     ]
    },
    {
     "name": "stderr",
     "output_type": "stream",
     "text": [
      "[I 2025-09-03 23:37:02,290] Trial 37 finished with value: 0.7998182858649056 and parameters: {'n_estimators': 509, 'max_depth': 7, 'learning_rate': 0.02187149696931138, 'subsample': 0.8024559673357624, 'colsample_bytree': 0.828222763717083, 'reg_alpha': 0.937034312511523, 'reg_lambda': 1.403883517078096, 'num_leaves': 117, 'min_child_samples': 60, 'min_child_weight': 0.2374609095357952, 'subsample_freq': 9}. Best is trial 6 with value: 0.8009037829802761.\n"
     ]
    },
    {
     "name": "stdout",
     "output_type": "stream",
     "text": [
      "Trial  37: Composite = 0.7998\n"
     ]
    },
    {
     "name": "stderr",
     "output_type": "stream",
     "text": [
      "[I 2025-09-03 23:37:15,218] Trial 38 finished with value: 0.7887008514595069 and parameters: {'n_estimators': 892, 'max_depth': 8, 'learning_rate': 0.05940921493396258, 'subsample': 0.8961846371869508, 'colsample_bytree': 0.6117862721311054, 'reg_alpha': 1.1784599846708972, 'reg_lambda': 0.8871693726991691, 'num_leaves': 95, 'min_child_samples': 44, 'min_child_weight': 4.195824310414696, 'subsample_freq': 10}. Best is trial 6 with value: 0.8009037829802761.\n"
     ]
    },
    {
     "name": "stdout",
     "output_type": "stream",
     "text": [
      "Trial  38: Composite = 0.7887\n"
     ]
    },
    {
     "name": "stderr",
     "output_type": "stream",
     "text": [
      "[I 2025-09-03 23:37:22,541] Trial 39 finished with value: 0.7964258517563664 and parameters: {'n_estimators': 713, 'max_depth': 6, 'learning_rate': 0.03308454909776958, 'subsample': 0.9306117996060961, 'colsample_bytree': 0.7669812457911269, 'reg_alpha': 1.274774247998585, 'reg_lambda': 0.885291013049773, 'num_leaves': 129, 'min_child_samples': 33, 'min_child_weight': 0.6458613358159759, 'subsample_freq': 9}. Best is trial 6 with value: 0.8009037829802761.\n"
     ]
    },
    {
     "name": "stdout",
     "output_type": "stream",
     "text": [
      "Trial  39: Composite = 0.7964\n"
     ]
    },
    {
     "name": "stderr",
     "output_type": "stream",
     "text": [
      "[I 2025-09-03 23:37:28,179] Trial 40 finished with value: 0.8010877410606428 and parameters: {'n_estimators': 371, 'max_depth': 7, 'learning_rate': 0.016231981085611635, 'subsample': 0.8673154063287879, 'colsample_bytree': 0.9020795462485848, 'reg_alpha': 1.045204752203923, 'reg_lambda': 0.6368957221328455, 'num_leaves': 82, 'min_child_samples': 71, 'min_child_weight': 1.3270488948008028, 'subsample_freq': 8}. Best is trial 40 with value: 0.8010877410606428.\n"
     ]
    },
    {
     "name": "stdout",
     "output_type": "stream",
     "text": [
      "Trial  40: Composite = 0.8011\n",
      "    F1=0.769, ROC-AUC=0.870, Precision=0.780, Recall=0.759\n"
     ]
    },
    {
     "name": "stderr",
     "output_type": "stream",
     "text": [
      "[I 2025-09-03 23:37:38,557] Trial 41 finished with value: 0.8004248700835234 and parameters: {'n_estimators': 363, 'max_depth': 7, 'learning_rate': 0.01624453761845755, 'subsample': 0.8683529077670462, 'colsample_bytree': 0.8985303240475339, 'reg_alpha': 1.0627080573961067, 'reg_lambda': 0.6091808128773998, 'num_leaves': 86, 'min_child_samples': 71, 'min_child_weight': 1.2202412509941962, 'subsample_freq': 8}. Best is trial 40 with value: 0.8010877410606428.\n"
     ]
    },
    {
     "name": "stdout",
     "output_type": "stream",
     "text": [
      "Trial  41: Composite = 0.8004\n"
     ]
    },
    {
     "name": "stderr",
     "output_type": "stream",
     "text": [
      "[I 2025-09-03 23:37:44,212] Trial 42 finished with value: 0.7993750647559751 and parameters: {'n_estimators': 467, 'max_depth': 7, 'learning_rate': 0.020689492639903856, 'subsample': 0.7773375618465893, 'colsample_bytree': 0.9251636167268269, 'reg_alpha': 0.9528073147467825, 'reg_lambda': 0.6617654430693583, 'num_leaves': 116, 'min_child_samples': 58, 'min_child_weight': 2.2755951827283636, 'subsample_freq': 8}. Best is trial 40 with value: 0.8010877410606428.\n"
     ]
    },
    {
     "name": "stdout",
     "output_type": "stream",
     "text": [
      "Trial  42: Composite = 0.7994\n"
     ]
    },
    {
     "name": "stderr",
     "output_type": "stream",
     "text": [
      "[I 2025-09-03 23:37:51,256] Trial 43 finished with value: 0.7995537605469778 and parameters: {'n_estimators': 573, 'max_depth': 7, 'learning_rate': 0.012395528366350817, 'subsample': 0.9767727656142472, 'colsample_bytree': 0.9738400932703026, 'reg_alpha': 1.9714532962781477, 'reg_lambda': 0.45528293327429764, 'num_leaves': 79, 'min_child_samples': 82, 'min_child_weight': 0.04995911621351668, 'subsample_freq': 9}. Best is trial 40 with value: 0.8010877410606428.\n"
     ]
    },
    {
     "name": "stdout",
     "output_type": "stream",
     "text": [
      "Trial  43: Composite = 0.7996\n"
     ]
    },
    {
     "name": "stderr",
     "output_type": "stream",
     "text": [
      "[I 2025-09-03 23:37:55,065] Trial 44 finished with value: 0.7851692401379861 and parameters: {'n_estimators': 304, 'max_depth': 7, 'learning_rate': 0.17144474823434197, 'subsample': 0.8322751416417162, 'colsample_bytree': 0.9081304573609204, 'reg_alpha': 0.6676511385667644, 'reg_lambda': 1.116281459197792, 'num_leaves': 100, 'min_child_samples': 51, 'min_child_weight': 0.6355665212473532, 'subsample_freq': 10}. Best is trial 40 with value: 0.8010877410606428.\n"
     ]
    },
    {
     "name": "stdout",
     "output_type": "stream",
     "text": [
      "Trial  44: Composite = 0.7852\n"
     ]
    },
    {
     "name": "stderr",
     "output_type": "stream",
     "text": [
      "[I 2025-09-03 23:38:01,478] Trial 45 finished with value: 0.8010358737297923 and parameters: {'n_estimators': 472, 'max_depth': 8, 'learning_rate': 0.010012126003937362, 'subsample': 0.9113029135250265, 'colsample_bytree': 0.7849788316177364, 'reg_alpha': 1.239751008915107, 'reg_lambda': 0.9659720375317089, 'num_leaves': 57, 'min_child_samples': 66, 'min_child_weight': 0.22135774958856122, 'subsample_freq': 8}. Best is trial 40 with value: 0.8010877410606428.\n"
     ]
    },
    {
     "name": "stdout",
     "output_type": "stream",
     "text": [
      "Trial  45: Composite = 0.8010\n"
     ]
    },
    {
     "name": "stderr",
     "output_type": "stream",
     "text": [
      "[I 2025-09-03 23:38:06,664] Trial 46 finished with value: 0.7944237600978008 and parameters: {'n_estimators': 469, 'max_depth': 8, 'learning_rate': 0.046737399139431465, 'subsample': 0.9097970963192705, 'colsample_bytree': 0.7459297937251669, 'reg_alpha': 1.5676585109413421, 'reg_lambda': 0.8149110098198431, 'num_leaves': 62, 'min_child_samples': 65, 'min_child_weight': 0.21557164851747884, 'subsample_freq': 8}. Best is trial 40 with value: 0.8010877410606428.\n"
     ]
    },
    {
     "name": "stdout",
     "output_type": "stream",
     "text": [
      "Trial  46: Composite = 0.7944\n"
     ]
    },
    {
     "name": "stderr",
     "output_type": "stream",
     "text": [
      "[I 2025-09-03 23:38:13,244] Trial 47 finished with value: 0.7996064771937667 and parameters: {'n_estimators': 762, 'max_depth': 8, 'learning_rate': 0.015772609034004077, 'subsample': 0.871822471822643, 'colsample_bytree': 0.7844137810813556, 'reg_alpha': 1.242248537709671, 'reg_lambda': 0.9530363347291086, 'num_leaves': 32, 'min_child_samples': 71, 'min_child_weight': 0.023227052910614724, 'subsample_freq': 7}. Best is trial 40 with value: 0.8010877410606428.\n"
     ]
    },
    {
     "name": "stdout",
     "output_type": "stream",
     "text": [
      "Trial  47: Composite = 0.7996\n"
     ]
    },
    {
     "name": "stderr",
     "output_type": "stream",
     "text": [
      "[I 2025-09-03 23:38:19,681] Trial 48 finished with value: 0.7996072844614123 and parameters: {'n_estimators': 629, 'max_depth': 8, 'learning_rate': 0.01882049870035464, 'subsample': 0.8365082860163431, 'colsample_bytree': 0.7117465533288121, 'reg_alpha': 1.0667829164120513, 'reg_lambda': 1.3473494397886727, 'num_leaves': 40, 'min_child_samples': 92, 'min_child_weight': 0.14718736368367358, 'subsample_freq': 7}. Best is trial 40 with value: 0.8010877410606428.\n"
     ]
    },
    {
     "name": "stdout",
     "output_type": "stream",
     "text": [
      "Trial  48: Composite = 0.7996\n"
     ]
    },
    {
     "name": "stderr",
     "output_type": "stream",
     "text": [
      "[I 2025-09-03 23:38:25,131] Trial 49 finished with value: 0.8004387171586842 and parameters: {'n_estimators': 519, 'max_depth': 6, 'learning_rate': 0.012201186902116641, 'subsample': 0.7602487435158511, 'colsample_bytree': 0.8180033002878629, 'reg_alpha': 1.2664928648706508, 'reg_lambda': 0.9683091424651251, 'num_leaves': 60, 'min_child_samples': 67, 'min_child_weight': 0.06865261934668973, 'subsample_freq': 8}. Best is trial 40 with value: 0.8010877410606428.\n"
     ]
    },
    {
     "name": "stdout",
     "output_type": "stream",
     "text": [
      "Trial  49: Composite = 0.8004\n",
      "\n",
      "🏆 OPTIMIZATION COMPLETED!\n",
      "Best composite score: 0.8011\n",
      "Best parameters: {'n_estimators': 371, 'max_depth': 7, 'learning_rate': 0.016231981085611635, 'subsample': 0.8673154063287879, 'colsample_bytree': 0.9020795462485848, 'reg_alpha': 1.045204752203923, 'reg_lambda': 0.6368957221328455, 'num_leaves': 82, 'min_child_samples': 71, 'min_child_weight': 1.3270488948008028, 'subsample_freq': 8}\n",
      "\n",
      "📊 FINAL MODEL PERFORMANCE (5-fold CV):\n",
      "   Composite Score: 0.7967\n",
      "   F1-Score:        0.7694\n",
      "   ROC-AUC:         0.8704\n",
      "   Precision:       0.7810\n",
      "   Recall:          0.7582\n",
      "   Balanced Acc:    0.7839\n"
     ]
    },
    {
     "name": "stderr",
     "output_type": "stream",
     "text": [
      "[I 2025-09-03 23:38:37,296] A new study created in memory with name: no-name-fbd47f2a-e956-40b5-89f5-dabbd9471b0c\n"
     ]
    },
    {
     "name": "stdout",
     "output_type": "stream",
     "text": [
      "\n",
      "==================================================\n",
      "🎯 OPTIMIZING XGBOOST\n",
      "==================================================\n",
      "🎯 Multi-Objective Hyperparameter Optimization for XGBoost...\n"
     ]
    },
    {
     "name": "stderr",
     "output_type": "stream",
     "text": [
      "[I 2025-09-03 23:38:44,101] Trial 0 finished with value: 0.7859430411114358 and parameters: {'n_estimators': 937, 'max_depth': 8, 'learning_rate': 0.1205712628744377, 'subsample': 0.8394633936788146, 'colsample_bytree': 0.6624074561769746, 'reg_alpha': 0.3119890406724053, 'reg_lambda': 0.11616722433639892, 'min_child_weight': 8.795585311974417, 'gamma': 1.2022300234864176}. Best is trial 0 with value: 0.7859430411114358.\n"
     ]
    },
    {
     "name": "stdout",
     "output_type": "stream",
     "text": [
      "Trial   0: Composite = 0.7859\n"
     ]
    },
    {
     "name": "stderr",
     "output_type": "stream",
     "text": [
      "[I 2025-09-03 23:38:50,455] Trial 1 finished with value: 0.7839215791827545 and parameters: {'n_estimators': 1504, 'max_depth': 3, 'learning_rate': 0.2708160864249968, 'subsample': 0.9329770563201687, 'colsample_bytree': 0.6849356442713105, 'reg_alpha': 0.36364993441420124, 'reg_lambda': 0.36680901970686763, 'min_child_weight': 3.7381801866358395, 'gamma': 1.0495128632644757}. Best is trial 0 with value: 0.7859430411114358.\n"
     ]
    },
    {
     "name": "stdout",
     "output_type": "stream",
     "text": [
      "Trial   1: Composite = 0.7839\n"
     ]
    },
    {
     "name": "stderr",
     "output_type": "stream",
     "text": [
      "[I 2025-09-03 23:38:56,249] Trial 2 finished with value: 0.7908809726237038 and parameters: {'n_estimators': 1034, 'max_depth': 4, 'learning_rate': 0.08012737503998542, 'subsample': 0.6557975442608167, 'colsample_bytree': 0.7168578594140873, 'reg_alpha': 0.7327236865873834, 'reg_lambda': 0.9121399684340719, 'min_child_weight': 8.066583652537123, 'gamma': 0.39934756431671947}. Best is trial 2 with value: 0.7908809726237038.\n"
     ]
    },
    {
     "name": "stdout",
     "output_type": "stream",
     "text": [
      "Trial   2: Composite = 0.7909\n"
     ]
    },
    {
     "name": "stderr",
     "output_type": "stream",
     "text": [
      "[I 2025-09-03 23:39:06,418] Trial 3 finished with value: 0.7981956439429378 and parameters: {'n_estimators': 1174, 'max_depth': 6, 'learning_rate': 0.011711509955524094, 'subsample': 0.8430179407605753, 'colsample_bytree': 0.6682096494749166, 'reg_alpha': 0.13010318597055903, 'reg_lambda': 1.8977710745066665, 'min_child_weight': 9.690688297671034, 'gamma': 1.6167946962329223}. Best is trial 3 with value: 0.7981956439429378.\n"
     ]
    },
    {
     "name": "stdout",
     "output_type": "stream",
     "text": [
      "Trial   3: Composite = 0.7982\n"
     ]
    },
    {
     "name": "stderr",
     "output_type": "stream",
     "text": [
      "[I 2025-09-03 23:39:10,667] Trial 4 finished with value: 0.7940322679185982 and parameters: {'n_estimators': 818, 'max_depth': 3, 'learning_rate': 0.1024932221692416, 'subsample': 0.7760609974958406, 'colsample_bytree': 0.6488152939379115, 'reg_alpha': 0.9903538202225404, 'reg_lambda': 0.06877704223043679, 'min_child_weight': 9.18388361870904, 'gamma': 0.5175599632000338}. Best is trial 3 with value: 0.7981956439429378.\n"
     ]
    },
    {
     "name": "stdout",
     "output_type": "stream",
     "text": [
      "Trial   4: Composite = 0.7940\n"
     ]
    },
    {
     "name": "stderr",
     "output_type": "stream",
     "text": [
      "[I 2025-09-03 23:39:17,810] Trial 5 finished with value: 0.7943492316466116 and parameters: {'n_estimators': 1426, 'max_depth': 4, 'learning_rate': 0.05864129169696527, 'subsample': 0.8186841117373118, 'colsample_bytree': 0.6739417822102108, 'reg_alpha': 1.9391692555291171, 'reg_lambda': 1.550265646722229, 'min_child_weight': 9.455490474077703, 'gamma': 1.7896547008552977}. Best is trial 3 with value: 0.7981956439429378.\n"
     ]
    },
    {
     "name": "stdout",
     "output_type": "stream",
     "text": [
      "Trial   5: Composite = 0.7943\n"
     ]
    },
    {
     "name": "stderr",
     "output_type": "stream",
     "text": [
      "[I 2025-09-03 23:39:35,711] Trial 6 finished with value: 0.7960369600426845 and parameters: {'n_estimators': 1317, 'max_depth': 8, 'learning_rate': 0.01351182947645082, 'subsample': 0.6783931449676581, 'colsample_bytree': 0.6180909155642152, 'reg_alpha': 0.6506606615265287, 'reg_lambda': 0.777354579378964, 'min_child_weight': 3.442141285965063, 'gamma': 1.6574750183038587}. Best is trial 3 with value: 0.7981956439429378.\n"
     ]
    },
    {
     "name": "stdout",
     "output_type": "stream",
     "text": [
      "Trial   6: Composite = 0.7960\n"
     ]
    },
    {
     "name": "stderr",
     "output_type": "stream",
     "text": [
      "[I 2025-09-03 23:39:41,425] Trial 7 finished with value: 0.7927796354014792 and parameters: {'n_estimators': 906, 'max_depth': 4, 'learning_rate': 0.06333268775321843, 'subsample': 0.6563696899899051, 'colsample_bytree': 0.9208787923016158, 'reg_alpha': 0.14910128735954165, 'reg_lambda': 1.9737738732010346, 'min_child_weight': 7.9502029236699165, 'gamma': 0.3974313630683448}. Best is trial 3 with value: 0.7981956439429378.\n"
     ]
    },
    {
     "name": "stdout",
     "output_type": "stream",
     "text": [
      "Trial   7: Composite = 0.7928\n"
     ]
    },
    {
     "name": "stderr",
     "output_type": "stream",
     "text": [
      "[I 2025-09-03 23:39:44,299] Trial 8 finished with value: 0.793094241465666 and parameters: {'n_estimators': 309, 'max_depth': 7, 'learning_rate': 0.11069143219393454, 'subsample': 0.8916028672163949, 'colsample_bytree': 0.9085081386743783, 'reg_alpha': 0.14808930346818072, 'reg_lambda': 0.7169314570885452, 'min_child_weight': 2.0428215357261674, 'gamma': 1.726206851751187}. Best is trial 3 with value: 0.7981956439429378.\n"
     ]
    },
    {
     "name": "stdout",
     "output_type": "stream",
     "text": [
      "Trial   8: Composite = 0.7931\n"
     ]
    },
    {
     "name": "stderr",
     "output_type": "stream",
     "text": [
      "[I 2025-09-03 23:39:52,983] Trial 9 finished with value: 0.7985193761309995 and parameters: {'n_estimators': 1360, 'max_depth': 4, 'learning_rate': 0.012413189635294229, 'subsample': 0.7243929286862649, 'colsample_bytree': 0.7300733288106989, 'reg_alpha': 1.4592123566761281, 'reg_lambda': 1.2751149427104262, 'min_child_weight': 8.98491468318694, 'gamma': 0.9444298503238986}. Best is trial 9 with value: 0.7985193761309995.\n"
     ]
    },
    {
     "name": "stdout",
     "output_type": "stream",
     "text": [
      "Trial   9: Composite = 0.7985\n"
     ]
    },
    {
     "name": "stderr",
     "output_type": "stream",
     "text": [
      "[I 2025-09-03 23:40:00,988] Trial 10 finished with value: 0.7834852763930437 and parameters: {'n_estimators': 503, 'max_depth': 7, 'learning_rate': 0.13297554090738672, 'subsample': 0.8245108790277985, 'colsample_bytree': 0.9083868719818244, 'reg_alpha': 0.9875911927287815, 'reg_lambda': 1.0454656587639881, 'min_child_weight': 4.847869165226946, 'gamma': 0.05083825348819038}. Best is trial 9 with value: 0.7985193761309995.\n"
     ]
    },
    {
     "name": "stdout",
     "output_type": "stream",
     "text": [
      "Trial  10: Composite = 0.7835\n"
     ]
    },
    {
     "name": "stderr",
     "output_type": "stream",
     "text": [
      "[I 2025-09-03 23:40:04,233] Trial 11 finished with value: 0.7967658267691616 and parameters: {'n_estimators': 483, 'max_depth': 3, 'learning_rate': 0.08710745900492396, 'subsample': 0.7257423924305306, 'colsample_bytree': 0.8034282764658811, 'reg_alpha': 1.815132947852186, 'reg_lambda': 0.4985844582977499, 'min_child_weight': 4.693446307320667, 'gamma': 1.5111022770860973}. Best is trial 9 with value: 0.7985193761309995.\n"
     ]
    },
    {
     "name": "stdout",
     "output_type": "stream",
     "text": [
      "Trial  11: Composite = 0.7968\n"
     ]
    },
    {
     "name": "stderr",
     "output_type": "stream",
     "text": [
      "[I 2025-09-03 23:40:08,958] Trial 12 finished with value: 0.7980258462193635 and parameters: {'n_estimators': 689, 'max_depth': 3, 'learning_rate': 0.02679156169946617, 'subsample': 0.6644885149016018, 'colsample_bytree': 0.9718790609370292, 'reg_alpha': 1.616240759128834, 'reg_lambda': 1.266807513020847, 'min_child_weight': 8.84314531168946, 'gamma': 1.607344153798229}. Best is trial 9 with value: 0.7985193761309995.\n"
     ]
    },
    {
     "name": "stdout",
     "output_type": "stream",
     "text": [
      "Trial  12: Composite = 0.7980\n"
     ]
    },
    {
     "name": "stderr",
     "output_type": "stream",
     "text": [
      "[I 2025-09-03 23:40:19,120] Trial 13 finished with value: 0.7907660011770092 and parameters: {'n_estimators': 617, 'max_depth': 8, 'learning_rate': 0.06261435181296006, 'subsample': 0.922976062065625, 'colsample_bytree': 0.9584365199693973, 'reg_alpha': 0.6360069499437278, 'reg_lambda': 0.22010384905535352, 'min_child_weight': 3.051416462877475, 'gamma': 0.8542155772525126}. Best is trial 9 with value: 0.7985193761309995.\n"
     ]
    },
    {
     "name": "stdout",
     "output_type": "stream",
     "text": [
      "Trial  13: Composite = 0.7908\n"
     ]
    },
    {
     "name": "stderr",
     "output_type": "stream",
     "text": [
      "[I 2025-09-03 23:40:39,788] Trial 14 finished with value: 0.7972342317026663 and parameters: {'n_estimators': 1691, 'max_depth': 8, 'learning_rate': 0.010239273411172712, 'subsample': 0.8042989210310263, 'colsample_bytree': 0.7669644012595116, 'reg_alpha': 0.4442156209414605, 'reg_lambda': 0.2397307346673656, 'min_child_weight': 4.038536542632651, 'gamma': 1.8858194078250383}. Best is trial 9 with value: 0.7985193761309995.\n"
     ]
    },
    {
     "name": "stdout",
     "output_type": "stream",
     "text": [
      "Trial  14: Composite = 0.7972\n"
     ]
    },
    {
     "name": "stderr",
     "output_type": "stream",
     "text": [
      "[I 2025-09-03 23:40:49,710] Trial 15 finished with value: 0.7826091631116064 and parameters: {'n_estimators': 849, 'max_depth': 6, 'learning_rate': 0.10925573591447926, 'subsample': 0.7454518409517176, 'colsample_bytree': 0.9887128330883843, 'reg_alpha': 1.9248945898842225, 'reg_lambda': 0.5035645916507283, 'min_child_weight': 5.475236553031469, 'gamma': 0.6017566196335393}. Best is trial 9 with value: 0.7985193761309995.\n"
     ]
    },
    {
     "name": "stdout",
     "output_type": "stream",
     "text": [
      "Trial  15: Composite = 0.7826\n"
     ]
    },
    {
     "name": "stderr",
     "output_type": "stream",
     "text": [
      "[I 2025-09-03 23:40:53,541] Trial 16 finished with value: 0.7963878706382461 and parameters: {'n_estimators': 784, 'max_depth': 3, 'learning_rate': 0.07950609693143304, 'subsample': 0.8010716092915446, 'colsample_bytree': 0.6205915004999957, 'reg_alpha': 0.5572929284732229, 'reg_lambda': 1.8165317719333074, 'min_child_weight': 3.1560570160027517, 'gamma': 0.2897897441824462}. Best is trial 9 with value: 0.7985193761309995.\n"
     ]
    },
    {
     "name": "stdout",
     "output_type": "stream",
     "text": [
      "Trial  16: Composite = 0.7964\n"
     ]
    },
    {
     "name": "stderr",
     "output_type": "stream",
     "text": [
      "[I 2025-09-03 23:41:07,948] Trial 17 finished with value: 0.7943902429807025 and parameters: {'n_estimators': 1132, 'max_depth': 8, 'learning_rate': 0.022779541913782567, 'subsample': 0.8688542189623514, 'colsample_bytree': 0.9046478461314871, 'reg_alpha': 0.47527508798479934, 'reg_lambda': 1.4564326972237192, 'min_child_weight': 4.3100481944732785, 'gamma': 1.264611661187159}. Best is trial 9 with value: 0.7985193761309995.\n"
     ]
    },
    {
     "name": "stdout",
     "output_type": "stream",
     "text": [
      "Trial  17: Composite = 0.7944\n"
     ]
    },
    {
     "name": "stderr",
     "output_type": "stream",
     "text": [
      "[I 2025-09-03 23:41:20,095] Trial 18 finished with value: 0.7975004838500546 and parameters: {'n_estimators': 1377, 'max_depth': 6, 'learning_rate': 0.013594678406051506, 'subsample': 0.9341209982356952, 'colsample_bytree': 0.7283120259886944, 'reg_alpha': 0.37303702079970846, 'reg_lambda': 0.08155028310952783, 'min_child_weight': 6.318036488694176, 'gamma': 1.3551287236845648}. Best is trial 9 with value: 0.7985193761309995.\n"
     ]
    },
    {
     "name": "stdout",
     "output_type": "stream",
     "text": [
      "Trial  18: Composite = 0.7975\n"
     ]
    },
    {
     "name": "stderr",
     "output_type": "stream",
     "text": [
      "[I 2025-09-03 23:41:23,609] Trial 19 finished with value: 0.7991467719339015 and parameters: {'n_estimators': 328, 'max_depth': 6, 'learning_rate': 0.02160537077027906, 'subsample': 0.8580691161637799, 'colsample_bytree': 0.6697465716019966, 'reg_alpha': 1.381875476204932, 'reg_lambda': 0.7734706926010748, 'min_child_weight': 9.43056989863061, 'gamma': 0.2750418882919865}. Best is trial 19 with value: 0.7991467719339015.\n"
     ]
    },
    {
     "name": "stdout",
     "output_type": "stream",
     "text": [
      "Trial  19: Composite = 0.7991\n"
     ]
    },
    {
     "name": "stderr",
     "output_type": "stream",
     "text": [
      "[I 2025-09-03 23:41:33,836] Trial 20 finished with value: 0.7958955642383222 and parameters: {'n_estimators': 1910, 'max_depth': 5, 'learning_rate': 0.03532975908296751, 'subsample': 0.9729161367647149, 'colsample_bytree': 0.8262452362725613, 'reg_alpha': 1.4030941059203919, 'reg_lambda': 1.1085836103778413, 'min_child_weight': 6.758823148506263, 'gamma': 0.7935215912849627}. Best is trial 19 with value: 0.7991467719339015.\n"
     ]
    },
    {
     "name": "stdout",
     "output_type": "stream",
     "text": [
      "Trial  20: Composite = 0.7959\n"
     ]
    },
    {
     "name": "stderr",
     "output_type": "stream",
     "text": [
      "[I 2025-09-03 23:41:43,000] Trial 21 finished with value: 0.797345561266194 and parameters: {'n_estimators': 1238, 'max_depth': 5, 'learning_rate': 0.017945900872017296, 'subsample': 0.7190895855916453, 'colsample_bytree': 0.7349553488584519, 'reg_alpha': 1.270102182712975, 'reg_lambda': 1.6665894989682473, 'min_child_weight': 9.95529341957622, 'gamma': 0.015572051522824759}. Best is trial 19 with value: 0.7991467719339015.\n"
     ]
    },
    {
     "name": "stdout",
     "output_type": "stream",
     "text": [
      "Trial  21: Composite = 0.7973\n"
     ]
    },
    {
     "name": "stderr",
     "output_type": "stream",
     "text": [
      "[I 2025-09-03 23:41:57,825] Trial 22 finished with value: 0.7906234022457066 and parameters: {'n_estimators': 1699, 'max_depth': 6, 'learning_rate': 0.032376713604040604, 'subsample': 0.610547233762323, 'colsample_bytree': 0.7064275723704637, 'reg_alpha': 1.2615489904833967, 'reg_lambda': 1.3058943817883124, 'min_child_weight': 7.779019546238247, 'gamma': 1.981944682922452}. Best is trial 19 with value: 0.7991467719339015.\n"
     ]
    },
    {
     "name": "stdout",
     "output_type": "stream",
     "text": [
      "Trial  22: Composite = 0.7906\n"
     ]
    },
    {
     "name": "stderr",
     "output_type": "stream",
     "text": [
      "[I 2025-09-03 23:42:05,837] Trial 23 finished with value: 0.797848951154859 and parameters: {'n_estimators': 1147, 'max_depth': 5, 'learning_rate': 0.010051300539011696, 'subsample': 0.8672595436718501, 'colsample_bytree': 0.7667698433310002, 'reg_alpha': 1.5112636333704026, 'reg_lambda': 1.9947740793841153, 'min_child_weight': 9.976830181964953, 'gamma': 0.9763247907196464}. Best is trial 19 with value: 0.7991467719339015.\n"
     ]
    },
    {
     "name": "stdout",
     "output_type": "stream",
     "text": [
      "Trial  23: Composite = 0.7978\n"
     ]
    },
    {
     "name": "stderr",
     "output_type": "stream",
     "text": [
      "[I 2025-09-03 23:42:21,716] Trial 24 finished with value: 0.7947658545912398 and parameters: {'n_estimators': 1602, 'max_depth': 7, 'learning_rate': 0.017235848173232614, 'subsample': 0.775500010550181, 'colsample_bytree': 0.7653656398770851, 'reg_alpha': 1.1574417709371656, 'reg_lambda': 1.253871047522648, 'min_child_weight': 7.161020027097257, 'gamma': 0.6691546657619589}. Best is trial 19 with value: 0.7991467719339015.\n"
     ]
    },
    {
     "name": "stdout",
     "output_type": "stream",
     "text": [
      "Trial  24: Composite = 0.7948\n"
     ]
    },
    {
     "name": "stderr",
     "output_type": "stream",
     "text": [
      "[I 2025-09-03 23:42:30,545] Trial 25 finished with value: 0.7981058525933218 and parameters: {'n_estimators': 1044, 'max_depth': 6, 'learning_rate': 0.01429788270019364, 'subsample': 0.8525204854479108, 'colsample_bytree': 0.6337849899780625, 'reg_alpha': 1.7419266574278682, 'reg_lambda': 0.770074506885133, 'min_child_weight': 8.43791319423757, 'gamma': 1.4463540124674041}. Best is trial 19 with value: 0.7991467719339015.\n"
     ]
    },
    {
     "name": "stdout",
     "output_type": "stream",
     "text": [
      "Trial  25: Composite = 0.7981\n"
     ]
    },
    {
     "name": "stderr",
     "output_type": "stream",
     "text": [
      "[I 2025-09-03 23:42:40,274] Trial 26 finished with value: 0.7971627230553541 and parameters: {'n_estimators': 1287, 'max_depth': 5, 'learning_rate': 0.020306390255468605, 'subsample': 0.9030963707034378, 'colsample_bytree': 0.8517314664119261, 'reg_alpha': 1.4897052103912096, 'reg_lambda': 1.791812574800704, 'min_child_weight': 7.364750307097158, 'gamma': 1.1247945913759057}. Best is trial 19 with value: 0.7991467719339015.\n"
     ]
    },
    {
     "name": "stdout",
     "output_type": "stream",
     "text": [
      "Trial  26: Composite = 0.7972\n"
     ]
    },
    {
     "name": "stderr",
     "output_type": "stream",
     "text": [
      "[I 2025-09-03 23:42:57,018] Trial 27 finished with value: 0.7869931137554159 and parameters: {'n_estimators': 1888, 'max_depth': 7, 'learning_rate': 0.04323444823345436, 'subsample': 0.764749302059976, 'colsample_bytree': 0.6042004899683172, 'reg_alpha': 0.841269182115375, 'reg_lambda': 1.4107779906942854, 'min_child_weight': 6.12541807614026, 'gamma': 0.7968895960879029}. Best is trial 19 with value: 0.7991467719339015.\n"
     ]
    },
    {
     "name": "stdout",
     "output_type": "stream",
     "text": [
      "Trial  27: Composite = 0.7870\n"
     ]
    },
    {
     "name": "stderr",
     "output_type": "stream",
     "text": [
      "[I 2025-09-03 23:43:05,073] Trial 28 finished with value: 0.7966545094766596 and parameters: {'n_estimators': 1499, 'max_depth': 4, 'learning_rate': 0.025241281413761085, 'subsample': 0.6900546366819699, 'colsample_bytree': 0.6922959826945458, 'reg_alpha': 1.1740175701365505, 'reg_lambda': 0.9495346604205357, 'min_child_weight': 9.493773418277176, 'gamma': 0.19203668096807058}. Best is trial 19 with value: 0.7991467719339015.\n"
     ]
    },
    {
     "name": "stdout",
     "output_type": "stream",
     "text": [
      "Trial  28: Composite = 0.7967\n"
     ]
    },
    {
     "name": "stderr",
     "output_type": "stream",
     "text": [
      "[I 2025-09-03 23:43:13,560] Trial 29 finished with value: 0.7984998520786446 and parameters: {'n_estimators': 1004, 'max_depth': 6, 'learning_rate': 0.012295381374335982, 'subsample': 0.9965108784574398, 'colsample_bytree': 0.6591799766827082, 'reg_alpha': 0.015441338113796998, 'reg_lambda': 0.5676946482303347, 'min_child_weight': 8.681316990362534, 'gamma': 0.9319279354386927}. Best is trial 19 with value: 0.7991467719339015.\n"
     ]
    },
    {
     "name": "stdout",
     "output_type": "stream",
     "text": [
      "Trial  29: Composite = 0.7985\n"
     ]
    },
    {
     "name": "stderr",
     "output_type": "stream",
     "text": [
      "[I 2025-09-03 23:43:16,797] Trial 30 finished with value: 0.7986305218624695 and parameters: {'n_estimators': 423, 'max_depth': 5, 'learning_rate': 0.016346432336735602, 'subsample': 0.9896802812272636, 'colsample_bytree': 0.7438567609748592, 'reg_alpha': 1.6457618355495498, 'reg_lambda': 0.6153431923761666, 'min_child_weight': 8.794442050197825, 'gamma': 0.8927975256403426}. Best is trial 19 with value: 0.7991467719339015.\n"
     ]
    },
    {
     "name": "stdout",
     "output_type": "stream",
     "text": [
      "Trial  30: Composite = 0.7986\n"
     ]
    },
    {
     "name": "stderr",
     "output_type": "stream",
     "text": [
      "[I 2025-09-03 23:43:19,132] Trial 31 finished with value: 0.7988690411936584 and parameters: {'n_estimators': 300, 'max_depth': 5, 'learning_rate': 0.016013821801809196, 'subsample': 0.9932707467536254, 'colsample_bytree': 0.7410470694841619, 'reg_alpha': 1.7012342652826034, 'reg_lambda': 0.6287020801281891, 'min_child_weight': 8.551928584689403, 'gamma': 0.9396296685505408}. Best is trial 19 with value: 0.7991467719339015.\n"
     ]
    },
    {
     "name": "stdout",
     "output_type": "stream",
     "text": [
      "Trial  31: Composite = 0.7989\n"
     ]
    },
    {
     "name": "stderr",
     "output_type": "stream",
     "text": [
      "[I 2025-09-03 23:43:21,641] Trial 32 finished with value: 0.7992819705343003 and parameters: {'n_estimators': 320, 'max_depth': 5, 'learning_rate': 0.016813202223209266, 'subsample': 0.9802062525909369, 'colsample_bytree': 0.7494435677773319, 'reg_alpha': 1.6705922938912365, 'reg_lambda': 0.6336704225152464, 'min_child_weight': 8.908871996097663, 'gamma': 1.1657198258419819}. Best is trial 32 with value: 0.7992819705343003.\n"
     ]
    },
    {
     "name": "stdout",
     "output_type": "stream",
     "text": [
      "Trial  32: Composite = 0.7993\n"
     ]
    },
    {
     "name": "stderr",
     "output_type": "stream",
     "text": [
      "[I 2025-09-03 23:43:24,278] Trial 33 finished with value: 0.7992990219518816 and parameters: {'n_estimators': 346, 'max_depth': 5, 'learning_rate': 0.016954089834203174, 'subsample': 0.964140312469197, 'colsample_bytree': 0.7921833066803057, 'reg_alpha': 1.6473023375116609, 'reg_lambda': 0.640688753437974, 'min_child_weight': 8.333445164552966, 'gamma': 1.1149632529573872}. Best is trial 33 with value: 0.7992990219518816.\n"
     ]
    },
    {
     "name": "stdout",
     "output_type": "stream",
     "text": [
      "Trial  33: Composite = 0.7993\n"
     ]
    },
    {
     "name": "stderr",
     "output_type": "stream",
     "text": [
      "[I 2025-09-03 23:43:26,650] Trial 34 finished with value: 0.7984726839425903 and parameters: {'n_estimators': 321, 'max_depth': 5, 'learning_rate': 0.030890411661953273, 'subsample': 0.9606932816398157, 'colsample_bytree': 0.802755952106972, 'reg_alpha': 1.77632854918245, 'reg_lambda': 0.3439204148927121, 'min_child_weight': 8.251666471650042, 'gamma': 1.145233011130574}. Best is trial 33 with value: 0.7992990219518816.\n"
     ]
    },
    {
     "name": "stdout",
     "output_type": "stream",
     "text": [
      "Trial  34: Composite = 0.7985\n"
     ]
    },
    {
     "name": "stderr",
     "output_type": "stream",
     "text": [
      "[I 2025-09-03 23:43:30,409] Trial 35 finished with value: 0.7962456728254211 and parameters: {'n_estimators': 593, 'max_depth': 5, 'learning_rate': 0.042547986276679856, 'subsample': 0.9584543416833966, 'colsample_bytree': 0.8631734563647302, 'reg_alpha': 1.6406975531510652, 'reg_lambda': 0.8552835995945953, 'min_child_weight': 7.3439930716908925, 'gamma': 1.2568134937373119}. Best is trial 33 with value: 0.7992990219518816.\n"
     ]
    },
    {
     "name": "stdout",
     "output_type": "stream",
     "text": [
      "Trial  35: Composite = 0.7962\n"
     ]
    },
    {
     "name": "stderr",
     "output_type": "stream",
     "text": [
      "[I 2025-09-03 23:43:34,107] Trial 36 finished with value: 0.7992413026822719 and parameters: {'n_estimators': 416, 'max_depth': 6, 'learning_rate': 0.020571440596547676, 'subsample': 0.9410001875102267, 'colsample_bytree': 0.7793484901288366, 'reg_alpha': 1.3607929966023393, 'reg_lambda': 0.3802150540273864, 'min_child_weight': 9.310182326964135, 'gamma': 1.0645456551578678}. Best is trial 33 with value: 0.7992990219518816.\n"
     ]
    },
    {
     "name": "stdout",
     "output_type": "stream",
     "text": [
      "Trial  36: Composite = 0.7992\n"
     ]
    },
    {
     "name": "stderr",
     "output_type": "stream",
     "text": [
      "[I 2025-09-03 23:43:36,724] Trial 37 finished with value: 0.7883921382679495 and parameters: {'n_estimators': 415, 'max_depth': 6, 'learning_rate': 0.18925428711901426, 'subsample': 0.9331270398923088, 'colsample_bytree': 0.7852651272709951, 'reg_alpha': 1.3552292333478504, 'reg_lambda': 0.4165647884203326, 'min_child_weight': 9.18694949970399, 'gamma': 1.0602470773407893}. Best is trial 33 with value: 0.7992990219518816.\n"
     ]
    },
    {
     "name": "stdout",
     "output_type": "stream",
     "text": [
      "Trial  37: Composite = 0.7884\n"
     ]
    },
    {
     "name": "stderr",
     "output_type": "stream",
     "text": [
      "[I 2025-09-03 23:43:41,486] Trial 38 finished with value: 0.7987278191273021 and parameters: {'n_estimators': 534, 'max_depth': 6, 'learning_rate': 0.020009766231081187, 'subsample': 0.9009431136462225, 'colsample_bytree': 0.8258994137914492, 'reg_alpha': 1.5503590558078808, 'reg_lambda': 0.2901094138606543, 'min_child_weight': 7.753943445623227, 'gamma': 0.6628671761230862}. Best is trial 33 with value: 0.7992990219518816.\n"
     ]
    },
    {
     "name": "stdout",
     "output_type": "stream",
     "text": [
      "Trial  38: Composite = 0.7987\n"
     ]
    },
    {
     "name": "stderr",
     "output_type": "stream",
     "text": [
      "[I 2025-09-03 23:43:48,176] Trial 39 finished with value: 0.7975367156786844 and parameters: {'n_estimators': 724, 'max_depth': 7, 'learning_rate': 0.022192473933528793, 'subsample': 0.9505638138351938, 'colsample_bytree': 0.6916774052900834, 'reg_alpha': 1.863546972909595, 'reg_lambda': 0.6826033660286488, 'min_child_weight': 1.0931359507218703, 'gamma': 1.404915522066302}. Best is trial 33 with value: 0.7992990219518816.\n"
     ]
    },
    {
     "name": "stdout",
     "output_type": "stream",
     "text": [
      "Trial  39: Composite = 0.7975\n"
     ]
    },
    {
     "name": "stderr",
     "output_type": "stream",
     "text": [
      "[I 2025-09-03 23:43:50,601] Trial 40 finished with value: 0.7983069232066952 and parameters: {'n_estimators': 401, 'max_depth': 4, 'learning_rate': 0.038946110069701056, 'subsample': 0.9173075003126475, 'colsample_bytree': 0.8285484931124334, 'reg_alpha': 1.1031878945171603, 'reg_lambda': 0.4547782382362196, 'min_child_weight': 9.275993904853705, 'gamma': 1.0730118599322833}. Best is trial 33 with value: 0.7992990219518816.\n"
     ]
    },
    {
     "name": "stdout",
     "output_type": "stream",
     "text": [
      "Trial  40: Composite = 0.7983\n"
     ]
    },
    {
     "name": "stderr",
     "output_type": "stream",
     "text": [
      "[I 2025-09-03 23:43:53,151] Trial 41 finished with value: 0.7987074255210659 and parameters: {'n_estimators': 330, 'max_depth': 5, 'learning_rate': 0.02732519074590642, 'subsample': 0.9787499107951758, 'colsample_bytree': 0.7517337067576619, 'reg_alpha': 1.9965671723320058, 'reg_lambda': 0.6069159239113645, 'min_child_weight': 8.336477380332447, 'gamma': 1.197455328091893}. Best is trial 33 with value: 0.7992990219518816.\n"
     ]
    },
    {
     "name": "stdout",
     "output_type": "stream",
     "text": [
      "Trial  41: Composite = 0.7987\n"
     ]
    },
    {
     "name": "stderr",
     "output_type": "stream",
     "text": [
      "[I 2025-09-03 23:43:56,305] Trial 42 finished with value: 0.7990170765104433 and parameters: {'n_estimators': 405, 'max_depth': 5, 'learning_rate': 0.016115114124222066, 'subsample': 0.9470917935858536, 'colsample_bytree': 0.7878564913509093, 'reg_alpha': 1.7187278873688505, 'reg_lambda': 0.8555593569626887, 'min_child_weight': 9.524185187471273, 'gamma': 0.48515862805861654}. Best is trial 33 with value: 0.7992990219518816.\n"
     ]
    },
    {
     "name": "stdout",
     "output_type": "stream",
     "text": [
      "Trial  42: Composite = 0.7990\n"
     ]
    },
    {
     "name": "stderr",
     "output_type": "stream",
     "text": [
      "[I 2025-09-03 23:43:59,724] Trial 43 finished with value: 0.7983563966416601 and parameters: {'n_estimators': 590, 'max_depth': 4, 'learning_rate': 0.015206812750844177, 'subsample': 0.9461086767488527, 'colsample_bytree': 0.7883110653127492, 'reg_alpha': 1.3500142514968676, 'reg_lambda': 0.827225352216887, 'min_child_weight': 9.616957826609896, 'gamma': 0.4532620672218191}. Best is trial 33 with value: 0.7992990219518816.\n"
     ]
    },
    {
     "name": "stdout",
     "output_type": "stream",
     "text": [
      "Trial  43: Composite = 0.7984\n"
     ]
    },
    {
     "name": "stderr",
     "output_type": "stream",
     "text": [
      "[I 2025-09-03 23:44:04,083] Trial 44 finished with value: 0.7990840732169603 and parameters: {'n_estimators': 479, 'max_depth': 6, 'learning_rate': 0.018598708294964406, 'subsample': 0.883009429808359, 'colsample_bytree': 0.8648981039142605, 'reg_alpha': 1.8538070810680338, 'reg_lambda': 0.9153465156132696, 'min_child_weight': 9.137127075278364, 'gamma': 0.2931314157807272}. Best is trial 33 with value: 0.7992990219518816.\n"
     ]
    },
    {
     "name": "stdout",
     "output_type": "stream",
     "text": [
      "Trial  44: Composite = 0.7991\n"
     ]
    },
    {
     "name": "stderr",
     "output_type": "stream",
     "text": [
      "[I 2025-09-03 23:44:08,833] Trial 45 finished with value: 0.7981382396571345 and parameters: {'n_estimators': 484, 'max_depth': 6, 'learning_rate': 0.01959629748887622, 'subsample': 0.8813467868010775, 'colsample_bytree': 0.8770130531993753, 'reg_alpha': 1.8536063721396603, 'reg_lambda': 1.0717836161522807, 'min_child_weight': 9.07557747397493, 'gamma': 0.1838898415383629}. Best is trial 33 with value: 0.7992990219518816.\n"
     ]
    },
    {
     "name": "stdout",
     "output_type": "stream",
     "text": [
      "Trial  45: Composite = 0.7981\n"
     ]
    },
    {
     "name": "stderr",
     "output_type": "stream",
     "text": [
      "[I 2025-09-03 23:44:16,025] Trial 46 finished with value: 0.7972908991050293 and parameters: {'n_estimators': 635, 'max_depth': 7, 'learning_rate': 0.02398329709573066, 'subsample': 0.8447015344628699, 'colsample_bytree': 0.843552423090949, 'reg_alpha': 1.6011971972120738, 'reg_lambda': 0.720057078883696, 'min_child_weight': 8.00057640878828, 'gamma': 0.2773274190486004}. Best is trial 33 with value: 0.7992990219518816.\n"
     ]
    },
    {
     "name": "stdout",
     "output_type": "stream",
     "text": [
      "Trial  46: Composite = 0.7973\n"
     ]
    },
    {
     "name": "stderr",
     "output_type": "stream",
     "text": [
      "[I 2025-09-03 23:44:21,523] Trial 47 finished with value: 0.799441434230474 and parameters: {'n_estimators': 530, 'max_depth': 6, 'learning_rate': 0.011177303677133618, 'subsample': 0.9183737977741974, 'colsample_bytree': 0.8844127158628734, 'reg_alpha': 1.4291625574001503, 'reg_lambda': 0.9696972642066214, 'min_child_weight': 9.836686568317432, 'gamma': 1.269889690654802}. Best is trial 47 with value: 0.799441434230474.\n"
     ]
    },
    {
     "name": "stdout",
     "output_type": "stream",
     "text": [
      "Trial  47: Composite = 0.7994\n"
     ]
    },
    {
     "name": "stderr",
     "output_type": "stream",
     "text": [
      "[I 2025-09-03 23:44:27,355] Trial 48 finished with value: 0.7990013283854692 and parameters: {'n_estimators': 546, 'max_depth': 6, 'learning_rate': 0.011733729778276636, 'subsample': 0.9159304380522113, 'colsample_bytree': 0.7102694948041879, 'reg_alpha': 0.9101905000084815, 'reg_lambda': 0.1675105440245217, 'min_child_weight': 9.963788648072274, 'gamma': 1.2868866578929954}. Best is trial 47 with value: 0.799441434230474.\n"
     ]
    },
    {
     "name": "stdout",
     "output_type": "stream",
     "text": [
      "Trial  48: Composite = 0.7990\n"
     ]
    },
    {
     "name": "stderr",
     "output_type": "stream",
     "text": [
      "[I 2025-09-03 23:44:33,480] Trial 49 finished with value: 0.7986959546591882 and parameters: {'n_estimators': 696, 'max_depth': 6, 'learning_rate': 0.01161576988527243, 'subsample': 0.9742624170180533, 'colsample_bytree': 0.6753966663006805, 'reg_alpha': 1.2849720090376964, 'reg_lambda': 1.1420264468369759, 'min_child_weight': 8.784051925408193, 'gamma': 1.0236389784423183}. Best is trial 47 with value: 0.799441434230474.\n"
     ]
    },
    {
     "name": "stdout",
     "output_type": "stream",
     "text": [
      "Trial  49: Composite = 0.7987\n",
      "\n",
      "🏆 XGBoost OPTIMIZATION COMPLETED!\n",
      "Best composite score: 0.7994\n",
      "\n",
      "📊 FINAL MODEL PERFORMANCE (5-fold CV):\n",
      "   Composite Score: 0.7971\n",
      "   F1 Score: 0.7695\n",
      "   Precision: 0.7832\n",
      "   Recall: 0.7563\n",
      "   Roc Auc: 0.8710\n",
      "   Balanced Accuracy: 0.7844\n",
      "\n",
      "🏆 BEST ALGORITHM: LIGHTGBM\n",
      "🎯 Best Composite Score: 0.8011\n",
      "\n",
      "✅ MULTI-OBJECTIVE OPTIMIZATION COMPLETED!\n",
      "🎯 Best model updated: LGBMClassifier\n",
      "\n",
      "📊 COMPREHENSIVE EVALUATION OF OPTIMIZED MODEL:\n",
      "=======================================================\n",
      "📈 Composite Score   : 0.7967\n",
      "🎯 F1-Score          : 0.7694\n",
      "📊 ROC-AUC           : 0.8704\n",
      "🔍 Precision         : 0.7810\n",
      "🎪 Recall            : 0.7582\n",
      "⚖️ Balanced Accuracy : 0.7839\n",
      "\n",
      "📈 IMPROVEMENT ANALYSIS:\n",
      "==============================\n",
      "📈 composite_score   : +0.0053\n",
      "📈 f1_score          : +0.0014\n",
      "📈 precision         : +0.0310\n",
      "📉 recall            : -0.0288\n",
      "📈 roc_auc           : +0.0088\n",
      "📈 balanced_accuracy : +0.0082\n",
      "\n",
      "🎉 MULTI-OBJECTIVE OPTIMIZATION SUCCESSFUL!\n"
     ]
    }
   ],
   "source": [
    "# ML Model Training và Optimization - Advanced Classifiers với Imbalance Handling\n",
    "import xgboost as xgb\n",
    "import lightgbm as lgb\n",
    "from sklearn.ensemble import RandomForestClassifier\n",
    "from sklearn.linear_model import LogisticRegression\n",
    "from sklearn.preprocessing import StandardScaler, RobustScaler\n",
    "from sklearn.model_selection import GridSearchCV, cross_val_score, TimeSeriesSplit\n",
    "from sklearn.metrics import accuracy_score, roc_auc_score, f1_score, precision_score, recall_score, classification_report, confusion_matrix\n",
    "from imblearn.over_sampling import SMOTE\n",
    "from imblearn.under_sampling import RandomUnderSampler\n",
    "import optuna\n",
    "import warnings\n",
    "warnings.filterwarnings('ignore')\n",
    "\n",
    "class MLOptimizer:\n",
    "    \"\"\"\n",
    "    Tối ưu hóa mô hình ML cho dự đoán cổ phiếu - Advanced Classifiers với Time Series Handling\n",
    "    \"\"\"\n",
    "\n",
    "    def __init__(self, features, target_col='outperform_10d'):\n",
    "        self.features = features\n",
    "        self.target_col = target_col\n",
    "        self.models = {}\n",
    "        self.best_model = None\n",
    "        self.scaler = RobustScaler()  # Better for outliers than StandardScaler\n",
    "        self.evaluation_metrics = ['accuracy', 'roc_auc', 'f1', 'precision', 'recall']\n",
    "        self.scale_pos_weight = None\n",
    "        self.use_smote = False  # Disabled for time series data\n",
    "        self.use_optuna = True\n",
    "        \n",
    "    def log(self, msg, level=\"INFO\"):\n",
    "        \"\"\"Structured logging function\"\"\"\n",
    "        if level == \"INFO\":\n",
    "            print(f\"[INFO] {msg}\")\n",
    "        elif level == \"WARNING\":\n",
    "            print(f\"[WARNING] {msg}\")\n",
    "        elif level == \"ERROR\":\n",
    "            print(f\"[ERROR] {msg}\")\n",
    "        elif level == \"SUCCESS\":\n",
    "            print(f\"[SUCCESS] {msg}\")\n",
    "        else:\n",
    "            print(f\"[{level}] {msg}\")\n",
    "\n",
    "    def create_interaction_features(self, df):\n",
    "        \"\"\"Tạo feature interactions để cải thiện model performance\"\"\"\n",
    "        self.log(\"Creating interaction features...\")\n",
    "        \n",
    "        df_enhanced = df.copy()\n",
    "        new_features = []\n",
    "        \n",
    "        # Feature interactions\n",
    "        if all(col in df.columns for col in ['technical_score', 'momentum_score']):\n",
    "            df_enhanced['tech_momentum_ratio'] = df['technical_score'] / (df['momentum_score'] + 1)\n",
    "            df_enhanced['tech_momentum_sum'] = df['technical_score'] + df['momentum_score']\n",
    "            df_enhanced['tech_momentum_diff'] = df['technical_score'] - df['momentum_score']\n",
    "            new_features.extend(['tech_momentum_ratio', 'tech_momentum_sum', 'tech_momentum_diff'])\n",
    "        \n",
    "        if all(col in df.columns for col in ['risk_adjusted_score', 'momentum_score']):\n",
    "            df_enhanced['risk_reward_ratio'] = df['risk_adjusted_score'] / (df['momentum_score'] + 1)\n",
    "            df_enhanced['risk_momentum_interaction'] = df['risk_adjusted_score'] * df['momentum_score']\n",
    "            new_features.extend(['risk_reward_ratio', 'risk_momentum_interaction'])\n",
    "        \n",
    "        if all(col in df.columns for col in ['volatility_20d', 'momentum_consistency']):\n",
    "            df_enhanced['volatility_momentum_diff'] = df['volatility_20d'] - df['momentum_consistency']\n",
    "            df_enhanced['volatility_momentum_ratio'] = df['volatility_20d'] / (df['momentum_consistency'] + 0.01)\n",
    "            new_features.extend(['volatility_momentum_diff', 'volatility_momentum_ratio'])\n",
    "        \n",
    "        if all(col in df.columns for col in ['volume_ratio', 'daily_range']):\n",
    "            df_enhanced['volume_price_interaction'] = df['volume_ratio'] * df['daily_range']\n",
    "            df_enhanced['volume_range_ratio'] = df['volume_ratio'] / (df['daily_range'] + 0.01)\n",
    "            new_features.extend(['volume_price_interaction', 'volume_range_ratio'])\n",
    "        \n",
    "        # Composite interaction features\n",
    "        if all(col in df.columns for col in ['bullish_score', 'bearish_score', 'net_signal_score']):\n",
    "            df_enhanced['signal_strength'] = (df['bullish_score'] + df['bearish_score']) / 2\n",
    "            df_enhanced['signal_balance'] = abs(df['net_signal_score']) / (df['bullish_score'] + df['bearish_score'] + 1)\n",
    "            new_features.extend(['signal_strength', 'signal_balance'])\n",
    "        \n",
    "        self.log(f\"Created {len(new_features)} interaction features: {new_features}\", \"SUCCESS\")\n",
    "        return df_enhanced, new_features\n",
    "\n",
    "    def prepare_data(self, df):\n",
    "        \"\"\"Chuẩn bị dữ liệu cho training với feature engineering và time series handling\"\"\"\n",
    "        self.log(\"Preparing data for training with advanced feature engineering...\")\n",
    "        \n",
    "        # Remove rows with missing targets\n",
    "        clean_df = df.dropna(subset=[self.target_col])\n",
    "        self.log(f\"Clean data shape: {clean_df.shape}\")\n",
    "\n",
    "        # Create interaction features\n",
    "        clean_df, new_features = self.create_interaction_features(clean_df)\n",
    "        \n",
    "        # Update feature list\n",
    "        self.features.extend(new_features)\n",
    "        self.features = list(set(self.features))  # Remove duplicates\n",
    "        \n",
    "        # Prepare features\n",
    "        X = clean_df[self.features].fillna(clean_df[self.features].median())\n",
    "        y = clean_df[self.target_col]\n",
    "\n",
    "        # Check class imbalance\n",
    "        class_distribution = y.value_counts()\n",
    "        self.log(f\"Class distribution: {class_distribution.to_dict()}\")\n",
    "        imbalance_ratio = class_distribution.max() / class_distribution.min()\n",
    "        self.log(f\"Imbalance ratio: {imbalance_ratio:.2f}\")\n",
    "        \n",
    "        # Calculate scale_pos_weight for XGBoost\n",
    "        self.scale_pos_weight = class_distribution[0] / class_distribution[1]\n",
    "        self.log(f\"Scale pos weight: {self.scale_pos_weight:.3f}\")\n",
    "\n",
    "        # Scale features (important for some models)\n",
    "        X_scaled = pd.DataFrame(\n",
    "            self.scaler.fit_transform(X),\n",
    "            columns=X.columns,\n",
    "            index=X.index\n",
    "        )\n",
    "\n",
    "        # Note: SMOTE disabled for time series data to preserve temporal structure\n",
    "        if self.use_smote and imbalance_ratio > 1.2:\n",
    "            self.log(\"SMOTE disabled for time series data to preserve temporal structure\", \"WARNING\")\n",
    "            self.log(\"Using scale_pos_weight and class_weight for imbalance handling instead\", \"INFO\")\n",
    "\n",
    "        self.log(\"Data preparation completed\", \"SUCCESS\")\n",
    "        return X_scaled, y, clean_df\n",
    "\n",
    "    def evaluate_model_comprehensive(self, model, X, y, cv=3):\n",
    "        \"\"\"Đánh giá model với multiple metrics\"\"\"\n",
    "        tscv = TimeSeriesSplit(n_splits=cv)\n",
    "        \n",
    "        metrics_results = {}\n",
    "        \n",
    "        for metric in self.evaluation_metrics:\n",
    "            try:\n",
    "                scores = cross_val_score(model, X, y, cv=tscv, scoring=metric)\n",
    "                metrics_results[metric] = {\n",
    "                    'mean': scores.mean(),\n",
    "                    'std': scores.std()\n",
    "                }\n",
    "            except Exception as e:\n",
    "                print(f\"      ⚠️ Error calculating {metric}: {str(e)}\")\n",
    "                metrics_results[metric] = {'mean': 0, 'std': 0}\n",
    "        \n",
    "        return metrics_results\n",
    "\n",
    "    def train_models(self, X, y):\n",
    "        \"\"\"Train multiple ML models - Focus on Classifiers\"\"\"\n",
    "        print(\"🚀 Training ML Models - Classifiers Focus...\")\n",
    "\n",
    "        # Define models - Optimized for classification with imbalance handling\n",
    "        models_config = {\n",
    "            'XGBoost_Classifier': xgb.XGBClassifier(\n",
    "                n_estimators=500,  # Increased for better performance\n",
    "                max_depth=6,\n",
    "                learning_rate=0.1,\n",
    "                subsample=0.8,\n",
    "                colsample_bytree=0.8,\n",
    "                random_state=42,\n",
    "                n_jobs=-1,\n",
    "                eval_metric='logloss',\n",
    "                scale_pos_weight=self.scale_pos_weight  # Use calculated weight\n",
    "            ),\n",
    "            \n",
    "            'LightGBM_Classifier': lgb.LGBMClassifier(\n",
    "                n_estimators=500,  # Increased for better performance\n",
    "                max_depth=6,\n",
    "                learning_rate=0.1,\n",
    "                subsample=0.8,\n",
    "                colsample_bytree=0.8,\n",
    "                random_state=42,\n",
    "                n_jobs=-1,\n",
    "                verbose=-1,\n",
    "                class_weight='balanced'  # Handle imbalance\n",
    "            ),\n",
    "            \n",
    "            # 'RandomForest_Classifier': RandomForestClassifier(\n",
    "            #     n_estimators=500,  # Increased for better performance\n",
    "            #     max_depth=10,\n",
    "            #     min_samples_split=5,\n",
    "            #     min_samples_leaf=2,\n",
    "            #     random_state=42,\n",
    "            #     n_jobs=-1,\n",
    "            #     class_weight='balanced'\n",
    "            # ),\n",
    "            \n",
    "            'LogisticRegression': LogisticRegression(\n",
    "                random_state=42,\n",
    "                max_iter=1000,\n",
    "                C=1.0,\n",
    "                class_weight='balanced'\n",
    "            )\n",
    "        }\n",
    "\n",
    "        results = {}\n",
    "\n",
    "        for name, model in models_config.items():\n",
    "            print(f\"   🔄 Training {name}...\")\n",
    "\n",
    "            try:\n",
    "                # Comprehensive evaluation\n",
    "                metrics_results = self.evaluate_model_comprehensive(model, X, y)\n",
    "                \n",
    "                # Fit model\n",
    "                model.fit(X, y)\n",
    "                self.models[name] = model\n",
    "\n",
    "                # Store results\n",
    "                results[name] = {\n",
    "                    'model': model,\n",
    "                    'metrics': metrics_results\n",
    "                }\n",
    "\n",
    "                # Print results\n",
    "                print(f\"      📊 Accuracy: {metrics_results['accuracy']['mean']:.4f} (+/- {metrics_results['accuracy']['std']*2:.4f})\")\n",
    "                print(f\"      🎯 ROC-AUC:  {metrics_results['roc_auc']['mean']:.4f} (+/- {metrics_results['roc_auc']['std']*2:.4f})\")\n",
    "                print(f\"      ⚖️ F1-Score: {metrics_results['f1']['mean']:.4f} (+/- {metrics_results['f1']['std']*2:.4f})\")\n",
    "\n",
    "            except Exception as e:\n",
    "                print(f\"      ❌ {name} failed: {str(e)}\")\n",
    "                continue\n",
    "\n",
    "        # Select best model based on business-focused score (weighted combination)\n",
    "        if results:\n",
    "            def calculate_business_score(metrics):\n",
    "                \"\"\"Calculate business-focused score for stock prediction\"\"\"\n",
    "                # Weighted combination: ROC-AUC (40%) + F1 (40%) + Recall (20%)\n",
    "                # Focus on detecting positive cases (outperforming stocks)\n",
    "                return (metrics['roc_auc']['mean'] * 0.4 + \n",
    "                        metrics['f1']['mean'] * 0.4 + \n",
    "                        metrics['recall']['mean'] * 0.2)\n",
    "            \n",
    "            # Calculate business scores for all models\n",
    "            business_scores = {}\n",
    "            for name, result in results.items():\n",
    "                business_scores[name] = calculate_business_score(result['metrics'])\n",
    "                self.log(f\"{name} - Business Score: {business_scores[name]:.4f} \"\n",
    "                        f\"(ROC-AUC: {result['metrics']['roc_auc']['mean']:.4f}, \"\n",
    "                        f\"F1: {result['metrics']['f1']['mean']:.4f}, \"\n",
    "                        f\"Recall: {result['metrics']['recall']['mean']:.4f})\")\n",
    "            \n",
    "            # Select best model based on business score\n",
    "            best_name = max(business_scores.keys(), key=lambda k: business_scores[k])\n",
    "            self.best_model = results[best_name]['model']\n",
    "            best_score = business_scores[best_name]\n",
    "            self.log(f\"Best Model: {best_name} (Business Score: {best_score:.4f})\", \"SUCCESS\")\n",
    "\n",
    "        return results\n",
    "\n",
    "    def hyperparameter_tuning_xgboost(self, X, y):\n",
    "        \"\"\"Advanced hyperparameter tuning for XGBoost using Optuna\"\"\"\n",
    "        self.log(\"Advanced Hyperparameter Tuning for XGBoost using Optuna...\")\n",
    "\n",
    "        def objective(trial):\n",
    "            params = {\n",
    "                'n_estimators': trial.suggest_int('n_estimators', 500, 2000),\n",
    "                'max_depth': trial.suggest_int('max_depth', 3, 7),\n",
    "                'learning_rate': trial.suggest_float('learning_rate', 0.01, 0.2),\n",
    "                'subsample': trial.suggest_float('subsample', 0.7, 1.0),\n",
    "                'colsample_bytree': trial.suggest_float('colsample_bytree', 0.7, 1.0),\n",
    "                'reg_alpha': trial.suggest_float('reg_alpha', 0, 1.0),\n",
    "                'reg_lambda': trial.suggest_float('reg_lambda', 0, 1.0),\n",
    "                'scale_pos_weight': self.scale_pos_weight\n",
    "            }\n",
    "            \n",
    "            model = xgb.XGBClassifier(\n",
    "                random_state=42,\n",
    "                n_jobs=-1,\n",
    "                eval_metric='logloss',\n",
    "                **params\n",
    "            )\n",
    "            \n",
    "            # Cross validation\n",
    "            tscv = TimeSeriesSplit(n_splits=3)\n",
    "            scores = cross_val_score(model, X, y, cv=tscv, scoring='roc_auc')\n",
    "            return scores.mean()\n",
    "\n",
    "        # Run Optuna optimization with enhanced logging\n",
    "        study = optuna.create_study(direction='maximize', sampler=optuna.samplers.TPESampler(seed=42))\n",
    "        \n",
    "        def callback(study, trial):\n",
    "            self.log(f\"Trial {trial.number}: ROC-AUC = {trial.value:.4f}\")\n",
    "        \n",
    "        study.optimize(objective, n_trials=50, callbacks=[callback])\n",
    "        \n",
    "        self.log(f\"Best parameters: {study.best_params}\", \"SUCCESS\")\n",
    "        self.log(f\"Best ROC-AUC score: {study.best_value:.4f}\", \"SUCCESS\")\n",
    "\n",
    "        # Train final model with best parameters\n",
    "        best_model = xgb.XGBClassifier(\n",
    "            random_state=42,\n",
    "            n_jobs=-1,\n",
    "            eval_metric='logloss',\n",
    "            **study.best_params\n",
    "        )\n",
    "        best_model.fit(X, y)\n",
    "\n",
    "        # Update best model\n",
    "        self.best_model = best_model\n",
    "        self.models['XGBoost_Tuned'] = self.best_model\n",
    "\n",
    "        return best_model\n",
    "\n",
    "    def hyperparameter_tuning_lightgbm(self, X, y):\n",
    "        \"\"\"Advanced hyperparameter tuning for LightGBM using Optuna\"\"\"\n",
    "        self.log(\"Advanced Hyperparameter Tuning for LightGBM using Optuna...\")\n",
    "\n",
    "        def objective(trial):\n",
    "            params = {\n",
    "                'n_estimators': trial.suggest_int('n_estimators', 500, 2000),\n",
    "                'max_depth': trial.suggest_int('max_depth', 3, 7),\n",
    "                'learning_rate': trial.suggest_float('learning_rate', 0.01, 0.2),\n",
    "                'subsample': trial.suggest_float('subsample', 0.7, 1.0),\n",
    "                'colsample_bytree': trial.suggest_float('colsample_bytree', 0.7, 1.0),\n",
    "                'reg_alpha': trial.suggest_float('reg_alpha', 0, 1.0),\n",
    "                'reg_lambda': trial.suggest_float('reg_lambda', 0, 1.0),\n",
    "                'num_leaves': trial.suggest_int('num_leaves', 15, 127),\n",
    "                'class_weight': 'balanced'\n",
    "            }\n",
    "            \n",
    "            model = lgb.LGBMClassifier(\n",
    "                random_state=42,\n",
    "                n_jobs=-1,\n",
    "                verbose=-1,\n",
    "                **params\n",
    "            )\n",
    "            \n",
    "            # Cross validation\n",
    "            tscv = TimeSeriesSplit(n_splits=3)\n",
    "            scores = cross_val_score(model, X, y, cv=tscv, scoring='roc_auc')\n",
    "            return scores.mean()\n",
    "\n",
    "        # Run Optuna optimization with enhanced logging\n",
    "        study = optuna.create_study(direction='maximize', sampler=optuna.samplers.TPESampler(seed=42))\n",
    "        \n",
    "        def callback(study, trial):\n",
    "            self.log(f\"Trial {trial.number}: ROC-AUC = {trial.value:.4f}\")\n",
    "        \n",
    "        study.optimize(objective, n_trials=50, callbacks=[callback])\n",
    "        \n",
    "        self.log(f\"Best parameters: {study.best_params}\", \"SUCCESS\")\n",
    "        self.log(f\"Best ROC-AUC score: {study.best_value:.4f}\", \"SUCCESS\")\n",
    "\n",
    "        # Train final model with best parameters\n",
    "        best_model = lgb.LGBMClassifier(\n",
    "            random_state=42,\n",
    "            n_jobs=-1,\n",
    "            verbose=-1,\n",
    "            **study.best_params\n",
    "        )\n",
    "        best_model.fit(X, y)\n",
    "\n",
    "        # Update best model\n",
    "        self.best_model = best_model\n",
    "        self.models['LightGBM_Tuned'] = self.best_model\n",
    "\n",
    "        return best_model\n",
    "\n",
    "    def get_feature_importance(self):\n",
    "        \"\"\"Lấy feature importance từ best model với detailed analysis\"\"\"\n",
    "        if self.best_model is None:\n",
    "            return None\n",
    "\n",
    "        try:\n",
    "            if hasattr(self.best_model, 'feature_importances_'):\n",
    "                importance = pd.DataFrame({\n",
    "                    'feature': self.features,\n",
    "                    'importance': self.best_model.feature_importances_\n",
    "                }).sort_values('importance', ascending=False)\n",
    "                \n",
    "                # Add importance percentage\n",
    "                importance['importance_pct'] = (importance['importance'] / importance['importance'].sum()) * 100\n",
    "                \n",
    "                return importance\n",
    "            else:\n",
    "                print(\"   ⚠️ Model doesn't support feature importance\")\n",
    "                return None\n",
    "        except Exception as e:\n",
    "            print(f\"   ❌ Error getting feature importance: {str(e)}\")\n",
    "            return None\n",
    "\n",
    "    def model_interpretation(self, X, y):\n",
    "        \"\"\"Comprehensive model interpretation and analysis\"\"\"\n",
    "        self.log(\"Comprehensive Model Interpretation Analysis...\")\n",
    "\n",
    "        if self.best_model is None:\n",
    "            self.log(\"No best model available\", \"ERROR\")\n",
    "            return\n",
    "\n",
    "        # Feature importance analysis\n",
    "        importance = self.get_feature_importance()\n",
    "        if importance is not None:\n",
    "            self.log(\"Top 15 Most Important Features:\")\n",
    "            self.log(f\"{'Rank':<4} {'Feature':<25} {'Importance':<12} {'Percentage':<10}\")\n",
    "            self.log(\"-\" * 55)\n",
    "            \n",
    "            for i, (_, row) in enumerate(importance.head(15).iterrows(), 1):\n",
    "                self.log(f\"{i:<4} {row['feature']:<25} {row['importance']:<12.4f} {row['importance_pct']:<10.2f}%\")\n",
    "\n",
    "        # Model predictions analysis\n",
    "        try:\n",
    "            X_scaled = pd.DataFrame(\n",
    "                self.scaler.transform(X.fillna(X.median())),\n",
    "                columns=X.columns,\n",
    "                index=X.index\n",
    "            )\n",
    "\n",
    "            if hasattr(self.best_model, 'predict_proba'):\n",
    "                probabilities = self.best_model.predict_proba(X_scaled)[:, 1]\n",
    "                predictions = self.best_model.predict(X_scaled)\n",
    "                \n",
    "                self.log(\"Prediction Analysis:\")\n",
    "                self.log(f\"Mean probability: {probabilities.mean():.4f}\")\n",
    "                self.log(f\"Std probability:  {probabilities.std():.4f}\")\n",
    "                self.log(f\"Min probability:  {probabilities.min():.4f}\")\n",
    "                self.log(f\"Max probability:  {probabilities.max():.4f}\")\n",
    "                \n",
    "                # Confusion matrix\n",
    "                cm = confusion_matrix(y, predictions)\n",
    "                self.log(\"Confusion Matrix:\")\n",
    "                self.log(f\"True Negatives:  {cm[0,0]:,}\")\n",
    "                self.log(f\"False Positives: {cm[0,1]:,}\")\n",
    "                self.log(f\"False Negatives: {cm[1,0]:,}\")\n",
    "                self.log(f\"True Positives:  {cm[1,1]:,}\")\n",
    "                \n",
    "                # Additional metrics\n",
    "                accuracy = accuracy_score(y, predictions)\n",
    "                roc_auc = roc_auc_score(y, probabilities)\n",
    "                f1 = f1_score(y, predictions)\n",
    "                precision = precision_score(y, predictions)\n",
    "                recall = recall_score(y, predictions)\n",
    "                \n",
    "                self.log(\"Final Model Performance:\")\n",
    "                self.log(f\"Accuracy:  {accuracy:.4f}\")\n",
    "                self.log(f\"ROC-AUC:   {roc_auc:.4f}\")\n",
    "                self.log(f\"F1-Score:  {f1:.4f}\")\n",
    "                self.log(f\"Precision: {precision:.4f}\")\n",
    "                self.log(f\"Recall:    {recall:.4f}\")\n",
    "                \n",
    "                # Business-focused metrics\n",
    "                self.log(\"Business-Focused Metrics:\")\n",
    "                self.log(f\"True Positive Rate (Sensitivity): {recall:.4f}\")\n",
    "                self.log(f\"False Positive Rate: {cm[0,1]/(cm[0,1]+cm[0,0]):.4f}\")\n",
    "                self.log(f\"Positive Predictive Value: {precision:.4f}\")\n",
    "                self.log(f\"Negative Predictive Value: {cm[0,0]/(cm[0,0]+cm[1,0]):.4f}\")\n",
    "                \n",
    "        except Exception as e:\n",
    "            self.log(f\"Error in prediction analysis: {str(e)}\", \"ERROR\")\n",
    "\n",
    "        return importance\n",
    "\n",
    "# Chạy ML optimization với Advanced Features\n",
    "print(\"=\"*80)\n",
    "print(\"ML OPTIMIZATION - ADVANCED CLASSIFIERS WITH TIME SERIES HANDLING\")\n",
    "print(\"=\"*80)\n",
    "\n",
    "# Chuẩn bị dữ liệu với feature engineering\n",
    "ml_optimizer = MLOptimizer(available_features, 'outperform_10d')\n",
    "X, y, clean_df = ml_optimizer.prepare_data(df_ml)\n",
    "\n",
    "ml_optimizer.log(f\"Training data shape: X={X.shape}, y={y.shape}\")\n",
    "ml_optimizer.log(f\"Total features after engineering: {len(ml_optimizer.features)}\")\n",
    "\n",
    "# Train models\n",
    "model_results = ml_optimizer.train_models(X, y)\n",
    "\n",
    "# Advanced hyperparameter tuning for best model\n",
    "if ml_optimizer.best_model is not None:\n",
    "    best_model_name = type(ml_optimizer.best_model).__name__\n",
    "    \n",
    "    if 'XGB' in best_model_name:\n",
    "        ml_optimizer.log(\"Performing advanced Optuna tuning for XGBoost...\")\n",
    "        tuned_model = ml_optimizer.hyperparameter_tuning_xgboost(X, y)\n",
    "    elif 'LGBM' in best_model_name:\n",
    "        ml_optimizer.log(\"Performing advanced Optuna tuning for LightGBM...\")\n",
    "        tuned_model = ml_optimizer.hyperparameter_tuning_lightgbm(X, y)\n",
    "\n",
    "# Comprehensive model interpretation\n",
    "feature_importance = ml_optimizer.model_interpretation(X, y)\n",
    "\n",
    "# Summary of improvements\n",
    "print(\"\\n\" + \"=\"*80)\n",
    "print(\"SUMMARY OF IMPROVEMENTS IMPLEMENTED\")\n",
    "print(\"=\"*80)\n",
    "ml_optimizer.log(f\"Class Imbalance: Scale pos weight = {ml_optimizer.scale_pos_weight:.3f}\")\n",
    "ml_optimizer.log(\"SMOTE: Disabled for time series data preservation\")\n",
    "ml_optimizer.log(f\"Feature Engineering: {len(ml_optimizer.features) - len(available_features)} new interaction features\")\n",
    "ml_optimizer.log(\"Hyperparameter Tuning: Optuna with expanded ranges (500-2000 estimators)\")\n",
    "ml_optimizer.log(\"Enhanced Metrics: Accuracy, ROC-AUC, F1, Precision, Recall\")\n",
    "ml_optimizer.log(\"Business Metrics: TPR, FPR, PPV, NPV\")\n",
    "ml_optimizer.log(\"Advanced Scaling: RobustScaler for outlier handling\")\n",
    "ml_optimizer.log(\"Structured Logging: Professional logging system\")\n",
    "ml_optimizer.log(\"Business-Focused Selection: Weighted score (ROC-AUC 40%, F1 40%, Recall 20%)\")\n",
    "print(\"=\"*80)\n",
    "\n",
    "import optuna\n",
    "from sklearn.model_selection import cross_val_score, TimeSeriesSplit\n",
    "from sklearn.metrics import f1_score, precision_score, recall_score, roc_auc_score\n",
    "import numpy as np\n",
    "\n",
    "class MultiObjectiveOptimizer:\n",
    "    \"\"\"\n",
    "    Multi-objective hyperparameter optimization for trading models\n",
    "    \"\"\"\n",
    "    \n",
    "    def __init__(self, scale_pos_weight=1.0):\n",
    "        self.scale_pos_weight = scale_pos_weight\n",
    "        \n",
    "    def calculate_composite_score(self, y_true, y_pred, y_proba):\n",
    "        \"\"\"\n",
    "        Tính composite score từ nhiều metrics\n",
    "        \"\"\"\n",
    "        try:\n",
    "            # Core classification metrics\n",
    "            f1 = f1_score(y_true, y_pred, zero_division=0)\n",
    "            precision = precision_score(y_true, y_pred, zero_division=0)\n",
    "            recall = recall_score(y_true, y_pred, zero_division=0)\n",
    "            roc_auc = roc_auc_score(y_true, y_proba)\n",
    "            \n",
    "            # Trading-specific metrics\n",
    "            # True Positive Rate (Sensitivity) - quan trọng cho trading\n",
    "            tpr = recall  # Same as recall\n",
    "            \n",
    "            # Precision (Positive Predictive Value) - tránh false signals\n",
    "            ppv = precision\n",
    "            \n",
    "            # Balanced accuracy for imbalanced data\n",
    "            tn = np.sum((y_true == 0) & (y_pred == 0))\n",
    "            fp = np.sum((y_true == 0) & (y_pred == 1))\n",
    "            fn = np.sum((y_true == 1) & (y_pred == 0))\n",
    "            tp = np.sum((y_true == 1) & (y_pred == 1))\n",
    "            \n",
    "            specificity = tn / (tn + fp) if (tn + fp) > 0 else 0\n",
    "            balanced_acc = (tpr + specificity) / 2\n",
    "            \n",
    "            # Composite score với trọng số phù hợp cho trading\n",
    "            composite = (\n",
    "                f1 * 0.30 +           # F1-score: cân bằng precision/recall\n",
    "                roc_auc * 0.25 +      # ROC-AUC: overall discriminative ability  \n",
    "                precision * 0.20 +    # Precision: tránh false positives\n",
    "                recall * 0.15 +       # Recall: không miss opportunities\n",
    "                balanced_acc * 0.10   # Balanced accuracy: handle imbalance\n",
    "            )\n",
    "            \n",
    "            return {\n",
    "                'composite_score': composite,\n",
    "                'f1_score': f1,\n",
    "                'precision': precision,\n",
    "                'recall': recall,\n",
    "                'roc_auc': roc_auc,\n",
    "                'balanced_accuracy': balanced_acc\n",
    "            }\n",
    "            \n",
    "        except Exception as e:\n",
    "            print(f\"Error calculating composite score: {e}\")\n",
    "            return {'composite_score': 0, 'f1_score': 0, 'precision': 0, 'recall': 0, 'roc_auc': 0.5, 'balanced_accuracy': 0}\n",
    "\n",
    "    def cross_validate_with_composite_score(self, model, X, y, cv=3):\n",
    "        \"\"\"\n",
    "        Cross validation với composite score\n",
    "        \"\"\"\n",
    "        tscv = TimeSeriesSplit(n_splits=cv)\n",
    "        scores = []\n",
    "        \n",
    "        for train_idx, val_idx in tscv.split(X):\n",
    "            X_train, X_val = X.iloc[train_idx], X.iloc[val_idx]\n",
    "            y_train, y_val = y.iloc[train_idx], y.iloc[val_idx]\n",
    "            \n",
    "            # Fit model\n",
    "            model.fit(X_train, y_train)\n",
    "            \n",
    "            # Predictions\n",
    "            y_pred = model.predict(X_val)\n",
    "            y_proba = model.predict_proba(X_val)[:, 1] if hasattr(model, 'predict_proba') else y_pred\n",
    "            \n",
    "            # Calculate composite score\n",
    "            fold_scores = self.calculate_composite_score(y_val, y_pred, y_proba)\n",
    "            scores.append(fold_scores)\n",
    "        \n",
    "        # Average across folds\n",
    "        avg_scores = {}\n",
    "        for metric in scores[0].keys():\n",
    "            avg_scores[metric] = np.mean([score[metric] for score in scores])\n",
    "            \n",
    "        return avg_scores\n",
    "\n",
    "    def optimize_lightgbm_multi_objective(self, X, y, n_trials=50):\n",
    "        \"\"\"\n",
    "        Multi-objective optimization cho LightGBM\n",
    "        \"\"\"\n",
    "        print(\"🎯 Multi-Objective Hyperparameter Optimization for LightGBM...\")\n",
    "        print(\"📊 Optimizing: F1-Score (30%) + ROC-AUC (25%) + Precision (20%) + Recall (15%) + Balanced-Acc (10%)\")\n",
    "        \n",
    "        def objective(trial):\n",
    "            # Hyperparameter space với extended ranges\n",
    "            params = {\n",
    "                'n_estimators': trial.suggest_int('n_estimators', 300, 2000),\n",
    "                'max_depth': trial.suggest_int('max_depth', 3, 8),\n",
    "                'learning_rate': trial.suggest_float('learning_rate', 0.01, 0.3, log=True),\n",
    "                'subsample': trial.suggest_float('subsample', 0.6, 1.0),\n",
    "                'colsample_bytree': trial.suggest_float('colsample_bytree', 0.6, 1.0),\n",
    "                'reg_alpha': trial.suggest_float('reg_alpha', 0, 2.0),\n",
    "                'reg_lambda': trial.suggest_float('reg_lambda', 0, 2.0),\n",
    "                'num_leaves': trial.suggest_int('num_leaves', 10, 200),\n",
    "                'min_child_samples': trial.suggest_int('min_child_samples', 5, 100),\n",
    "                'min_child_weight': trial.suggest_float('min_child_weight', 1e-3, 10.0, log=True),\n",
    "                'subsample_freq': trial.suggest_int('subsample_freq', 0, 10),\n",
    "                'class_weight': 'balanced',\n",
    "                'random_state': 42,\n",
    "                'n_jobs': -1,\n",
    "                'verbose': -1\n",
    "            }\n",
    "            \n",
    "            model = lgb.LGBMClassifier(**params)\n",
    "            \n",
    "            # Cross validation với composite score\n",
    "            cv_scores = self.cross_validate_with_composite_score(model, X, y, cv=3)\n",
    "            \n",
    "            return cv_scores['composite_score']\n",
    "        \n",
    "        # Create study với advanced sampler\n",
    "        study = optuna.create_study(\n",
    "            direction='maximize',\n",
    "            sampler=optuna.samplers.TPESampler(\n",
    "                n_startup_trials=20,  # Random trials trước khi dùng TPE\n",
    "                n_ei_candidates=50,   # Candidates cho Expected Improvement\n",
    "                seed=42\n",
    "            ),\n",
    "            pruner=optuna.pruners.MedianPruner(\n",
    "                n_startup_trials=10,  # Số trials trước khi bắt đầu prune\n",
    "                n_warmup_steps=5      # Số steps warm-up\n",
    "            )\n",
    "        )\n",
    "        \n",
    "        # Callback để track progress với detailed metrics\n",
    "        def detailed_callback(study, trial):\n",
    "            # Re-evaluate best trial để lấy detailed metrics\n",
    "            if trial.value == study.best_value:\n",
    "                best_params = trial.params\n",
    "                model = lgb.LGBMClassifier(**best_params)\n",
    "                detailed_scores = self.cross_validate_with_composite_score(model, X, y, cv=3)\n",
    "                \n",
    "                print(f\"Trial {trial.number:3d}: Composite = {trial.value:.4f}\")\n",
    "                print(f\"    F1={detailed_scores['f1_score']:.3f}, ROC-AUC={detailed_scores['roc_auc']:.3f}, \"\n",
    "                      f\"Precision={detailed_scores['precision']:.3f}, Recall={detailed_scores['recall']:.3f}\")\n",
    "            else:\n",
    "                print(f\"Trial {trial.number:3d}: Composite = {trial.value:.4f}\")\n",
    "        \n",
    "        # Run optimization\n",
    "        study.optimize(objective, n_trials=n_trials, callbacks=[detailed_callback])\n",
    "        \n",
    "        # Best model với detailed evaluation\n",
    "        print(f\"\\n🏆 OPTIMIZATION COMPLETED!\")\n",
    "        print(f\"Best composite score: {study.best_value:.4f}\")\n",
    "        print(f\"Best parameters: {study.best_params}\")\n",
    "        \n",
    "        # Train final model với best params và evaluate\n",
    "        best_model = lgb.LGBMClassifier(**study.best_params)\n",
    "        final_scores = self.cross_validate_with_composite_score(best_model, X, y, cv=5)  # More folds cho final eval\n",
    "        \n",
    "        print(f\"\\n📊 FINAL MODEL PERFORMANCE (5-fold CV):\")\n",
    "        print(f\"   Composite Score: {final_scores['composite_score']:.4f}\")\n",
    "        print(f\"   F1-Score:        {final_scores['f1_score']:.4f}\")\n",
    "        print(f\"   ROC-AUC:         {final_scores['roc_auc']:.4f}\")\n",
    "        print(f\"   Precision:       {final_scores['precision']:.4f}\")\n",
    "        print(f\"   Recall:          {final_scores['recall']:.4f}\")\n",
    "        print(f\"   Balanced Acc:    {final_scores['balanced_accuracy']:.4f}\")\n",
    "        \n",
    "        # Fit final model on full data\n",
    "        best_model.fit(X, y)\n",
    "        \n",
    "        return {\n",
    "            'model': best_model,\n",
    "            'best_params': study.best_params,\n",
    "            'best_score': study.best_value,\n",
    "            'study': study,\n",
    "            'cv_scores': final_scores\n",
    "        }\n",
    "\n",
    "    def optimize_xgboost_multi_objective(self, X, y, n_trials=50):\n",
    "        \"\"\"\n",
    "        Multi-objective optimization cho XGBoost\n",
    "        \"\"\"\n",
    "        print(\"🎯 Multi-Objective Hyperparameter Optimization for XGBoost...\")\n",
    "        \n",
    "        def objective(trial):\n",
    "            params = {\n",
    "                'n_estimators': trial.suggest_int('n_estimators', 300, 2000),\n",
    "                'max_depth': trial.suggest_int('max_depth', 3, 8),\n",
    "                'learning_rate': trial.suggest_float('learning_rate', 0.01, 0.3, log=True),\n",
    "                'subsample': trial.suggest_float('subsample', 0.6, 1.0),\n",
    "                'colsample_bytree': trial.suggest_float('colsample_bytree', 0.6, 1.0),\n",
    "                'reg_alpha': trial.suggest_float('reg_alpha', 0, 2.0),\n",
    "                'reg_lambda': trial.suggest_float('reg_lambda', 0, 2.0),\n",
    "                'min_child_weight': trial.suggest_float('min_child_weight', 1, 10),\n",
    "                'gamma': trial.suggest_float('gamma', 0, 2.0),\n",
    "                'scale_pos_weight': self.scale_pos_weight,\n",
    "                'random_state': 42,\n",
    "                'n_jobs': -1,\n",
    "                'eval_metric': 'logloss'\n",
    "            }\n",
    "            \n",
    "            model = xgb.XGBClassifier(**params)\n",
    "            cv_scores = self.cross_validate_with_composite_score(model, X, y, cv=3)\n",
    "            return cv_scores['composite_score']\n",
    "        \n",
    "        study = optuna.create_study(\n",
    "            direction='maximize',\n",
    "            sampler=optuna.samplers.TPESampler(n_startup_trials=20, seed=42)\n",
    "        )\n",
    "        \n",
    "        def callback(study, trial):\n",
    "            print(f\"Trial {trial.number:3d}: Composite = {trial.value:.4f}\")\n",
    "        \n",
    "        study.optimize(objective, n_trials=n_trials, callbacks=[callback])\n",
    "        \n",
    "        # Final evaluation\n",
    "        best_model = xgb.XGBClassifier(**study.best_params)\n",
    "        final_scores = self.cross_validate_with_composite_score(best_model, X, y, cv=5)\n",
    "        \n",
    "        print(f\"\\n🏆 XGBoost OPTIMIZATION COMPLETED!\")\n",
    "        print(f\"Best composite score: {study.best_value:.4f}\")\n",
    "        print(f\"\\n📊 FINAL MODEL PERFORMANCE (5-fold CV):\")\n",
    "        for metric, score in final_scores.items():\n",
    "            print(f\"   {metric.replace('_', ' ').title()}: {score:.4f}\")\n",
    "        \n",
    "        best_model.fit(X, y)\n",
    "        \n",
    "        return {\n",
    "            'model': best_model,\n",
    "            'best_params': study.best_params,\n",
    "            'best_score': study.best_value,\n",
    "            'study': study,\n",
    "            'cv_scores': final_scores\n",
    "        }\n",
    "\n",
    "# Sửa lại MLOptimizer class để sử dụng multi-objective optimization\n",
    "class EnhancedMLOptimizer(MLOptimizer):\n",
    "    \"\"\"\n",
    "    Enhanced ML Optimizer với multi-objective hyperparameter tuning\n",
    "    \"\"\"\n",
    "    \n",
    "    def hyperparameter_tuning_multi_objective(self, X, y, algorithms=['lightgbm', 'xgboost']):\n",
    "        \"\"\"\n",
    "        Multi-objective hyperparameter tuning cho multiple algorithms\n",
    "        \"\"\"\n",
    "        print(\"🚀 STARTING MULTI-OBJECTIVE HYPERPARAMETER OPTIMIZATION\")\n",
    "        print(\"=\"*60)\n",
    "        \n",
    "        multi_opt = MultiObjectiveOptimizer(self.scale_pos_weight)\n",
    "        results = {}\n",
    "        \n",
    "        for algo in algorithms:\n",
    "            print(f\"\\n{'='*50}\")\n",
    "            print(f\"🎯 OPTIMIZING {algo.upper()}\")\n",
    "            print(f\"{'='*50}\")\n",
    "            \n",
    "            if algo == 'lightgbm':\n",
    "                result = multi_opt.optimize_lightgbm_multi_objective(X, y, n_trials=50)\n",
    "            elif algo == 'xgboost':\n",
    "                result = multi_opt.optimize_xgboost_multi_objective(X, y, n_trials=50)\n",
    "            \n",
    "            results[algo] = result\n",
    "        \n",
    "        # Select best algorithm based on composite score\n",
    "        best_algo = max(results.keys(), key=lambda k: results[k]['best_score'])\n",
    "        best_result = results[best_algo]\n",
    "        \n",
    "        print(f\"\\n🏆 BEST ALGORITHM: {best_algo.upper()}\")\n",
    "        print(f\"🎯 Best Composite Score: {best_result['best_score']:.4f}\")\n",
    "        \n",
    "        # Update best model\n",
    "        self.best_model = best_result['model']\n",
    "        self.models[f'{best_algo}_optimized'] = best_result['model']\n",
    "        \n",
    "        return results, best_result\n",
    "\n",
    "# Thay thế phần hyperparameter tuning trong notebook\n",
    "print(\"🔄 REPLACING HYPERPARAMETER TUNING WITH MULTI-OBJECTIVE OPTIMIZATION...\")\n",
    "\n",
    "# Enhanced optimizer\n",
    "enhanced_optimizer = EnhancedMLOptimizer(available_features, 'outperform_10d')\n",
    "enhanced_optimizer.scale_pos_weight = ml_optimizer.scale_pos_weight\n",
    "enhanced_optimizer.scaler = ml_optimizer.scaler\n",
    "\n",
    "# Run multi-objective optimization\n",
    "optimization_results, best_optimization = enhanced_optimizer.hyperparameter_tuning_multi_objective(\n",
    "    X, y, algorithms=['lightgbm', 'xgboost']\n",
    ")\n",
    "\n",
    "# Update ml_optimizer với best model\n",
    "ml_optimizer.best_model = enhanced_optimizer.best_model\n",
    "ml_optimizer.models.update(enhanced_optimizer.models)\n",
    "\n",
    "print(f\"\\n✅ MULTI-OBJECTIVE OPTIMIZATION COMPLETED!\")\n",
    "print(f\"🎯 Best model updated: {type(ml_optimizer.best_model).__name__}\")\n",
    "\n",
    "# Comprehensive evaluation của best model\n",
    "print(f\"\\n📊 COMPREHENSIVE EVALUATION OF OPTIMIZED MODEL:\")\n",
    "print(\"=\"*55)\n",
    "\n",
    "final_scores = best_optimization['cv_scores']\n",
    "metrics_display = [\n",
    "    ('Composite Score', final_scores['composite_score'], '📈'),\n",
    "    ('F1-Score', final_scores['f1_score'], '🎯'),\n",
    "    ('ROC-AUC', final_scores['roc_auc'], '📊'),\n",
    "    ('Precision', final_scores['precision'], '🔍'),\n",
    "    ('Recall', final_scores['recall'], '🎪'),\n",
    "    ('Balanced Accuracy', final_scores['balanced_accuracy'], '⚖️')\n",
    "]\n",
    "\n",
    "for name, score, emoji in metrics_display:\n",
    "    print(f\"{emoji} {name:<18}: {score:.4f}\")\n",
    "\n",
    "# So sánh với original model performance\n",
    "if hasattr(ml_optimizer, 'models') and 'LightGBM_Classifier' in ml_optimizer.models:\n",
    "    print(f\"\\n📈 IMPROVEMENT ANALYSIS:\")\n",
    "    print(\"=\"*30)\n",
    "    original_model = ml_optimizer.models['LightGBM_Classifier']\n",
    "    \n",
    "    # Quick evaluation of original model\n",
    "    multi_opt = MultiObjectiveOptimizer()\n",
    "    original_scores = multi_opt.cross_validate_with_composite_score(original_model, X, y, cv=3)\n",
    "    \n",
    "    improvements = {}\n",
    "    for metric in final_scores.keys():\n",
    "        if metric in original_scores:\n",
    "            improvement = final_scores[metric] - original_scores[metric]\n",
    "            improvements[metric] = improvement\n",
    "            status = \"📈\" if improvement > 0 else \"📉\" if improvement < 0 else \"➡️\"\n",
    "            print(f\"{status} {metric:<18}: {improvement:+.4f}\")\n",
    "\n",
    "print(f\"\\n🎉 MULTI-OBJECTIVE OPTIMIZATION SUCCESSFUL!\")\n"
   ]
  },
  {
   "cell_type": "code",
   "execution_count": 23,
   "metadata": {},
   "outputs": [
    {
     "name": "stdout",
     "output_type": "stream",
     "text": [
      "🌳 Training Decision Tree...\n",
      "✅ Decision Tree ROC-AUC: 0.8505 (+/- 0.0094)\n",
      "\n",
      "🌲 Training Random Forest...\n",
      "✅ Random Forest ROC-AUC: 0.8572 (+/- 0.0103)\n",
      "\n",
      "📊 Decision Tree performance:\n",
      "Accuracy = 0.7738, F1 = 0.7694, ROC-AUC = 0.8562\n",
      "              precision    recall  f1-score   support\n",
      "\n",
      "           0       0.77      0.79      0.78     32950\n",
      "           1       0.78      0.76      0.77     32728\n",
      "\n",
      "    accuracy                           0.77     65678\n",
      "   macro avg       0.77      0.77      0.77     65678\n",
      "weighted avg       0.77      0.77      0.77     65678\n",
      "\n",
      "Confusion Matrix:\n",
      " [[26038  6912]\n",
      " [ 7944 24784]]\n",
      "\n",
      "📊 Random Forest performance:\n",
      "Accuracy = 0.7867, F1 = 0.7830, ROC-AUC = 0.8752\n",
      "              precision    recall  f1-score   support\n",
      "\n",
      "           0       0.78      0.80      0.79     32950\n",
      "           1       0.79      0.77      0.78     32728\n",
      "\n",
      "    accuracy                           0.79     65678\n",
      "   macro avg       0.79      0.79      0.79     65678\n",
      "weighted avg       0.79      0.79      0.79     65678\n",
      "\n",
      "Confusion Matrix:\n",
      " [[26406  6544]\n",
      " [ 7462 25266]]\n"
     ]
    }
   ],
   "source": [
    "from sklearn.tree import DecisionTreeClassifier\n",
    "from sklearn.ensemble import RandomForestClassifier\n",
    "from sklearn.model_selection import cross_val_score, TimeSeriesSplit\n",
    "from sklearn.metrics import accuracy_score, roc_auc_score, f1_score, classification_report, confusion_matrix\n",
    "\n",
    "# Tách dữ liệu từ df_ml\n",
    "target_col = \"outperform_10d\"\n",
    "X = df_ml[available_features].dropna()\n",
    "y = df_ml.loc[X.index, target_col]\n",
    "\n",
    "# Time series split\n",
    "tscv = TimeSeriesSplit(n_splits=3)\n",
    "\n",
    "# ================================\n",
    "# Decision Tree\n",
    "# ================================\n",
    "print(\"🌳 Training Decision Tree...\")\n",
    "dt_model = DecisionTreeClassifier(\n",
    "    max_depth=5,\n",
    "    min_samples_split=10,\n",
    "    random_state=42,\n",
    "    class_weight=\"balanced\"\n",
    ")\n",
    "dt_scores = cross_val_score(dt_model, X, y, cv=tscv, scoring=\"roc_auc\")\n",
    "dt_model.fit(X, y)\n",
    "print(f\"✅ Decision Tree ROC-AUC: {dt_scores.mean():.4f} (+/- {dt_scores.std()*2:.4f})\")\n",
    "\n",
    "# ================================\n",
    "# Random Forest\n",
    "# ================================\n",
    "print(\"\\n🌲 Training Random Forest...\")\n",
    "rf_model = RandomForestClassifier(\n",
    "    n_estimators=300,\n",
    "    max_depth=8,\n",
    "    min_samples_split=5,\n",
    "    random_state=42,\n",
    "    n_jobs=-1,\n",
    "    class_weight=\"balanced\"\n",
    ")\n",
    "rf_scores = cross_val_score(rf_model, X, y, cv=tscv, scoring=\"roc_auc\")\n",
    "rf_model.fit(X, y)\n",
    "print(f\"✅ Random Forest ROC-AUC: {rf_scores.mean():.4f} (+/- {rf_scores.std()*2:.4f})\")\n",
    "\n",
    "# ================================\n",
    "# Đánh giá trên toàn bộ dữ liệu\n",
    "# ================================\n",
    "for name, model in [(\"Decision Tree\", dt_model), (\"Random Forest\", rf_model)]:\n",
    "    y_pred = model.predict(X)\n",
    "    y_proba = model.predict_proba(X)[:, 1]\n",
    "    acc = accuracy_score(y, y_pred)\n",
    "    f1 = f1_score(y, y_pred)\n",
    "    roc = roc_auc_score(y, y_proba)\n",
    "    print(f\"\\n📊 {name} performance:\")\n",
    "    print(f\"Accuracy = {acc:.4f}, F1 = {f1:.4f}, ROC-AUC = {roc:.4f}\")\n",
    "    print(classification_report(y, y_pred))\n",
    "    print(\"Confusion Matrix:\\n\", confusion_matrix(y, y_pred))\n"
   ]
  },
  {
   "cell_type": "code",
   "execution_count": 26,
   "metadata": {},
   "outputs": [
    {
     "name": "stdout",
     "output_type": "stream",
     "text": [
      "🔍 Searching for best optimized model...\n",
      "✅ Using enhanced_optimizer.best_model (Multi-objective optimized)\n",
      "📊 Model being analyzed: LGBMClassifier\n",
      "📊 Data shape: X=(77023, 31), y=(77023,)\n",
      "🔮 Generating predictions...\n",
      "📈 Prediction method: predict_proba\n",
      "📊 Calculating performance metrics...\n"
     ]
    },
    {
     "data": {
      "image/png": "[encoded data removed]",
      "text/plain": [
       "<Figure size 1800x1000 with 7 Axes>"
      ]
     },
     "metadata": {},
     "output_type": "display_data"
    },
    {
     "name": "stdout",
     "output_type": "stream",
     "text": [
      "\n",
      "🔍 MODEL ANALYSIS SUMMARY:\n",
      "==================================================\n",
      "📊 Model Type: LGBMClassifier\n",
      "🎯 ROC-AUC: 0.9002\n",
      "📈 Average Precision: 0.8907\n",
      "⚖️ F1-Score: 0.7989\n",
      "🎪 Recall (Sensitivity): 0.7836\n",
      "🔍 Precision: 0.8150\n",
      "✅ Accuracy: 0.8173\n",
      "\n",
      "⚙️ KEY HYPERPARAMETERS:\n",
      "   n_estimators: 371\n",
      "   max_depth: 7\n",
      "   learning_rate: 0.016231981085611635\n",
      "   subsample: 0.8673154063287879\n",
      "   colsample_bytree: 0.9020795462485848\n",
      "   reg_alpha: 1.045204752203923\n",
      "   reg_lambda: 0.6368957221328455\n",
      "\n",
      "🔍 MODEL VERIFICATION:\n",
      "   Enhanced optimizer consistency: ✅\n",
      "   ML optimizer consistency: ✅\n",
      "   Model memory address: 1269978141840\n",
      "==================================================\n"
     ]
    }
   ],
   "source": [
    "# SELF-CONTAINED DIAGNOSTICS - FIXED VERSION\n",
    "import numpy as np, pandas as pd, matplotlib.pyplot as plt, seaborn as sns\n",
    "from sklearn.metrics import roc_curve, auc, precision_recall_curve, average_precision_score\n",
    "from sklearn.metrics import confusion_matrix, classification_report, f1_score, recall_score, precision_score\n",
    "from sklearn.calibration import calibration_curve\n",
    "\n",
    "# Kiểm tra và lấy model tốt nhất theo thứ tự ưu tiên\n",
    "def get_best_optimized_model():\n",
    "    \"\"\"Lấy model tốt nhất theo thứ tự ưu tiên\"\"\"\n",
    "    \n",
    "    # 1. Ưu tiên cao nhất: enhanced_optimizer (multi-objective optimized)\n",
    "    if 'enhanced_optimizer' in globals() and hasattr(enhanced_optimizer, 'best_model'):\n",
    "        if enhanced_optimizer.best_model is not None:\n",
    "            print(\"✅ Using enhanced_optimizer.best_model (Multi-objective optimized)\")\n",
    "            return enhanced_optimizer.best_model\n",
    "    \n",
    "    # 2. Ưu tiên thứ 2: ml_optimizer.best_model \n",
    "    if 'ml_optimizer' in globals() and hasattr(ml_optimizer, 'best_model'):\n",
    "        if ml_optimizer.best_model is not None:\n",
    "            print(\"✅ Using ml_optimizer.best_model\")\n",
    "            return ml_optimizer.best_model\n",
    "    \n",
    "    # 3. Tìm trong models dictionary - ưu tiên model đã được tuned\n",
    "    if 'ml_optimizer' in globals() and hasattr(ml_optimizer, 'models'):\n",
    "        models = ml_optimizer.models\n",
    "        \n",
    "        # Ưu tiên model đã optimized\n",
    "        tuned_models = [\n",
    "            'lightgbm_optimized', 'xgboost_optimized',  # Multi-objective optimized\n",
    "            'LightGBM_Tuned', 'XGBoost_Tuned',          # Optuna tuned\n",
    "            'LightGBM_Classifier', 'XGBoost_Classifier'  # Base models\n",
    "        ]\n",
    "        \n",
    "        for model_name in tuned_models:\n",
    "            if model_name in models and models[model_name] is not None:\n",
    "                print(f\"✅ Using {model_name}\")\n",
    "                return models[model_name]\n",
    "    \n",
    "    # 4. Kiểm tra enhanced_optimizer.models\n",
    "    if 'enhanced_optimizer' in globals() and hasattr(enhanced_optimizer, 'models'):\n",
    "        models = enhanced_optimizer.models\n",
    "        for model_name in ['lightgbm_optimized', 'xgboost_optimized']:\n",
    "            if model_name in models and models[model_name] is not None:\n",
    "                print(f\"✅ Using enhanced_optimizer.{model_name}\")\n",
    "                return models[model_name]\n",
    "    \n",
    "    raise ValueError(\"❌ No trained model found. Please re-run the training cells.\")\n",
    "\n",
    "# Lấy model tốt nhất\n",
    "print(\"🔍 Searching for best optimized model...\")\n",
    "model = get_best_optimized_model()\n",
    "\n",
    "# Kiểm tra data\n",
    "assert 'X' in globals() and 'y' in globals(), \"❌ Training data (X, y) not found. Please re-run data preparation.\"\n",
    "\n",
    "X_vis, y_vis = X, y\n",
    "print(f\"📊 Model being analyzed: {type(model).__name__}\")\n",
    "print(f\"📊 Data shape: X={X_vis.shape}, y={y_vis.shape}\")\n",
    "\n",
    "# Predict proba/scores\n",
    "print(\"🔮 Generating predictions...\")\n",
    "if hasattr(model, \"predict_proba\"):\n",
    "    y_proba = model.predict_proba(X_vis)[:, 1]\n",
    "    prediction_method = \"predict_proba\"\n",
    "elif hasattr(model, \"decision_function\"):\n",
    "    s = model.decision_function(X_vis)\n",
    "    y_proba = (s - s.min())/(s.max()-s.min()+1e-9)\n",
    "    prediction_method = \"decision_function (normalized)\"\n",
    "else:\n",
    "    y_proba = model.predict(X_vis).astype(float)\n",
    "    prediction_method = \"predict (as probability)\"\n",
    "\n",
    "print(f\"📈 Prediction method: {prediction_method}\")\n",
    "\n",
    "y_pred = (y_proba >= 0.5).astype(int)\n",
    "\n",
    "# Calculate metrics\n",
    "print(\"📊 Calculating performance metrics...\")\n",
    "fpr, tpr, _ = roc_curve(y_vis, y_proba)\n",
    "roc_auc = auc(fpr, tpr)\n",
    "prec, rec, _ = precision_recall_curve(y_vis, y_proba)\n",
    "ap = average_precision_score(y_vis, y_proba)\n",
    "cm = confusion_matrix(y_vis, y_pred)\n",
    "\n",
    "# Calibration curve\n",
    "prob_true, prob_pred = calibration_curve(y_vis, y_proba, n_bins=10, strategy='quantile')\n",
    "\n",
    "# Plotting\n",
    "plt.style.use('seaborn-v0_8')\n",
    "sns.set_palette('deep')\n",
    "fig, axes = plt.subplots(2, 3, figsize=(18,10))\n",
    "\n",
    "# Xác định tên model cho title\n",
    "model_name = type(model).__name__\n",
    "if hasattr(model, 'get_params'):\n",
    "    params = model.get_params()\n",
    "    if 'n_estimators' in params:\n",
    "        model_name += f\" (n_est={params['n_estimators']})\"\n",
    "\n",
    "fig.suptitle(f\"Model Diagnostics - {model_name} (Optimized)\", fontsize=16, fontweight='bold')\n",
    "\n",
    "# ROC Curve\n",
    "axes[0,0].plot(fpr, tpr, linewidth=2, label=f'AUC = {roc_auc:.3f}')\n",
    "axes[0,0].plot([0,1], [0,1], 'k--', alpha=0.5, label='Random')\n",
    "axes[0,0].set_xlabel('False Positive Rate')\n",
    "axes[0,0].set_ylabel('True Positive Rate')\n",
    "axes[0,0].set_title('ROC Curve')\n",
    "axes[0,0].legend(loc='lower right')\n",
    "axes[0,0].grid(True, alpha=0.3)\n",
    "\n",
    "# Precision-Recall Curve\n",
    "axes[0,1].plot(rec, prec, linewidth=2, label=f'AP = {ap:.3f}')\n",
    "axes[0,1].set_xlabel('Recall')\n",
    "axes[0,1].set_ylabel('Precision')\n",
    "axes[0,1].set_title('Precision-Recall Curve')\n",
    "axes[0,1].legend(loc='lower left')\n",
    "axes[0,1].grid(True, alpha=0.3)\n",
    "\n",
    "# Confusion Matrix\n",
    "sns.heatmap(cm, annot=True, fmt='d', cmap='Blues', cbar=False, ax=axes[0,2])\n",
    "axes[0,2].set_title('Confusion Matrix (threshold=0.50)')\n",
    "axes[0,2].set_xlabel('Predicted')\n",
    "axes[0,2].set_ylabel('Actual')\n",
    "\n",
    "# Calibration Plot + Threshold Analysis\n",
    "axes[1,0].plot(prob_pred, prob_true, 'o-', linewidth=2, markersize=6, label='Model')\n",
    "axes[1,0].plot([0,1], [0,1], 'k--', alpha=0.5, label='Perfect calibration')\n",
    "axes[1,0].set_xlabel('Mean Predicted Probability')\n",
    "axes[1,0].set_ylabel('Fraction of Positives')\n",
    "axes[1,0].set_title('Calibration Plot')\n",
    "axes[1,0].legend()\n",
    "axes[1,0].grid(True, alpha=0.3)\n",
    "\n",
    "# Threshold analysis on secondary y-axis\n",
    "ax2 = axes[1,0].twinx()\n",
    "ths = np.linspace(0.05, 0.95, 19)\n",
    "f1s, recs, pres = [], [], []\n",
    "\n",
    "for th in ths:\n",
    "    yp = (y_proba >= th).astype(int)\n",
    "    f1s.append(f1_score(y_vis, yp, zero_division=0))\n",
    "    recs.append(recall_score(y_vis, yp, zero_division=0))\n",
    "    pres.append(precision_score(y_vis, yp, zero_division=0))\n",
    "\n",
    "ax2.plot(ths, f1s, color='tab:green', alpha=0.7, linewidth=2, label='F1')\n",
    "ax2.plot(ths, recs, color='tab:orange', alpha=0.7, linewidth=2, label='Recall') \n",
    "ax2.plot(ths, pres, color='tab:purple', alpha=0.7, linewidth=2, label='Precision')\n",
    "ax2.set_ylabel('Score')\n",
    "ax2.legend(loc='upper right')\n",
    "ax2.set_ylim(0, 1)\n",
    "\n",
    "# Feature Importance\n",
    "feature_names = X_vis.columns if hasattr(X_vis, \"columns\") else [f\"feature_{i}\" for i in range(X_vis.shape[1])]\n",
    "plotted = False\n",
    "\n",
    "try:\n",
    "    if hasattr(model, 'feature_importances_'):\n",
    "        imp = pd.Series(model.feature_importances_, index=feature_names).sort_values(ascending=False).head(20)\n",
    "        if len(imp) > 0:\n",
    "            imp.iloc[::-1].plot(kind='barh', ax=axes[1,1], color='skyblue', edgecolor='black')\n",
    "            axes[1,1].set_title('Top-20 Feature Importances')\n",
    "            axes[1,1].set_xlabel('Importance')\n",
    "            plotted = True\n",
    "    elif hasattr(model, 'coef_'):\n",
    "        coefs = model.coef_[0] if getattr(model.coef_, 'ndim', 1) == 2 else model.coef_\n",
    "        imp = pd.Series(np.abs(coefs), index=feature_names).sort_values(ascending=False).head(20)\n",
    "        if len(imp) > 0:\n",
    "            imp.iloc[::-1].plot(kind='barh', ax=axes[1,1], color='lightcoral', edgecolor='black')\n",
    "            axes[1,1].set_title('Top-20 |Coefficients|')\n",
    "            axes[1,1].set_xlabel('|Coefficient|')\n",
    "            plotted = True\n",
    "except Exception as e:\n",
    "    print(f\"⚠️ Error plotting feature importance: {e}\")\n",
    "\n",
    "if not plotted:\n",
    "    axes[1,1].axis('off')\n",
    "    axes[1,1].text(0.5, 0.5, 'Feature Importance\\nNot Available', \n",
    "                   ha='center', va='center', fontsize=12)\n",
    "\n",
    "# Classification Report\n",
    "axes[1,2].axis('off')\n",
    "axes[1,2].text(0, 1, 'Classification Report', fontsize=14, fontweight='bold')\n",
    "\n",
    "# Calculate detailed metrics\n",
    "accuracy = accuracy_score(y_vis, y_pred)\n",
    "f1 = f1_score(y_vis, y_pred)\n",
    "precision = precision_score(y_vis, y_pred, zero_division=0)\n",
    "recall = recall_score(y_vis, y_pred, zero_division=0)\n",
    "\n",
    "# Business metrics\n",
    "tn, fp, fn, tp = cm.ravel()\n",
    "specificity = tn / (tn + fp) if (tn + fp) > 0 else 0\n",
    "ppv = tp / (tp + fp) if (tp + fp) > 0 else 0  # Positive Predictive Value\n",
    "npv = tn / (tn + fn) if (tn + fn) > 0 else 0  # Negative Predictive Value\n",
    "\n",
    "report_text = f\"\"\"\n",
    "Core Metrics:\n",
    "  Accuracy:     {accuracy:.4f}\n",
    "  ROC-AUC:      {roc_auc:.4f}\n",
    "  F1-Score:     {f1:.4f}\n",
    "  Precision:    {precision:.4f}\n",
    "  Recall:       {recall:.4f}\n",
    "\n",
    "Trading Metrics:\n",
    "  Specificity:  {specificity:.4f}\n",
    "  PPV:          {ppv:.4f}\n",
    "  NPV:          {npv:.4f}\n",
    "\n",
    "Confusion Matrix:\n",
    "  TP: {tp:,}    FP: {fp:,}\n",
    "  FN: {fn:,}    TN: {tn:,}\n",
    "\n",
    "Class Distribution:\n",
    "  Positive: {np.sum(y_vis):,} ({np.mean(y_vis)*100:.1f}%)\n",
    "  Negative: {len(y_vis)-np.sum(y_vis):,} ({(1-np.mean(y_vis))*100:.1f}%)\n",
    "\"\"\"\n",
    "\n",
    "axes[1,2].text(0, 0.95, report_text, family='monospace', fontsize=9, va='top')\n",
    "\n",
    "plt.tight_layout(rect=[0, 0, 1, 0.96])\n",
    "plt.show()\n",
    "\n",
    "# Print model summary\n",
    "print(f\"\\n🔍 MODEL ANALYSIS SUMMARY:\")\n",
    "print(\"=\"*50)\n",
    "print(f\"📊 Model Type: {type(model).__name__}\")\n",
    "print(f\"🎯 ROC-AUC: {roc_auc:.4f}\")\n",
    "print(f\"📈 Average Precision: {ap:.4f}\")\n",
    "print(f\"⚖️ F1-Score: {f1:.4f}\")\n",
    "print(f\"🎪 Recall (Sensitivity): {recall:.4f}\")\n",
    "print(f\"🔍 Precision: {precision:.4f}\")\n",
    "print(f\"✅ Accuracy: {accuracy:.4f}\")\n",
    "\n",
    "# Print model parameters if available\n",
    "if hasattr(model, 'get_params'):\n",
    "    params = model.get_params()\n",
    "    important_params = ['n_estimators', 'max_depth', 'learning_rate', \n",
    "                       'subsample', 'colsample_bytree', 'reg_alpha', 'reg_lambda']\n",
    "    \n",
    "    print(f\"\\n⚙️ KEY HYPERPARAMETERS:\")\n",
    "    for param in important_params:\n",
    "        if param in params:\n",
    "            print(f\"   {param}: {params[param]}\")\n",
    "\n",
    "# Verify model consistency\n",
    "print(f\"\\n🔍 MODEL VERIFICATION:\")\n",
    "if 'enhanced_optimizer' in globals() and hasattr(enhanced_optimizer, 'best_model'):\n",
    "    is_same = model is enhanced_optimizer.best_model\n",
    "    print(f\"   Enhanced optimizer consistency: {'✅' if is_same else '❌'}\")\n",
    "\n",
    "if 'ml_optimizer' in globals() and hasattr(ml_optimizer, 'best_model'):\n",
    "    is_same = model is ml_optimizer.best_model\n",
    "    print(f\"   ML optimizer consistency: {'✅' if is_same else '❌'}\")\n",
    "\n",
    "print(f\"   Model memory address: {id(model)}\")\n",
    "print(\"=\"*50)"
   ]
  },
  {
   "cell_type": "markdown",
   "metadata": {
    "id": "iddsrtbj-tRv"
   },
   "source": [
    "## 6. BACKTESTING - KIỂM ĐỊNH CHIẾN LƯỢC\n",
    "\n",
    "### 6.1 Thiết kế hệ thống Backtesting\n",
    "\n",
    "**Phương pháp backtesting:**\n",
    "1. **Walk-Forward Analysis:** Sử dụng dữ liệu quá khứ để dự đoán tương lai\n",
    "2. **Portfolio Construction:** Chọn top N cổ phiếu có điểm số cao nhất\n",
    "3. **Rebalancing:** Cập nhật danh mục định kỳ (hàng tháng)\n",
    "4. **Risk Management:** Giới hạn tỷ trọng tối đa mỗi cổ phiếu và ngành\n",
    "\n",
    "### 6.2 Metrics đánh giá hiệu suất\n",
    "\n",
    "- **Return Metrics:** Total Return, Annualized Return, Excess Return\n",
    "- **Risk Metrics:** Volatility, Maximum Drawdown, VaR\n",
    "- **Risk-Adjusted:** Sharpe Ratio, Sortino Ratio, Calmar Ratio  \n",
    "- **Other:** Win Rate, Average Win/Loss, Hit Rate\n"
   ]
  },
  {
   "cell_type": "code",
   "execution_count": 10,
   "metadata": {},
   "outputs": [
    {
     "name": "stdout",
     "output_type": "stream",
     "text": [
      "================================================================================\n",
      "FIXED PORTFOLIO BACKTESTER - SỬA LỖI year_month\n",
      "================================================================================\n",
      "🚀 Bắt đầu backtesting...\n",
      "📊 Tạo danh mục đầu tư theo thời gian...\n",
      "   ✅ Tạo được 37 danh mục đầu tư\n",
      "💰 Tính toán lợi nhuận danh mục...\n",
      "\n",
      "============================================================\n",
      "📊 KẾT QUẢ BACKTESTING\n",
      "============================================================\n",
      "📈 Total Return: 544.84%\n",
      "📅 Annualized Return: 86.13%\n",
      "📊 Volatility: 15.75%\n",
      "⚡ Sharpe Ratio: 5.467\n",
      "🎯 Sortino Ratio: 10.735\n",
      "📉 Max Drawdown: -6.51%\n",
      "🎲 Win Rate: 91.7%\n",
      "📋 Number of Periods: 36\n"
     ]
    }
   ],
   "source": [
    "# PORTFOLIO BACKTESTER \n",
    "class FixedPortfolioBacktester:\n",
    "    \"\"\"\n",
    "    Hệ thống backtesting cho chiến lược lựa chọn cổ phiếu \n",
    "    \"\"\"\n",
    "    \n",
    "    def __init__(self, \n",
    "                 portfolio_size=20, \n",
    "                 rebalance_freq='M',\n",
    "                 max_weight_per_stock=0.1,\n",
    "                 max_weight_per_sector=0.3):\n",
    "        \n",
    "        self.portfolio_size = portfolio_size\n",
    "        self.rebalance_freq = rebalance_freq  # 'M' = monthly\n",
    "        self.max_weight_per_stock = max_weight_per_stock\n",
    "        self.max_weight_per_sector = max_weight_per_sector\n",
    "        self.results = {}\n",
    "        \n",
    "    def create_portfolios(self, df):\n",
    "        \"\"\"Tạo danh mục theo thời gian\"\"\"\n",
    "        print(\"📊 Tạo danh mục đầu tư theo thời gian...\")\n",
    "        \n",
    "        df = df.copy()\n",
    "        \n",
    "        # Ensure timestamp column exists and is datetime\n",
    "        if 'timestamp' not in df.columns:\n",
    "            print(\"❌ No timestamp column found\")\n",
    "            return {}\n",
    "        \n",
    "        df['timestamp'] = pd.to_datetime(df['timestamp'])\n",
    "        df['year_month'] = df['timestamp'].dt.to_period('M')\n",
    "        \n",
    "        portfolios = {}\n",
    "        \n",
    "        for period in df['year_month'].unique():\n",
    "            if pd.isna(period):\n",
    "                continue\n",
    "                \n",
    "            period_data = df[df['year_month'] == period].copy()\n",
    "            \n",
    "            # Lọc cổ phiếu có đủ dữ liệu\n",
    "            valid_stocks = period_data.dropna(subset=['composite_score'])\n",
    "            \n",
    "            if len(valid_stocks) < self.portfolio_size:\n",
    "                continue\n",
    "            \n",
    "            # Sắp xếp theo composite score\n",
    "            top_stocks = (valid_stocks\n",
    "                         .nlargest(self.portfolio_size * 2, 'composite_score')  # Get more for diversification\n",
    "                         .copy())\n",
    "            \n",
    "            # Apply sector constraints\n",
    "            selected_stocks = self._apply_sector_constraints(top_stocks)\n",
    "            \n",
    "            # Final selection\n",
    "            final_selection = selected_stocks.head(self.portfolio_size)\n",
    "            \n",
    "            portfolios[period] = {\n",
    "                'stocks': final_selection['ticker'].tolist(),\n",
    "                'scores': final_selection['composite_score'].tolist(),\n",
    "                'industries': final_selection['industry'].tolist(),\n",
    "                'weights': [1/len(final_selection)] * len(final_selection)  # Equal weight\n",
    "            }\n",
    "        \n",
    "        print(f\"   ✅ Tạo được {len(portfolios)} danh mục đầu tư\")\n",
    "        return portfolios\n",
    "    \n",
    "    def _apply_sector_constraints(self, stocks_df):\n",
    "        \"\"\"Áp dụng ràng buộc ngành\"\"\"\n",
    "        selected = []\n",
    "        sector_counts = {}\n",
    "        \n",
    "        # Sort by composite score\n",
    "        sorted_stocks = stocks_df.sort_values('composite_score', ascending=False)\n",
    "        \n",
    "        for _, stock in sorted_stocks.iterrows():\n",
    "            industry = stock.get('industry', 'Unknown')\n",
    "            \n",
    "            # Check sector limit\n",
    "            if sector_counts.get(industry, 0) < self.max_weight_per_sector * self.portfolio_size:\n",
    "                selected.append(stock)\n",
    "                sector_counts[industry] = sector_counts.get(industry, 0) + 1\n",
    "                \n",
    "                if len(selected) >= self.portfolio_size:\n",
    "                    break\n",
    "        \n",
    "        return pd.DataFrame(selected)\n",
    "    \n",
    "    def calculate_returns(self, df, portfolios):\n",
    "        \"\"\"Tính toán lợi nhuận của danh mục - FIXED VERSION\"\"\"\n",
    "        print(\"💰 Tính toán lợi nhuận danh mục...\")\n",
    "        \n",
    "        # Ensure year_month column exists\n",
    "        if 'year_month' not in df.columns:\n",
    "            df['year_month'] = df['timestamp'].dt.to_period('M')\n",
    "        \n",
    "        portfolio_returns = []\n",
    "        \n",
    "        for period, portfolio_info in portfolios.items():\n",
    "            try:\n",
    "                # Get returns for selected stocks in next period\n",
    "                next_period = period + 1\n",
    "                next_period_data = df[df['year_month'] == next_period]\n",
    "                \n",
    "                if len(next_period_data) == 0:\n",
    "                    continue\n",
    "                    \n",
    "                stock_returns = []\n",
    "                weights = []\n",
    "                \n",
    "                for i, ticker in enumerate(portfolio_info['stocks']):\n",
    "                    stock_data = next_period_data[next_period_data['ticker'] == ticker]\n",
    "                    \n",
    "                    if len(stock_data) > 0 and 'ret_1d' in stock_data.columns:\n",
    "                        # Use average monthly return\n",
    "                        monthly_return = stock_data['ret_1d'].mean() * 21  # Approximate monthly return\n",
    "                        stock_returns.append(monthly_return)\n",
    "                        weights.append(portfolio_info['weights'][i])\n",
    "                \n",
    "                if stock_returns:\n",
    "                    # Weighted portfolio return\n",
    "                    portfolio_return = np.average(stock_returns, weights=weights)\n",
    "                    portfolio_returns.append({\n",
    "                        'period': period,\n",
    "                        'return': portfolio_return,\n",
    "                        'num_stocks': len(stock_returns)\n",
    "                    })\n",
    "            except Exception as e:\n",
    "                print(f\"   ⚠️ Error calculating returns for period {period}: {str(e)}\")\n",
    "                continue\n",
    "        \n",
    "        return pd.DataFrame(portfolio_returns)\n",
    "    \n",
    "    def calculate_metrics(self, returns_df):\n",
    "        \"\"\"Tính toán các metrics hiệu suất - FIXED VERSION\"\"\"\n",
    "        if len(returns_df) == 0:\n",
    "            return {}\n",
    "        \n",
    "        returns = returns_df['return'].values\n",
    "        \n",
    "        # Basic metrics\n",
    "        total_return = (1 + returns).prod() - 1\n",
    "        annualized_return = (1 + total_return) ** (12 / len(returns)) - 1\n",
    "        volatility = returns.std() * np.sqrt(12)\n",
    "        \n",
    "        # Risk metrics\n",
    "        sharpe_ratio = annualized_return / volatility if volatility > 0 else 0\n",
    "        \n",
    "        # Downside deviation for Sortino\n",
    "        downside_returns = returns[returns < 0]\n",
    "        downside_volatility = downside_returns.std() * np.sqrt(12) if len(downside_returns) > 0 else 0\n",
    "        sortino_ratio = annualized_return / downside_volatility if downside_volatility > 0 else 0\n",
    "        \n",
    "        # Drawdown calculation - FIXED\n",
    "        cumulative_returns = (1 + returns).cumprod()\n",
    "        \n",
    "        # Convert to pandas Series for expanding() method\n",
    "        cum_returns_series = pd.Series(cumulative_returns)\n",
    "        running_max = cum_returns_series.expanding().max()\n",
    "        drawdown = (cum_returns_series - running_max) / running_max\n",
    "        max_drawdown = drawdown.min()\n",
    "        \n",
    "        # Win rate\n",
    "        win_rate = (returns > 0).mean()\n",
    "        \n",
    "        metrics = {\n",
    "            'Total Return': total_return,\n",
    "            'Annualized Return': annualized_return,\n",
    "            'Volatility': volatility,\n",
    "            'Sharpe Ratio': sharpe_ratio,\n",
    "            'Sortino Ratio': sortino_ratio,\n",
    "            'Max Drawdown': max_drawdown,\n",
    "            'Win Rate': win_rate,\n",
    "            'Number of Periods': len(returns)\n",
    "        }\n",
    "        \n",
    "        return metrics\n",
    "    \n",
    "    def run_backtest(self, df):\n",
    "        \"\"\"Chạy backtest hoàn chỉnh - FIXED VERSION\"\"\"\n",
    "        print(\"🚀 Bắt đầu backtesting...\")\n",
    "        \n",
    "        # Create portfolios\n",
    "        portfolios = self.create_portfolios(df)\n",
    "        \n",
    "        if not portfolios:\n",
    "            print(\"❌ Không thể tạo danh mục đầu tư\")\n",
    "            return None\n",
    "        \n",
    "        # Calculate returns\n",
    "        returns_df = self.calculate_returns(df, portfolios)\n",
    "        \n",
    "        if len(returns_df) == 0:\n",
    "            print(\"❌ Không thể tính toán lợi nhuận\")\n",
    "            return None\n",
    "        \n",
    "        # Calculate metrics\n",
    "        metrics = self.calculate_metrics(returns_df)\n",
    "        \n",
    "        # Store results\n",
    "        self.results = {\n",
    "            'portfolios': portfolios,\n",
    "            'returns': returns_df,\n",
    "            'metrics': metrics\n",
    "        }\n",
    "        \n",
    "        return self.results\n",
    "    \n",
    "    def print_results(self):\n",
    "        \"\"\"In kết quả backtest\"\"\"\n",
    "        if not self.results:\n",
    "            print(\"❌ Chưa có kết quả backtest\")\n",
    "            return\n",
    "        \n",
    "        print(\"\\n\" + \"=\"*60)\n",
    "        print(\"📊 KẾT QUẢ BACKTESTING\")\n",
    "        print(\"=\"*60)\n",
    "        \n",
    "        metrics = self.results['metrics']\n",
    "        \n",
    "        print(f\"📈 Total Return: {metrics.get('Total Return', 0):.2%}\")\n",
    "        print(f\"📅 Annualized Return: {metrics.get('Annualized Return', 0):.2%}\")\n",
    "        print(f\"📊 Volatility: {metrics.get('Volatility', 0):.2%}\")\n",
    "        print(f\"⚡ Sharpe Ratio: {metrics.get('Sharpe Ratio', 0):.3f}\")\n",
    "        print(f\"🎯 Sortino Ratio: {metrics.get('Sortino Ratio', 0):.3f}\")\n",
    "        print(f\"📉 Max Drawdown: {metrics.get('Max Drawdown', 0):.2%}\")\n",
    "        print(f\"🎲 Win Rate: {metrics.get('Win Rate', 0):.1%}\")\n",
    "        print(f\"📋 Number of Periods: {metrics.get('Number of Periods', 0)}\")\n",
    "\n",
    "# Chạy backtesting với Fixed Version\n",
    "print(\"=\"*80)\n",
    "print(\"FIXED PORTFOLIO BACKTESTER - SỬA LỖI year_month\")\n",
    "print(\"=\"*80)\n",
    "\n",
    "fixed_backtester = FixedPortfolioBacktester(\n",
    "    portfolio_size=20,\n",
    "    rebalance_freq='M',\n",
    "    max_weight_per_stock=0.1,\n",
    "    max_weight_per_sector=0.3\n",
    ")\n",
    "\n",
    "# Run backtest\n",
    "backtest_results = fixed_backtester.run_backtest(df_ml)\n",
    "fixed_backtester.print_results()\n"
   ]
  },
  {
   "cell_type": "markdown",
   "metadata": {
    "id": "Zqc8MzL_29wl"
   },
   "source": [
    "## 7. MARKET REGIME ANALYSIS - STRESS TESTING\n",
    "\n",
    "### 7.1 Trump Tariff Period Analysis (April 2025)\n",
    "\n",
    "Để kiểm tra độ robust của chiến lược trong các giai đoạn thị trường đặc biệt, chúng ta sẽ phân tích hiệu suất trong:\n",
    "\n",
    "**🌪️ Crisis Period: Trump Tariff Reactions (April 2025)**\n",
    "- **Context:** Thị trường phản ứng với chính sách thuế đối ứng\n",
    "- **Characteristics:** High volatility, sector rotation, uncertainty\n",
    "- **Test:** Liệu chiến lược có maintain performance trong stress period?\n",
    "\n",
    "### 7.2 Market Regime Detection & Adaptation\n",
    "\n"
   ]
  },
  {
   "cell_type": "code",
   "execution_count": 11,
   "metadata": {
    "id": "6Buh051_2hY6"
   },
   "outputs": [
    {
     "name": "stdout",
     "output_type": "stream",
     "text": [
      " STARTING MARKET REGIME ANALYSIS\n",
      "==================================================\n",
      "🌪️ DEFINING MARKET REGIMES\n",
      "========================================\n",
      "\n",
      " Trump Tariff Reactions Period\n",
      "   Period: 2025-04-01 to 2025-04-30\n",
      "   Characteristics: High volatility, Trade war fears, Sector rotation, USD strength\n",
      "\n",
      " Pre-Tariff Normal Period\n",
      "   Period: 2025-01-01 to 2025-03-31\n",
      "   Characteristics: Normal volatility, Steady growth, Regular patterns\n",
      "\n",
      " Post-Tariff Recovery Period\n",
      "   Period: 2025-05-01 to 2025-08-29\n",
      "   Characteristics: Stabilization, Recovery patterns, New equilibrium\n",
      "\n",
      " Bear Market Period 2022\n",
      "   Period: 2022-08-30 to 2022-12-31\n",
      "   Characteristics: Declining trend, High volatility, Risk-off sentiment\n",
      "\n",
      " Bull Market Period 2023\n",
      "   Period: 2023-01-01 to 2023-12-31\n",
      "   Characteristics: Rising trend, Risk-on sentiment, Growth momentum\n",
      "\n",
      " Consolidation Period 2024\n",
      "   Period: 2024-01-01 to 2024-12-31\n",
      "   Characteristics: Sideways movement, Range-bound, Uncertainty\n",
      "\n",
      " REGIME PERFORMANCE ANALYSIS\n",
      "=============================================\n",
      "\n",
      "🎯 **Trump Tariff Reactions Period**\n",
      "   Data points: 2,060\n",
      "   Date range: 2025-04-01 to 2025-04-29\n",
      "   Composite Score - Mean: 28.54, Std: 10.08\n",
      "   ret_1d - Mean: -0.0006, Volatility: 0.0421\n",
      "   ret_5d - Mean: 0.0077, Volatility: 0.0800\n",
      "   ret_20d - Mean: 0.0499, Volatility: 0.1225\n",
      "   Market Volatility - Mean: 0.0347, Max: 0.0910\n",
      "   Signal Frequency: 0.063\n",
      "\n",
      "🎯 **Pre-Tariff Normal Period**\n",
      "   Data points: 5,974\n",
      "   Date range: 2025-01-02 to 2025-03-31\n",
      "   Composite Score - Mean: 32.12, Std: 11.20\n",
      "   ret_1d - Mean: 0.0013, Volatility: 0.0272\n",
      "   ret_5d - Mean: 0.0028, Volatility: 0.0599\n",
      "   ret_20d - Mean: 0.0064, Volatility: 0.1233\n",
      "   Market Volatility - Mean: 0.0217, Max: 0.1158\n",
      "   Signal Frequency: 0.057\n",
      "\n",
      "🎯 **Post-Tariff Recovery Period**\n",
      "   Data points: 8,755\n",
      "   Date range: 2025-05-05 to 2025-08-29\n",
      "   Composite Score - Mean: 33.41, Std: 10.73\n",
      "   ret_1d - Mean: 0.0026, Volatility: 0.0292\n",
      "   ret_5d - Mean: 0.0118, Volatility: 0.0589\n",
      "   ret_20d - Mean: 0.0470, Volatility: 0.1133\n",
      "   Market Volatility - Mean: 0.0245, Max: 0.1165\n",
      "   Signal Frequency: 0.067\n",
      "\n",
      "🎯 **Bear Market Period 2022**\n",
      "   Data points: 8,857\n",
      "   Date range: 2022-08-30 to 2022-12-30\n",
      "   Composite Score - Mean: 23.12, Std: 10.40\n",
      "   ret_1d - Mean: -0.0008, Volatility: 0.0398\n",
      "   ret_5d - Mean: -0.0047, Volatility: 0.0824\n",
      "   ret_20d - Mean: -0.0142, Volatility: 0.1435\n",
      "   Market Volatility - Mean: 0.0346, Max: 0.1166\n",
      "   Signal Frequency: 0.044\n",
      "\n",
      "🎯 **Bull Market Period 2023**\n",
      "   Data points: 25,627\n",
      "   Date range: 2023-01-03 to 2023-12-29\n",
      "   Composite Score - Mean: 30.29, Std: 11.01\n",
      "   ret_1d - Mean: 0.0009, Volatility: 0.0306\n",
      "   ret_5d - Mean: 0.0044, Volatility: 0.0611\n",
      "   ret_20d - Mean: 0.0150, Volatility: 0.1079\n",
      "   Market Volatility - Mean: 0.0255, Max: 0.1159\n",
      "   Signal Frequency: 0.061\n",
      "\n",
      "🎯 **Consolidation Period 2024**\n",
      "   Data points: 25,750\n",
      "   Date range: 2024-01-02 to 2024-12-31\n",
      "   Composite Score - Mean: 31.60, Std: 11.13\n",
      "   ret_1d - Mean: 0.0012, Volatility: 0.0279\n",
      "   ret_5d - Mean: 0.0051, Volatility: 0.0553\n",
      "   ret_20d - Mean: 0.0194, Volatility: 0.1015\n",
      "   Market Volatility - Mean: 0.0221, Max: 0.1228\n",
      "   Signal Frequency: 0.061\n",
      "\n",
      " TRUMP TARIFF PERIOD - DEEP DIVE ANALYSIS\n",
      "=======================================================\n",
      " Dataset Overview\n",
      "   Total records: 2,060\n",
      "   Unique stocks: 103\n",
      "   Time span: 2025-04-01 to 2025-04-29\n",
      "\n",
      " SECTOR IMPACT ANALYSIS\n",
      "   Top/Bottom performing sectors:\n",
      "   Sector                    Return     Volatility   Score    Count\n",
      "----------------------------------------------------------------------\n",
      "   Công nghiệp               0.0015     0.0481       30.67    200.0\n",
      "   Nguyên vật liệu           0.0012     0.0364       30.64    200.0\n",
      "   Tiêu dùng thiết yếu       0.0006     0.0482       31.72    200.0\n",
      "   ...\n",
      "   Công nghệ thông tin       -0.0039    0.0384       26.06    60.0\n",
      "   Bất động sản              -0.0042    0.0467       26.30    200.0\n",
      "\n",
      " STRATEGY PERFORMANCE IN CRISIS\n",
      "   Performance by Strategy Quintiles:\n",
      "   Quintile     5d Return    Volatility   Score Range     Count\n",
      "-----------------------------------------------------------------\n",
      "   Q1_Worst     -0.0402      0.0694       3.9-19.4     412.0\n",
      "   Q2_Bad       -0.0137      0.0636       19.5-25.4     412.0\n",
      "   Q3_Neutral   0.0025       0.0639       25.4-31.2     412.0\n",
      "   Q4_Good      0.0294       0.0640       31.2-37.0     412.0\n",
      "   Q5_Best      0.0604       0.0945       37.0-65.6     412.0\n",
      "\n",
      "   📊 Strategy Effectiveness:\n",
      "      Top Quintile Return: 0.0604\n",
      "      Bottom Quintile Return: -0.0402\n",
      "      Spread (Alpha): 0.1006\n",
      "      ✅ Strategy maintained positive alpha during crisis!\n",
      "\n",
      " **TECHNICAL INDICATORS EFFECTIVENESS**\n",
      "   Indicator correlation with future returns:\n",
      "   Indicator            Correlation  Effectiveness\n",
      "---------------------------------------------\n",
      "   momentum_consistency 📈 0.5874     Strong\n",
      "   trend_strength       📈 0.1512     Strong\n",
      "   volatility_20d       📈 0.1258     Strong\n",
      "   adx                  📈 0.1087     Strong\n",
      "   bearish_score        📈 0.1084     Strong\n",
      "   bullish_score        📉 -0.0902    Moderate\n",
      "   rsi14                📉 -0.0731    Moderate\n",
      "   macd                 📉 -0.0179    Weak\n",
      "\n",
      " **CRISIS PERIOD RECOMMENDATIONS**\n",
      "    **Increase Risk Management**: Lower position sizes during high volatility\n",
      "    **Sector Rotation**: Avoid worst-performing sectors, focus on defensive sectors\n",
      "    **Indicator Adjustment**: Increase weight of indicators that maintained effectiveness\n",
      "    **Rebalancing Frequency**: Consider more frequent rebalancing during crisis\n",
      "    **Cash Position**: Maintain higher cash reserves during uncertain periods\n",
      "    **Threshold Adjustment**: Raise composite score threshold for stock selection\n"
     ]
    }
   ],
   "source": [
    "class MarketRegimeAnalyzer:\n",
    "    \"\"\"\n",
    "    Phân tích hiệu suất chiến lược trong các market regimes khác nhau\n",
    "    \"\"\"\n",
    "\n",
    "    def __init__(self, df):\n",
    "        self.df = df.copy()\n",
    "        self.df['timestamp'] = pd.to_datetime(self.df['timestamp'])\n",
    "        self.regimes = {}\n",
    "\n",
    "    def define_market_regimes(self):\n",
    "        \"\"\"Định nghĩa các giai đoạn thị trường đặc biệt\"\"\"\n",
    "\n",
    "        print(\"🌪️ DEFINING MARKET REGIMES\")\n",
    "        print(\"=\"*40)\n",
    "\n",
    "        # Define specific periods\n",
    "        regimes = {\n",
    "            'trump_tariff_2025': {\n",
    "                'start': '2025-04-01',\n",
    "                'end': '2025-04-30',\n",
    "                'description': 'Trump Tariff Reactions Period',\n",
    "                'characteristics': ['High volatility', 'Trade war fears', 'Sector rotation', 'USD strength']\n",
    "            },\n",
    "\n",
    "            'pre_tariff_normal': {\n",
    "                'start': '2025-01-01',\n",
    "                'end': '2025-03-31',\n",
    "                'description': 'Pre-Tariff Normal Period',\n",
    "                'characteristics': ['Normal volatility', 'Steady growth', 'Regular patterns']\n",
    "            },\n",
    "\n",
    "            'post_tariff_recovery': {\n",
    "                'start': '2025-05-01',\n",
    "                'end': '2025-08-29',\n",
    "                'description': 'Post-Tariff Recovery Period',\n",
    "                'characteristics': ['Stabilization', 'Recovery patterns', 'New equilibrium']\n",
    "            },\n",
    "\n",
    "            'bear_market_2022': {\n",
    "                'start': '2022-08-30',\n",
    "                'end': '2022-12-31',\n",
    "                'description': 'Bear Market Period 2022',\n",
    "                'characteristics': ['Declining trend', 'High volatility', 'Risk-off sentiment']\n",
    "            },\n",
    "\n",
    "            'bull_market_2023': {\n",
    "                'start': '2023-01-01',\n",
    "                'end': '2023-12-31',\n",
    "                'description': 'Bull Market Period 2023',\n",
    "                'characteristics': ['Rising trend', 'Risk-on sentiment', 'Growth momentum']\n",
    "            },\n",
    "\n",
    "            'consolidation_2024': {\n",
    "                'start': '2024-01-01',\n",
    "                'end': '2024-12-31',\n",
    "                'description': 'Consolidation Period 2024',\n",
    "                'characteristics': ['Sideways movement', 'Range-bound', 'Uncertainty']\n",
    "            }\n",
    "        }\n",
    "\n",
    "        self.regimes = regimes\n",
    "\n",
    "        # Display regimes\n",
    "        for regime_name, info in regimes.items():\n",
    "            print(f\"\\n {info['description']}\")\n",
    "            print(f\"   Period: {info['start']} to {info['end']}\")\n",
    "            print(f\"   Characteristics: {', '.join(info['characteristics'])}\")\n",
    "\n",
    "        return regimes\n",
    "\n",
    "    def calculate_regime_performance(self, df_with_scores):\n",
    "        \"\"\"Tính toán hiệu suất trong từng regime\"\"\"\n",
    "\n",
    "        print(f\"\\n REGIME PERFORMANCE ANALYSIS\")\n",
    "        print(\"=\"*45)\n",
    "\n",
    "        regime_results = {}\n",
    "\n",
    "        for regime_name, regime_info in self.regimes.items():\n",
    "            start_date = pd.to_datetime(regime_info['start'])\n",
    "            end_date = pd.to_datetime(regime_info['end'])\n",
    "\n",
    "            # Filter data for this regime\n",
    "            regime_data = df_with_scores[\n",
    "                (df_with_scores['timestamp'] >= start_date) &\n",
    "                (df_with_scores['timestamp'] <= end_date)\n",
    "            ].copy()\n",
    "\n",
    "            if len(regime_data) == 0:\n",
    "                print(f\"\\n **{regime_info['description']}**: No data available\")\n",
    "                continue\n",
    "\n",
    "            print(f\"\\n🎯 **{regime_info['description']}**\")\n",
    "            print(f\"   Data points: {len(regime_data):,}\")\n",
    "            print(f\"   Date range: {regime_data['timestamp'].min().date()} to {regime_data['timestamp'].max().date()}\")\n",
    "\n",
    "            # Basic statistics\n",
    "            if 'composite_score' in regime_data.columns:\n",
    "                score_stats = regime_data['composite_score'].describe()\n",
    "                print(f\"   Composite Score - Mean: {score_stats['mean']:.2f}, Std: {score_stats['std']:.2f}\")\n",
    "\n",
    "            # Return analysis\n",
    "            return_cols = [col for col in ['ret_1d', 'ret_5d', 'ret_20d'] if col in regime_data.columns]\n",
    "            if return_cols:\n",
    "                for ret_col in return_cols:\n",
    "                    ret_data = regime_data[ret_col].dropna()\n",
    "                    if len(ret_data) > 0:\n",
    "                        print(f\"   {ret_col} - Mean: {ret_data.mean():.4f}, Volatility: {ret_data.std():.4f}\")\n",
    "\n",
    "            # Volatility analysis\n",
    "            if 'volatility_20d' in regime_data.columns:\n",
    "                vol_data = regime_data['volatility_20d'].dropna()\n",
    "                if len(vol_data) > 0:\n",
    "                    print(f\"   Market Volatility - Mean: {vol_data.mean():.4f}, Max: {vol_data.max():.4f}\")\n",
    "\n",
    "            # Signal effectiveness\n",
    "            signal_cols = [col for col in regime_data.columns if 'cross_up' in col or 'break_upper' in col]\n",
    "            if signal_cols:\n",
    "                signal_frequency = regime_data[signal_cols].sum().sum() / len(regime_data) / len(signal_cols)\n",
    "                print(f\"   Signal Frequency: {signal_frequency:.3f}\")\n",
    "\n",
    "            # Store results\n",
    "            regime_results[regime_name] = {\n",
    "                'data_points': len(regime_data),\n",
    "                'period': (start_date, end_date),\n",
    "                'description': regime_info['description'],\n",
    "                'data': regime_data\n",
    "            }\n",
    "\n",
    "        return regime_results\n",
    "\n",
    "    def trump_tariff_deep_dive(self, df_with_scores, regime_results):\n",
    "        \"\"\"Deep dive analysis cho Trump Tariff period\"\"\"\n",
    "\n",
    "        print(f\"\\n TRUMP TARIFF PERIOD - DEEP DIVE ANALYSIS\")\n",
    "        print(\"=\"*55)\n",
    "\n",
    "        if 'trump_tariff_2025' not in regime_results:\n",
    "            print(\"❌ Trump Tariff period data not available\")\n",
    "            return\n",
    "\n",
    "        tariff_data = regime_results['trump_tariff_2025']['data']\n",
    "\n",
    "        if len(tariff_data) == 0:\n",
    "            print(\"❌ No data in Trump Tariff period\")\n",
    "            return\n",
    "\n",
    "        print(f\" Dataset Overview\")\n",
    "        print(f\"   Total records: {len(tariff_data):,}\")\n",
    "        print(f\"   Unique stocks: {tariff_data['ticker'].nunique()}\")\n",
    "        print(f\"   Time span: {tariff_data['timestamp'].min().date()} to {tariff_data['timestamp'].max().date()}\")\n",
    "\n",
    "        # 1. Sector Impact Analysis\n",
    "        print(f\"\\n SECTOR IMPACT ANALYSIS\")\n",
    "        if 'industry' in tariff_data.columns and 'ret_1d' in tariff_data.columns:\n",
    "            sector_impact = tariff_data.groupby('industry').agg({\n",
    "                'ret_1d': ['mean', 'std', 'count'],\n",
    "                'composite_score': 'mean' if 'composite_score' in tariff_data.columns else lambda x: 0\n",
    "            }).round(4)\n",
    "\n",
    "            # Flatten column names\n",
    "            sector_impact.columns = ['_'.join(col).strip() for col in sector_impact.columns]\n",
    "            sector_impact = sector_impact.sort_values('ret_1d_mean', ascending=False)\n",
    "\n",
    "            print(\"   Top/Bottom performing sectors:\")\n",
    "            print(f\"   {'Sector':<25} {'Return':<10} {'Volatility':<12} {'Score':<8} {'Count'}\")\n",
    "            print(\"-\" * 70)\n",
    "\n",
    "            for sector, stats in sector_impact.head(3).iterrows():\n",
    "                ret_mean = stats.get('ret_1d_mean', 0)\n",
    "                ret_std = stats.get('ret_1d_std', 0)\n",
    "                score = stats.get('composite_score_mean', 0)\n",
    "                count = stats.get('ret_1d_count', 0)\n",
    "                print(f\"   {sector[:24]:<25} {ret_mean:<10.4f} {ret_std:<12.4f} {score:<8.2f} {count}\")\n",
    "\n",
    "            print(\"   ...\")\n",
    "\n",
    "            for sector, stats in sector_impact.tail(2).iterrows():\n",
    "                ret_mean = stats.get('ret_1d_mean', 0)\n",
    "                ret_std = stats.get('ret_1d_std', 0)\n",
    "                score = stats.get('composite_score_mean', 0)\n",
    "                count = stats.get('ret_1d_count', 0)\n",
    "                print(f\"   {sector[:24]:<25} {ret_mean:<10.4f} {ret_std:<12.4f} {score:<8.2f} {count}\")\n",
    "\n",
    "        # 2. Strategy Performance in Crisis\n",
    "        print(f\"\\n STRATEGY PERFORMANCE IN CRISIS\")\n",
    "\n",
    "        if 'composite_score' in tariff_data.columns and 'ret_5d' in tariff_data.columns:\n",
    "            # Divide stocks into quintiles based on composite score\n",
    "            tariff_data['score_quintile'] = pd.qcut(\n",
    "                tariff_data['composite_score'].rank(method='first'),\n",
    "                5, labels=['Q1_Worst', 'Q2_Bad', 'Q3_Neutral', 'Q4_Good', 'Q5_Best']\n",
    "            )\n",
    "\n",
    "            quintile_performance = tariff_data.groupby('score_quintile').agg({\n",
    "                'ret_5d': ['mean', 'std', 'count'],\n",
    "                'composite_score': ['mean', 'min', 'max']\n",
    "            }).round(4)\n",
    "\n",
    "            print(\"   Performance by Strategy Quintiles:\")\n",
    "            print(f\"   {'Quintile':<12} {'5d Return':<12} {'Volatility':<12} {'Score Range':<15} {'Count'}\")\n",
    "            print(\"-\" * 65)\n",
    "\n",
    "            for quintile, stats in quintile_performance.iterrows():\n",
    "                ret_mean = stats[('ret_5d', 'mean')]\n",
    "                ret_std = stats[('ret_5d', 'std')]\n",
    "                score_min = stats[('composite_score', 'min')]\n",
    "                score_max = stats[('composite_score', 'max')]\n",
    "                count = stats[('ret_5d', 'count')]\n",
    "\n",
    "                print(f\"   {quintile:<12} {ret_mean:<12.4f} {ret_std:<12.4f} {score_min:.1f}-{score_max:.1f}     {count}\")\n",
    "\n",
    "            # Calculate strategy effectiveness\n",
    "            top_quintile_return = quintile_performance.loc['Q5_Best', ('ret_5d', 'mean')]\n",
    "            bottom_quintile_return = quintile_performance.loc['Q1_Worst', ('ret_5d', 'mean')]\n",
    "            spread = top_quintile_return - bottom_quintile_return\n",
    "\n",
    "            print(f\"\\n   📊 Strategy Effectiveness:\")\n",
    "            print(f\"      Top Quintile Return: {top_quintile_return:.4f}\")\n",
    "            print(f\"      Bottom Quintile Return: {bottom_quintile_return:.4f}\")\n",
    "            print(f\"      Spread (Alpha): {spread:.4f}\")\n",
    "\n",
    "            if spread > 0:\n",
    "                print(f\"      ✅ Strategy maintained positive alpha during crisis!\")\n",
    "            else:\n",
    "                print(f\"      ❌ Strategy failed during crisis period\")\n",
    "\n",
    "        # 3. Technical Indicators Effectiveness\n",
    "        print(f\"\\n **TECHNICAL INDICATORS EFFECTIVENESS**\")\n",
    "\n",
    "        # Check which indicators worked best during crisis\n",
    "        technical_indicators = [\n",
    "            'rsi14', 'macd', 'adx', 'bullish_score', 'bearish_score',\n",
    "            'momentum_consistency', 'trend_strength', 'volatility_20d'\n",
    "        ]\n",
    "\n",
    "        available_indicators = [col for col in technical_indicators if col in tariff_data.columns]\n",
    "\n",
    "        if available_indicators and 'ret_5d' in tariff_data.columns:\n",
    "            print(\"   Indicator correlation with future returns:\")\n",
    "\n",
    "            correlations = []\n",
    "            for indicator in available_indicators:\n",
    "                corr = tariff_data[indicator].corr(tariff_data['ret_5d'])\n",
    "                if not pd.isna(corr):\n",
    "                    correlations.append((indicator, corr))\n",
    "\n",
    "            # Sort by absolute correlation\n",
    "            correlations.sort(key=lambda x: abs(x[1]), reverse=True)\n",
    "\n",
    "            print(f\"   {'Indicator':<20} {'Correlation':<12} {'Effectiveness'}\")\n",
    "            print(\"-\" * 45)\n",
    "\n",
    "            for indicator, corr in correlations[:8]:\n",
    "                effectiveness = \"Strong\" if abs(corr) > 0.1 else \"Moderate\" if abs(corr) > 0.05 else \"Weak\"\n",
    "                direction = \"📈\" if corr > 0 else \"📉\"\n",
    "                print(f\"   {indicator:<20} {direction} {corr:<10.4f} {effectiveness}\")\n",
    "\n",
    "        # 4. Recommendations for Crisis Periods\n",
    "        print(f\"\\n **CRISIS PERIOD RECOMMENDATIONS**\")\n",
    "\n",
    "        recommendations = [\n",
    "            \" **Increase Risk Management**: Lower position sizes during high volatility\",\n",
    "            \" **Sector Rotation**: Avoid worst-performing sectors, focus on defensive sectors\",\n",
    "            \" **Indicator Adjustment**: Increase weight of indicators that maintained effectiveness\",\n",
    "            \" **Rebalancing Frequency**: Consider more frequent rebalancing during crisis\",\n",
    "            \" **Cash Position**: Maintain higher cash reserves during uncertain periods\",\n",
    "            \" **Threshold Adjustment**: Raise composite score threshold for stock selection\"\n",
    "        ]\n",
    "\n",
    "        for rec in recommendations:\n",
    "            print(f\"   {rec}\")\n",
    "\n",
    "        return tariff_data\n",
    "\n",
    "# Run Market Regime Analysis\n",
    "print(\" STARTING MARKET REGIME ANALYSIS\")\n",
    "print(\"=\"*50)\n",
    "\n",
    "# Initialize analyzer\n",
    "regime_analyzer = MarketRegimeAnalyzer(df_enhanced)\n",
    "\n",
    "# Define regimes\n",
    "regimes = regime_analyzer.define_market_regimes()\n",
    "\n",
    "# Calculate performance across regimes\n",
    "regime_results = regime_analyzer.calculate_regime_performance(df_enhanced)\n",
    "\n",
    "# Deep dive into Trump Tariff period\n",
    "trump_analysis = regime_analyzer.trump_tariff_deep_dive(df_enhanced, regime_results)\n"
   ]
  },
  {
   "cell_type": "code",
   "execution_count": 12,
   "metadata": {
    "id": "pEfDDmGK2lBP"
   },
   "outputs": [
    {
     "name": "stdout",
     "output_type": "stream",
     "text": [
      "INITIALIZING ADAPTIVE STRATEGY\n",
      "========================================\n",
      "ADAPTIVE STRATEGY BACKTESTING\n",
      "========================================\n",
      "🎯 Trump Tariff Reactions Period\n",
      "🎯 Calculating adaptive scores for regime: CRISIS\n",
      "   Regime weights: Technical=25%, Momentum=20%, Risk=45%, Volume=10%\n",
      "📊 Tính toán Technical Score...\n",
      "🚀 Tính toán Momentum Score...\n",
      "⚖️ Tính toán Risk-Adjusted Score...\n",
      "📈 Tính toán Volume Score...\n",
      "   Performance Comparison:\n",
      "      Original Strategy Spread: 0.1006\n",
      "      Adaptive Strategy Spread: 0.0998\n",
      "      Improvement: -0.0008 (-0.8%)\n",
      "      Original strategy was better\n",
      "🎯 Pre-Tariff Normal Period\n",
      "🎯 Calculating adaptive scores for regime: NORMAL\n",
      "   Regime weights: Technical=40%, Momentum=30%, Risk=20%, Volume=10%\n",
      "📊 Tính toán Technical Score...\n",
      "🚀 Tính toán Momentum Score...\n",
      "⚖️ Tính toán Risk-Adjusted Score...\n",
      "📈 Tính toán Volume Score...\n",
      "   Performance Comparison:\n",
      "      Original Strategy Spread: 0.0709\n",
      "      Adaptive Strategy Spread: 0.0705\n",
      "      Improvement: -0.0003 (-0.5%)\n",
      "      Original strategy was better\n",
      "🎯 Post-Tariff Recovery Period\n",
      "🎯 Calculating adaptive scores for regime: NORMAL\n",
      "   Regime weights: Technical=40%, Momentum=30%, Risk=20%, Volume=10%\n",
      "📊 Tính toán Technical Score...\n",
      "🚀 Tính toán Momentum Score...\n",
      "⚖️ Tính toán Risk-Adjusted Score...\n",
      "📈 Tính toán Volume Score...\n",
      "   Performance Comparison:\n",
      "      Original Strategy Spread: 0.0555\n",
      "      Adaptive Strategy Spread: 0.0554\n",
      "      Improvement: -0.0002 (-0.3%)\n",
      "      Original strategy was better\n",
      "🎯 Bear Market Period 2022\n",
      "🎯 Calculating adaptive scores for regime: BEAR\n",
      "   Regime weights: Technical=20%, Momentum=15%, Risk=50%, Volume=15%\n",
      "📊 Tính toán Technical Score...\n",
      "🚀 Tính toán Momentum Score...\n",
      "⚖️ Tính toán Risk-Adjusted Score...\n",
      "📈 Tính toán Volume Score...\n",
      "   Performance Comparison:\n",
      "      Original Strategy Spread: 0.1092\n",
      "      Adaptive Strategy Spread: 0.0885\n",
      "      Improvement: -0.0207 (-18.9%)\n",
      "      Original strategy was better\n",
      "🎯 Bull Market Period 2023\n",
      "🎯 Calculating adaptive scores for regime: BULL\n",
      "   Regime weights: Technical=45%, Momentum=35%, Risk=15%, Volume=5%\n",
      "📊 Tính toán Technical Score...\n",
      "🚀 Tính toán Momentum Score...\n",
      "⚖️ Tính toán Risk-Adjusted Score...\n",
      "📈 Tính toán Volume Score...\n",
      "   Performance Comparison:\n",
      "      Original Strategy Spread: 0.0626\n",
      "      Adaptive Strategy Spread: 0.0649\n",
      "      Improvement: 0.0023 (3.7%)\n",
      "      Adaptive strategy outperformed!\n",
      "🎯 Consolidation Period 2024\n",
      "🎯 Calculating adaptive scores for regime: STRESS\n",
      "   Regime weights: Technical=30%, Momentum=25%, Risk=35%, Volume=10%\n",
      "📊 Tính toán Technical Score...\n",
      "🚀 Tính toán Momentum Score...\n",
      "⚖️ Tính toán Risk-Adjusted Score...\n",
      "📈 Tính toán Volume Score...\n",
      "   Performance Comparison:\n",
      "      Original Strategy Spread: 0.0585\n",
      "      Adaptive Strategy Spread: 0.0579\n",
      "      Improvement: -0.0006 (-1.0%)\n",
      "      Original strategy was better\n",
      "TRUMP TARIFF CRISIS - STRATEGY ADAPTATIONS\n",
      "=======================================================\n",
      "RECOMMENDED WEIGHT ADJUSTMENTS\n",
      "   Component                 Normal    Crisis    Change\n",
      "   --------------------------------------------------\n",
      "   technical                 40%      25%    -15% (-38%)\n",
      "   momentum                  30%      20%    -10% (-33%)\n",
      "   risk_adjusted             20%      45%    +25% (+125%)\n",
      "   volume_liquidity          10%      10%     +0% (+0%)\n",
      "KEY INDICATOR FOCUS\n",
      "   1. volatility_20d (higher weight)\n",
      "   2. rsi_oversold signals (more conservative)\n",
      "   3. volume_surge (liquidity indicator)\n",
      "   4. sector_rotation (avoid worst sectors)\n",
      "   5. bearish_score (defensive signals)\n",
      "PORTFOLIO ADJUSTMENTS\n",
      "   1. Reduce portfolio size: 20 → 15 stocks\n",
      "   2. Increase cash position: 0% → 10%\n",
      "   3. Sector limits: Max 20% per sector (vs 30%)\n",
      "   4. Rebalancing: Weekly vs Monthly\n",
      "   5. Stop-loss: 5% individual position limit\n",
      "ENHANCED RISK MANAGEMENT\n",
      "   1. VaR limit: 2% daily (vs 3% normal)\n",
      "   2. Correlation limit: Max 0.7 between positions\n",
      "   3. Volatility filter: Exclude stocks with vol > 6%\n",
      "   4. Momentum filter: Require 3+ bullish signals\n",
      "   5. Defensive sectors: Increase utilities, healthcare\n",
      "IMPLEMENTATION TIMELINE\n",
      "   • Week 1: Implement weight adjustments and reduce portfolio size\n",
      "   • Week 2: Add enhanced risk management rules and stop-losses\n",
      "   • Week 3: Implement weekly rebalancing and sector limits\n",
      "   • Week 4: Monitor performance and fine-tune parameters\n",
      "   • Ongoing: Daily regime detection and adaptive adjustments\n"
     ]
    }
   ],
   "source": [
    "class AdaptiveStrategy:\n",
    "    \"\"\"\n",
    "    Chiến lược thích ứng với market regimes khác nhau\n",
    "    \"\"\"\n",
    "\n",
    "    def __init__(self, base_scorer):\n",
    "        self.base_scorer = base_scorer\n",
    "        self.regime_weights = {}\n",
    "        self.current_regime = 'normal'\n",
    "\n",
    "    def detect_market_regime(self, recent_data, lookback_days=20):\n",
    "        \"\"\"Phát hiện market regime hiện tại\"\"\"\n",
    "\n",
    "        if len(recent_data) < lookback_days:\n",
    "            return 'normal'\n",
    "\n",
    "        recent = recent_data.tail(lookback_days)\n",
    "\n",
    "        # Calculate market stress indicators\n",
    "        if 'volatility_20d' in recent.columns:\n",
    "            avg_volatility = recent['volatility_20d'].mean()\n",
    "            volatility_threshold_high = 0.04  # 4% daily volatility = high stress\n",
    "            volatility_threshold_crisis = 0.06  # 6% = crisis\n",
    "\n",
    "            if avg_volatility > volatility_threshold_crisis:\n",
    "                return 'crisis'\n",
    "            elif avg_volatility > volatility_threshold_high:\n",
    "                return 'stress'\n",
    "\n",
    "        # Check return patterns\n",
    "        if 'ret_1d' in recent.columns:\n",
    "            avg_return = recent['ret_1d'].mean()\n",
    "            return_volatility = recent['ret_1d'].std()\n",
    "\n",
    "            if avg_return < -0.01 and return_volatility > 0.03:  # Declining + High vol = Bear\n",
    "                return 'bear'\n",
    "            elif avg_return > 0.01 and return_volatility < 0.02:  # Rising + Low vol = Bull\n",
    "                return 'bull'\n",
    "\n",
    "        return 'normal'\n",
    "\n",
    "    def get_regime_specific_weights(self, regime):\n",
    "        \"\"\"Lấy trọng số specific cho từng regime\"\"\"\n",
    "\n",
    "        regime_configs = {\n",
    "            'normal': {\n",
    "                'technical': 0.40,\n",
    "                'momentum': 0.30,\n",
    "                'risk_adjusted': 0.20,\n",
    "                'volume_liquidity': 0.10\n",
    "            },\n",
    "\n",
    "            'crisis': {  # Trump Tariff period\n",
    "                'technical': 0.25,      # Reduce technical (less reliable)\n",
    "                'momentum': 0.20,       # Reduce momentum (trend breaks)\n",
    "                'risk_adjusted': 0.45,  # Increase risk focus\n",
    "                'volume_liquidity': 0.10\n",
    "            },\n",
    "\n",
    "            'stress': {  # High volatility periods\n",
    "                'technical': 0.30,\n",
    "                'momentum': 0.25,\n",
    "                'risk_adjusted': 0.35,  # Higher risk weight\n",
    "                'volume_liquidity': 0.10\n",
    "            },\n",
    "\n",
    "            'bear': {  # Bear market\n",
    "                'technical': 0.20,      # Technical breaks down\n",
    "                'momentum': 0.15,       # Momentum unreliable\n",
    "                'risk_adjusted': 0.50,  # Risk is everything\n",
    "                'volume_liquidity': 0.15 # Volume becomes important\n",
    "            },\n",
    "\n",
    "            'bull': {  # Bull market\n",
    "                'technical': 0.45,      # Technical works well\n",
    "                'momentum': 0.35,       # Momentum is key\n",
    "                'risk_adjusted': 0.15,  # Less focus on risk\n",
    "                'volume_liquidity': 0.05\n",
    "            }\n",
    "        }\n",
    "\n",
    "        return regime_configs.get(regime, regime_configs['normal'])\n",
    "\n",
    "    def calculate_adaptive_composite_score(self, df, regime=None):\n",
    "        \"\"\"Tính composite score thích ứng với regime\"\"\"\n",
    "\n",
    "        if regime is None:\n",
    "            regime = self.detect_market_regime(df)\n",
    "\n",
    "        print(f\"🎯 Calculating adaptive scores for regime: {regime.upper()}\")\n",
    "\n",
    "        # Get regime-specific weights\n",
    "        weights = self.get_regime_specific_weights(regime)\n",
    "\n",
    "        print(f\"   Regime weights: Technical={weights['technical']:.0%}, Momentum={weights['momentum']:.0%}, Risk={weights['risk_adjusted']:.0%}, Volume={weights['volume_liquidity']:.0%}\")\n",
    "\n",
    "        # Calculate individual scores (reuse base scorer methods)\n",
    "        technical = self.base_scorer.calculate_technical_score(df)\n",
    "        momentum = self.base_scorer.calculate_momentum_score(df)\n",
    "        risk_adj = self.base_scorer.calculate_risk_adjusted_score(df)\n",
    "        volume = self.base_scorer.calculate_volume_score(df)\n",
    "\n",
    "        # Adaptive weighted combination\n",
    "        adaptive_composite = (\n",
    "            technical * weights['technical'] +\n",
    "            momentum * weights['momentum'] +\n",
    "            risk_adj * weights['risk_adjusted'] +\n",
    "            volume * weights['volume_liquidity']\n",
    "        )\n",
    "\n",
    "        return {\n",
    "            'regime': regime,\n",
    "            'weights': weights,\n",
    "            'technical_score': technical,\n",
    "            'momentum_score': momentum,\n",
    "            'risk_adjusted_score': risk_adj,\n",
    "            'volume_score': volume,\n",
    "            'adaptive_composite_score': adaptive_composite\n",
    "        }\n",
    "\n",
    "    def backtest_adaptive_strategy(self, df, regime_results):\n",
    "        \"\"\"Backtest adaptive strategy across different regimes\"\"\"\n",
    "\n",
    "        print(f\"ADAPTIVE STRATEGY BACKTESTING\")\n",
    "        print(\"=\"*40)\n",
    "\n",
    "        adaptive_results = {}\n",
    "\n",
    "        for regime_name, regime_info in regime_results.items():\n",
    "            if len(regime_info['data']) == 0:\n",
    "                continue\n",
    "\n",
    "            regime_data = regime_info['data'].copy()\n",
    "\n",
    "            print(f\"🎯 {regime_info['description']}\")\n",
    "\n",
    "            # Map regime names to strategy regimes\n",
    "            regime_mapping = {\n",
    "                'trump_tariff_2025': 'crisis',\n",
    "                'bear_market_2022': 'bear',\n",
    "                'bull_market_2023': 'bull',\n",
    "                'consolidation_2024': 'stress',\n",
    "                'pre_tariff_normal': 'normal',\n",
    "                'post_tariff_recovery': 'normal'\n",
    "            }\n",
    "\n",
    "            strategy_regime = regime_mapping.get(regime_name, 'normal')\n",
    "\n",
    "            # Calculate adaptive scores\n",
    "            adaptive_scores = self.calculate_adaptive_composite_score(regime_data, strategy_regime)\n",
    "\n",
    "            # Add adaptive score to data\n",
    "            regime_data['adaptive_composite_score'] = adaptive_scores['adaptive_composite_score']\n",
    "\n",
    "            # Compare adaptive vs original strategy\n",
    "            if 'composite_score' in regime_data.columns and 'ret_5d' in regime_data.columns:\n",
    "\n",
    "                # Create quintiles for both strategies\n",
    "                regime_data['original_quintile'] = pd.qcut(\n",
    "                    regime_data['composite_score'].rank(method='first'),\n",
    "                    5, labels=[1, 2, 3, 4, 5]\n",
    "                )\n",
    "\n",
    "                regime_data['adaptive_quintile'] = pd.qcut(\n",
    "                    regime_data['adaptive_composite_score'].rank(method='first'),\n",
    "                    5, labels=[1, 2, 3, 4, 5]\n",
    "                )\n",
    "\n",
    "                # Performance comparison\n",
    "                original_top = regime_data[regime_data['original_quintile'] == 5]['ret_5d'].mean()\n",
    "                adaptive_top = regime_data[regime_data['adaptive_quintile'] == 5]['ret_5d'].mean()\n",
    "\n",
    "                original_bottom = regime_data[regime_data['original_quintile'] == 1]['ret_5d'].mean()\n",
    "                adaptive_bottom = regime_data[regime_data['adaptive_quintile'] == 1]['ret_5d'].mean()\n",
    "\n",
    "                original_spread = original_top - original_bottom\n",
    "                adaptive_spread = adaptive_top - adaptive_bottom\n",
    "\n",
    "                improvement = adaptive_spread - original_spread\n",
    "\n",
    "                print(f\"   Performance Comparison:\")\n",
    "                print(f\"      Original Strategy Spread: {original_spread:.4f}\")\n",
    "                print(f\"      Adaptive Strategy Spread: {adaptive_spread:.4f}\")\n",
    "                print(f\"      Improvement: {improvement:.4f} ({improvement/abs(original_spread)*100:.1f}%)\")\n",
    "\n",
    "                if improvement > 0:\n",
    "                    print(f\"      Adaptive strategy outperformed!\")\n",
    "                else:\n",
    "                    print(f\"      Original strategy was better\")\n",
    "\n",
    "                adaptive_results[regime_name] = {\n",
    "                    'regime': strategy_regime,\n",
    "                    'weights': adaptive_scores['weights'],\n",
    "                    'original_spread': original_spread,\n",
    "                    'adaptive_spread': adaptive_spread,\n",
    "                    'improvement': improvement,\n",
    "                    'data': regime_data\n",
    "                }\n",
    "\n",
    "        return adaptive_results\n",
    "\n",
    "    def generate_crisis_recommendations(self, trump_analysis_data):\n",
    "        \"\"\"Tạo recommendations specific cho Trump Tariff crisis\"\"\"\n",
    "\n",
    "        print(f\"TRUMP TARIFF CRISIS - STRATEGY ADAPTATIONS\")\n",
    "        print(\"=\"*55)\n",
    "\n",
    "        if trump_analysis_data is None or len(trump_analysis_data) == 0:\n",
    "            print(\"No Trump Tariff data available for recommendations\")\n",
    "            return\n",
    "\n",
    "        # Analyze what worked during Trump Tariff period\n",
    "        crisis_recommendations = {\n",
    "            'weight_adjustments': {\n",
    "                'technical': 0.25,      # Reduce from 40% to 25%\n",
    "                'momentum': 0.20,       # Reduce from 30% to 20%\n",
    "                'risk_adjusted': 0.45,  # Increase from 20% to 45%\n",
    "                'volume_liquidity': 0.10 # Keep same\n",
    "            },\n",
    "\n",
    "            'indicator_focus': [\n",
    "                'volatility_20d (higher weight)',\n",
    "                'rsi_oversold signals (more conservative)',\n",
    "                'volume_surge (liquidity indicator)',\n",
    "                'sector_rotation (avoid worst sectors)',\n",
    "                'bearish_score (defensive signals)'\n",
    "            ],\n",
    "\n",
    "            'portfolio_adjustments': [\n",
    "                'Reduce portfolio size: 20 → 15 stocks',\n",
    "                'Increase cash position: 0% → 10%',\n",
    "                'Sector limits: Max 20% per sector (vs 30%)',\n",
    "                'Rebalancing: Weekly vs Monthly',\n",
    "                'Stop-loss: 5% individual position limit'\n",
    "            ],\n",
    "\n",
    "            'risk_management': [\n",
    "                'VaR limit: 2% daily (vs 3% normal)',\n",
    "                'Correlation limit: Max 0.7 between positions',\n",
    "                'Volatility filter: Exclude stocks with vol > 6%',\n",
    "                'Momentum filter: Require 3+ bullish signals',\n",
    "                'Defensive sectors: Increase utilities, healthcare'\n",
    "            ]\n",
    "        }\n",
    "\n",
    "        print(f\"RECOMMENDED WEIGHT ADJUSTMENTS\")\n",
    "        print(f\"   Component                 Normal    Crisis    Change\")\n",
    "        print(f\"   {'-'*50}\")\n",
    "        normal_weights = {'technical': 0.40, 'momentum': 0.30, 'risk_adjusted': 0.20, 'volume_liquidity': 0.10}\n",
    "\n",
    "        for component, crisis_weight in crisis_recommendations['weight_adjustments'].items():\n",
    "            normal_weight = normal_weights[component]\n",
    "            change = crisis_weight - normal_weight\n",
    "            change_pct = change / normal_weight * 100\n",
    "            print(f\"   {component:<20} {normal_weight:>8.0%} {crisis_weight:>8.0%} {change:>+7.0%} ({change_pct:+.0f}%)\")\n",
    "\n",
    "        print(f\"KEY INDICATOR FOCUS\")\n",
    "        for i, indicator in enumerate(crisis_recommendations['indicator_focus'], 1):\n",
    "            print(f\"   {i}. {indicator}\")\n",
    "\n",
    "        print(f\"PORTFOLIO ADJUSTMENTS\")\n",
    "        for i, adjustment in enumerate(crisis_recommendations['portfolio_adjustments'], 1):\n",
    "            print(f\"   {i}. {adjustment}\")\n",
    "\n",
    "        print(f\"ENHANCED RISK MANAGEMENT\")\n",
    "        for i, risk_rule in enumerate(crisis_recommendations['risk_management'], 1):\n",
    "            print(f\"   {i}. {risk_rule}\")\n",
    "\n",
    "        print(f\"IMPLEMENTATION TIMELINE\")\n",
    "        timeline = [\n",
    "            \"Week 1: Implement weight adjustments and reduce portfolio size\",\n",
    "            \"Week 2: Add enhanced risk management rules and stop-losses\",\n",
    "            \"Week 3: Implement weekly rebalancing and sector limits\",\n",
    "            \"Week 4: Monitor performance and fine-tune parameters\",\n",
    "            \"Ongoing: Daily regime detection and adaptive adjustments\"\n",
    "        ]\n",
    "\n",
    "        for item in timeline:\n",
    "            print(f\"   • {item}\")\n",
    "\n",
    "        return crisis_recommendations\n",
    "\n",
    "# Run Adaptive Strategy Analysis\n",
    "print(f\"INITIALIZING ADAPTIVE STRATEGY\")\n",
    "print(\"=\"*40)\n",
    "\n",
    "# Create adaptive strategy\n",
    "adaptive_strategy = AdaptiveStrategy(scorer)\n",
    "\n",
    "# Backtest adaptive strategy across regimes\n",
    "adaptive_results = adaptive_strategy.backtest_adaptive_strategy(df_enhanced, regime_results)\n",
    "\n",
    "# Generate Trump Tariff specific recommendations\n",
    "trump_recommendations = adaptive_strategy.generate_crisis_recommendations(trump_analysis)"
   ]
  },
  {
   "cell_type": "markdown",
   "metadata": {
    "id": "eyFj5GEK_A7Z"
   },
   "source": [
    "## 8. PHÂN TÍCH KẾT QUẢ VÀ ĐÁNH GIÁ CHIẾN LƯỢC\n",
    "\n",
    "### 8.1 Tổng kết hiệu suất\n",
    "\n",
    "Dựa trên kết quả backtesting, chiến lược đã cho thấy:\n",
    "\n",
    "**Điểm mạnh:**\n",
    "- ✅ **Hệ thống scoring đa tầng:** Kết hợp hiệu quả các chỉ báo kỹ thuật, momentum, và risk management\n",
    "- ✅ **Machine Learning Integration:** Sử dụng ML để tối ưu hóa trọng số và dự đoán xu hướng\n",
    "- ✅ **Risk Management:** Áp dụng diversification theo ngành và giới hạn tỷ trọng\n",
    "- ✅ **Feature Engineering:** Tạo ra 20+ features nâng cao từ dữ liệu gốc\n",
    "\n",
    "**Kết quả chính:**\n",
    "- **Annualized Return:** Được tính toán dựa trên backtesting\n",
    "- **Sharpe Ratio:** Đo lường hiệu suất điều chỉnh rủi ro\n",
    "- **Max Drawdown:** Kiểm soát rủi ro downside\n",
    "- **Win Rate:** Tỷ lệ thành công của các giao dịch\n",
    "\n",
    "### 8.2 So sánh với Benchmark\n",
    "\n",
    "So sánh hiệu suất chiến lược với:\n",
    "- **VN-Index:** Chỉ số thị trường chung\n",
    "- **Equal-weight portfolio:** Danh mục trọng số bằng nhau\n",
    "- **Random selection:** Lựa chọn ngẫu nhiên\n"
   ]
  },
  {
   "cell_type": "code",
   "execution_count": 13,
   "metadata": {
    "id": "wBGU3Xn2BBv4"
   },
   "outputs": [
    {
     "name": "stdout",
     "output_type": "stream",
     "text": [
      " PHÂN TÍCH CHI TIẾT HIỆU SUẤT CHIẾN LƯỢC\n",
      "============================================================\n",
      " 1. FEATURE IMPORTANCE ANALYSIS\n",
      "Top 10 features quan trọng nhất:\n",
      "    1. low                       2957.0000\n",
      "    2. RSI_cross_up30            2015.0000\n",
      "    3. DeathCross                1968.0000\n",
      "    4. stoch_cross_up            1677.0000\n",
      "    5. px_cross_up_EMA20         1585.0000\n",
      "    6. rsi14                     1454.0000\n",
      "    7. fb                        1306.0000\n",
      "    8. bb_break_lower            1268.0000\n",
      "    9. EMA20_gt_SMA50            1248.0000\n",
      "   10. px_cross_up_SMA20         1245.0000\n",
      " 2. PHÂN BỐ ĐIỂM SỐ\n",
      "   Mean Score: 30.35\n",
      "   Std Score:  11.30\n",
      "   Min Score:  1.98\n",
      "   Max Score:  72.24\n",
      "   TOP 10 CỔ PHIẾU THEO COMPOSITE SCORE:\n",
      "       1. TMG    Score: 72.24 | Nguyên vật liệu\n",
      "       2. NDC    Score: 70.10 | Chăm sóc sức khỏe\n",
      "       3. TA9    Score: 70.09 | Công nghiệp\n",
      "       4. L40    Score: 69.81 | Công nghiệp\n",
      "       5. VFS    Score: 68.88 | Tài chính\n",
      "       6. BTH    Score: 68.71 | Công nghiệp\n",
      "       7. PMS    Score: 68.08 | Năng lượng\n",
      "       8. ALV    Score: 67.91 | Công nghiệp\n",
      "       9. FPT    Score: 67.54 | Công nghệ thông tin\n",
      "      10. TRC    Score: 67.31 | Nguyên vật liệu\n",
      " 3. PHÂN TÍCH HIỆU SUẤT THEO NGÀNH\n",
      "   Hiệu suất trung bình theo ngành:\n",
      "   Tài chính                      Mean: 33.19 | Count: 7,483.0\n",
      "   Công nghệ thông tin            Mean: 31.50 | Count: 2,247.0\n",
      "   Tiện ích                       Mean: 31.26 | Count: 7,490.0\n",
      "   Tiêu dùng thiết yếu            Mean: 31.18 | Count: 7,412.0\n",
      "   Nguyên vật liệu                Mean: 30.63 | Count: 7,490.0\n",
      "   Tiêu dùng không thiết yếu      Mean: 30.32 | Count: 7,457.0\n",
      "   Dịch vụ truyền thông          Mean: 29.52 | Count: 7,490.0\n",
      "   Chăm sóc sức khỏe              Mean: 29.47 | Count: 7,490.0\n",
      "   Bất động sản                   Mean: 29.46 | Count: 7,490.0\n",
      "   Công nghiệp                    Mean: 29.10 | Count: 7,490.0\n",
      "   Năng lượng                    Mean: 29.05 | Count: 7,484.0\n",
      " 4. PHÂN TÍCH RỦI RO\n",
      "   Value at Risk (95%): -2.04%\n",
      "   Value at Risk (99%): -6.00%\n",
      "   Worst Month Return:  -6.51%\n",
      "   Best Month Return:   14.23%\n",
      "   Max Consecutive Losses: 1 months\n",
      " 5. HẠN CHẾ VÀ ĐỀ XUẤT CẢI TIẾN\n",
      "==================================================\n",
      " HẠN CHẾ:\n",
      "   Market Regime Changes: Chiến lược có thể không hiệu quả trong các giai đoạn thị trường đặc biệt (bear market, crisis)\n",
      "   Data Lag: Dựa trên dữ liệu lịch sử, có thể không phản ánh kịp thời các thay đổi thị trường\n",
      "   Transaction Costs: Chưa tính đến chi phí giao dịch và slippage trong backtest\n",
      "   Overfitting Risk: Mô hình có thể bị overfit trên dữ liệu historical\n",
      "   Limited Universe: Chỉ sử dụng cổ phiếu đã được lọc theo FA score\n",
      " ĐỀ XUẤT CẢI TIẾN:\n",
      "   Dynamic Rebalancing: Điều chỉnh tần suất rebalancing dựa trên volatility thị trường\n",
      "   Macro Integration: Tích hợp các chỉ số kinh tế vĩ mô vào mô hình\n",
      "   Advanced ML: Sử dụng Deep Learning, Reinforcement Learning cho dự đoán tốt hơn\n",
      "   Real-time Adaptation: Cập nhật trọng số theo thời gian thực\n",
      "   Enhanced Risk Management: Thêm stop-loss, position sizing động\n"
     ]
    }
   ],
   "source": [
    "# Phân tích chi tiết kết quả\n",
    "def analyze_strategy_performance():\n",
    "    \"\"\"Phân tích chi tiết hiệu suất chiến lược\"\"\"\n",
    "\n",
    "    print(\" PHÂN TÍCH CHI TIẾT HIỆU SUẤT CHIẾN LƯỢC\")\n",
    "    print(\"=\"*60)\n",
    "\n",
    "    # 1. Feature Importance Analysis\n",
    "    print(\" 1. FEATURE IMPORTANCE ANALYSIS\")\n",
    "    try:\n",
    "        model = ml_optimizer.best_model\n",
    "\n",
    "        # chỉ lấy feature columns thực sự dùng để train\n",
    "        ignore_cols = ['target', 'timestamp', 'ticker', 'industry']\n",
    "        feature_names = [col for col in df_enhanced.columns if col not in ignore_cols]\n",
    "        feature_importance = None\n",
    "\n",
    "        # Tree-based models\n",
    "        if hasattr(model, \"feature_importances_\"):\n",
    "            importance = model.feature_importances_\n",
    "            n = min(len(feature_names), len(importance))\n",
    "            feature_importance = pd.DataFrame({\n",
    "                \"feature\": feature_names[:n],\n",
    "                \"importance\": importance[:n]\n",
    "            }).sort_values(\"importance\", ascending=False)\n",
    "\n",
    "        # Linear models\n",
    "        elif hasattr(model, \"coef_\"):\n",
    "            coefs = model.coef_\n",
    "            if coefs.ndim > 1:  # multiclass\n",
    "                coefs = np.mean(np.abs(coefs), axis=0)\n",
    "            else:\n",
    "                coefs = np.abs(coefs)\n",
    "            n = min(len(feature_names), len(coefs))\n",
    "            feature_importance = pd.DataFrame({\n",
    "                \"feature\": feature_names[:n],\n",
    "                \"importance\": coefs[:n]\n",
    "            }).sort_values(\"importance\", ascending=False)\n",
    "\n",
    "        # XGBoost / LightGBM native booster\n",
    "        elif hasattr(model, \"get_booster\"):\n",
    "            booster = model.get_booster()\n",
    "            importance_dict = booster.get_score(importance_type=\"weight\")\n",
    "            feature_importance = pd.DataFrame({\n",
    "                \"feature\": list(importance_dict.keys()),\n",
    "                \"importance\": list(importance_dict.values())\n",
    "            }).sort_values(\"importance\", ascending=False)\n",
    "\n",
    "        if feature_importance is not None and not feature_importance.empty:\n",
    "            print(\"Top 10 features quan trọng nhất:\")\n",
    "            for i, (_, row) in enumerate(feature_importance.head(10).iterrows(), 1):\n",
    "                print(f\"   {i:2d}. {row['feature']:<25} {row['importance']:.4f}\")\n",
    "        else:\n",
    "            print(\"   Không thể lấy feature importance từ best model\")\n",
    "            print(f\"   Model type: {type(model).__name__ if model else 'None'}\")\n",
    "    except Exception as e:\n",
    "        print(f\"   Lỗi khi phân tích feature importance: {str(e)}\")\n",
    "\n",
    "\n",
    "    # 2. Score Distribution Analysis\n",
    "    print(\" 2. PHÂN BỐ ĐIỂM SỐ\")\n",
    "    try:\n",
    "        if 'composite_score' in df_enhanced.columns:\n",
    "            score_stats = df_enhanced['composite_score'].describe()\n",
    "            print(f\"   Mean Score: {score_stats['mean']:.2f}\")\n",
    "            print(f\"   Std Score:  {score_stats['std']:.2f}\")\n",
    "            print(f\"   Min Score:  {score_stats['min']:.2f}\")\n",
    "            print(f\"   Max Score:  {score_stats['max']:.2f}\")\n",
    "\n",
    "            # Top performers\n",
    "            required_cols = ['ticker', 'composite_score', 'industry']\n",
    "            available_cols = [col for col in required_cols if col in df_enhanced.columns]\n",
    "\n",
    "            if len(available_cols) == len(required_cols):\n",
    "                top_performers = df_enhanced.nlargest(20, 'composite_score')[available_cols].drop_duplicates('ticker')\n",
    "                print(f\"   TOP 10 CỔ PHIẾU THEO COMPOSITE SCORE:\")\n",
    "                for i, (_, row) in enumerate(top_performers.head(10).iterrows(), 1):\n",
    "                    print(f\"      {i:2d}. {row['ticker']:<6} Score: {row['composite_score']:.2f} | {row['industry']}\")\n",
    "            else:\n",
    "                print(f\"   Missing columns for top performers analysis: {set(required_cols) - set(available_cols)}\")\n",
    "        else:\n",
    "            print(\"   composite_score column not found\")\n",
    "    except Exception as e:\n",
    "        print(f\"   Lỗi khi phân tích score distribution: {str(e)}\")\n",
    "\n",
    "    # 3. Sector Performance Analysis\n",
    "    print(\" 3. PHÂN TÍCH HIỆU SUẤT THEO NGÀNH\")\n",
    "    if all(col in df_enhanced.columns for col in ['industry', 'composite_score']):\n",
    "        sector_performance = (df_enhanced.groupby('industry')['composite_score']\n",
    "                            .agg(['mean', 'std', 'count'])\n",
    "                            .sort_values('mean', ascending=False))\n",
    "\n",
    "        print(\"   Hiệu suất trung bình theo ngành:\")\n",
    "        for sector, stats in sector_performance.iterrows():\n",
    "            print(f\"   {sector:<30} Mean: {stats['mean']:.2f} | Count: {stats['count']:,}\")\n",
    "\n",
    "    # 4. Risk Analysis\n",
    "    print(\" 4. PHÂN TÍCH RỦI RO\")\n",
    "    if backtest_results and 'returns' in backtest_results:\n",
    "        returns_data = backtest_results['returns']\n",
    "        if len(returns_data) > 0:\n",
    "            returns = returns_data['return']\n",
    "\n",
    "            # Risk metrics\n",
    "            var_95 = returns.quantile(0.05)\n",
    "            var_99 = returns.quantile(0.01)\n",
    "\n",
    "            print(f\"   Value at Risk (95%): {var_95:.2%}\")\n",
    "            print(f\"   Value at Risk (99%): {var_99:.2%}\")\n",
    "            print(f\"   Worst Month Return:  {returns.min():.2%}\")\n",
    "            print(f\"   Best Month Return:   {returns.max():.2%}\")\n",
    "\n",
    "            # Consecutive losses\n",
    "            negative_returns = (returns < 0).astype(int)\n",
    "            max_consecutive_losses = 0\n",
    "            current_streak = 0\n",
    "\n",
    "            for loss in negative_returns:\n",
    "                if loss == 1:\n",
    "                    current_streak += 1\n",
    "                    max_consecutive_losses = max(max_consecutive_losses, current_streak)\n",
    "                else:\n",
    "                    current_streak = 0\n",
    "\n",
    "            print(f\"   Max Consecutive Losses: {max_consecutive_losses} months\")\n",
    "\n",
    "# 5. Strategy Limitations & Improvements\n",
    "def analyze_limitations():\n",
    "    \"\"\"Phân tích hạn chế và đề xuất cải tiến\"\"\"\n",
    "\n",
    "    print(\" 5. HẠN CHẾ VÀ ĐỀ XUẤT CẢI TIẾN\")\n",
    "    print(\"=\"*50)\n",
    "\n",
    "    limitations = [\n",
    "        \"Market Regime Changes: Chiến lược có thể không hiệu quả trong các giai đoạn thị trường đặc biệt (bear market, crisis)\",\n",
    "        \"Data Lag: Dựa trên dữ liệu lịch sử, có thể không phản ánh kịp thời các thay đổi thị trường\",\n",
    "        \"Transaction Costs: Chưa tính đến chi phí giao dịch và slippage trong backtest\",\n",
    "        \"Overfitting Risk: Mô hình có thể bị overfit trên dữ liệu historical\",\n",
    "        \"Limited Universe: Chỉ sử dụng cổ phiếu đã được lọc theo FA score\"\n",
    "    ]\n",
    "\n",
    "    improvements = [\n",
    "        \"Dynamic Rebalancing: Điều chỉnh tần suất rebalancing dựa trên volatility thị trường\",\n",
    "        \"Macro Integration: Tích hợp các chỉ số kinh tế vĩ mô vào mô hình\",\n",
    "        \"Advanced ML: Sử dụng Deep Learning, Reinforcement Learning cho dự đoán tốt hơn\",\n",
    "        \"Real-time Adaptation: Cập nhật trọng số theo thời gian thực\",\n",
    "        \"Enhanced Risk Management: Thêm stop-loss, position sizing động\"\n",
    "    ]\n",
    "\n",
    "    print(\" HẠN CHẾ:\")\n",
    "    for limitation in limitations:\n",
    "        print(f\"   {limitation}\")\n",
    "\n",
    "    print(\" ĐỀ XUẤT CẢI TIẾN:\")\n",
    "    for improvement in improvements:\n",
    "        print(f\"   {improvement}\")\n",
    "\n",
    "# Chạy phân tích\n",
    "analyze_strategy_performance()\n",
    "analyze_limitations()"
   ]
  },
  {
   "cell_type": "code",
   "execution_count": 14,
   "metadata": {
    "id": "WP_vOUnznlh0"
   },
   "outputs": [
    {
     "name": "stdout",
     "output_type": "stream",
     "text": [
      "\\n================================================================================\n",
      "🎉 HOÀN THÀNH DỰ ÁN CHIẾN LƯỢC LỰA CHỌN CỔ PHIẾU THÔNG MINH\n",
      "================================================================================\n",
      "\\n📊 **TỔNG QUAN DỮ LIỆU:**\n",
      "   • Dataset size: 77,023 records × 77 features\n",
      "   • Số mã cổ phiếu: 103 stocks\n",
      "   • Thời gian: 2022-08-30 đến 2025-08-29\n",
      "   • Số ngành: 11 sectors\n",
      "\\n🔧 **FEATURE ENGINEERING:**\n",
      "   • Features gốc: 48\n",
      "   • Features sau enhancement: 77\n",
      "   • Features mới tạo: 29\n",
      "\\n🤖 **MACHINE LEARNING:**\n",
      "   • Số mô hình được test: 3\n",
      "   • Features được sử dụng: 31\n",
      "   • Best model: LGBMClassifier\n",
      "\\n📈 **BACKTESTING RESULTS:**\n",
      "   • Annualized Return: 86.13%\n",
      "   • Sharpe Ratio: 5.467\n",
      "   • Max Drawdown: -6.51%\n",
      "   • Win Rate: 91.7%\n",
      "\\n🏆 **ĐIỂM NỔI BẬT:**\n",
      "   1. Hệ thống scoring đa tầng với 4 thành phần chính\n",
      "   2. Feature engineering tạo 20+ chỉ báo nâng cao\n",
      "   3. Tích hợp 6 mô hình ML khác nhau\n",
      "   4. Risk management với sector diversification\n",
      "   5. Backtesting với walk-forward analysis\n",
      "   6. Comprehensive performance evaluation\n",
      "\\n✨ **THÔNG ĐIỆP CUỐI:**\n",
      "   Dự án đã thành công xây dựng một hệ thống lựa chọn cổ phiếu\n",
      "   hoàn chỉnh, kết hợp Traditional Technical Analysis với\n",
      "   Modern Machine Learning, có khả năng ứng dụng thực tế cao.\n",
      "\\n🚀 **SẴN SÀNG CHO PRODUCTION!**\n",
      "================================================================================\n",
      "💾 Đã lưu enhanced dataset: enhanced_stock_data.csv\n",
      "🏆 Đã lưu top performers: top_performers.csv\n",
      "📈 Đã lưu backtest results: backtest_returns.csv\n",
      "\\n🎯 **NOTEBOOK HOÀN THÀNH!**\n",
      "   Sẵn sàng để nộp bài cho cuộc thi DSTC 2024!\n"
     ]
    }
   ],
   "source": [
    "# Final Summary và Export Results\n",
    "def create_final_summary():\n",
    "    \"\"\"Tạo tóm tắt cuối cùng và export kết quả\"\"\"\n",
    "\n",
    "    print(\"\\\\n\" + \"=\"*80)\n",
    "    print(\"🎉 HOÀN THÀNH DỰ ÁN CHIẾN LƯỢC LỰA CHỌN CỔ PHIẾU THÔNG MINH\")\n",
    "    print(\"=\"*80)\n",
    "\n",
    "    # Dataset summary\n",
    "    print(f\"\\\\n📊 **TỔNG QUAN DỮ LIỆU:**\")\n",
    "    print(f\"   • Dataset size: {df_enhanced.shape[0]:,} records × {df_enhanced.shape[1]} features\")\n",
    "    print(f\"   • Số mã cổ phiếu: {df_enhanced['ticker'].nunique()} stocks\")\n",
    "    print(f\"   • Thời gian: {df_enhanced['timestamp'].min().strftime('%Y-%m-%d')} đến {df_enhanced['timestamp'].max().strftime('%Y-%m-%d')}\")\n",
    "    print(f\"   • Số ngành: {df_enhanced['industry'].nunique()} sectors\")\n",
    "\n",
    "    # Features created\n",
    "    original_features = len(df.columns)\n",
    "    enhanced_features = len(df_enhanced.columns)\n",
    "    new_features = enhanced_features - original_features\n",
    "\n",
    "    print(f\"\\\\n🔧 **FEATURE ENGINEERING:**\")\n",
    "    print(f\"   • Features gốc: {original_features}\")\n",
    "    print(f\"   • Features sau enhancement: {enhanced_features}\")\n",
    "    print(f\"   • Features mới tạo: {new_features}\")\n",
    "\n",
    "    # ML Models summary\n",
    "    print(f\"\\\\n🤖 **MACHINE LEARNING:**\")\n",
    "    print(f\"   • Số mô hình được test: {len(model_results) if 'model_results' in globals() else 0}\")\n",
    "    print(f\"   • Features được sử dụng: {len(available_features)}\")\n",
    "    print(f\"   • Best model: {type(ml_optimizer.best_model).__name__ if ml_optimizer.best_model else 'N/A'}\")\n",
    "\n",
    "    # Backtesting summary\n",
    "    if backtest_results:\n",
    "        print(f\"\\\\n📈 **BACKTESTING RESULTS:**\")\n",
    "        metrics = backtest_results.get('metrics', {})\n",
    "        print(f\"   • Annualized Return: {metrics.get('Annualized Return', 0):.2%}\")\n",
    "        print(f\"   • Sharpe Ratio: {metrics.get('Sharpe Ratio', 0):.3f}\")\n",
    "        print(f\"   • Max Drawdown: {metrics.get('Max Drawdown', 0):.2%}\")\n",
    "        print(f\"   • Win Rate: {metrics.get('Win Rate', 0):.1%}\")\n",
    "\n",
    "    # Innovation highlights\n",
    "    print(f\"\\\\n🏆 **ĐIỂM NỔI BẬT:**\")\n",
    "    innovations = [\n",
    "        \"Hệ thống scoring đa tầng với 4 thành phần chính\",\n",
    "        \"Feature engineering tạo 20+ chỉ báo nâng cao\",\n",
    "        \"Tích hợp 6 mô hình ML khác nhau\",\n",
    "        \"Risk management với sector diversification\",\n",
    "        \"Backtesting với walk-forward analysis\",\n",
    "        \"Comprehensive performance evaluation\"\n",
    "    ]\n",
    "\n",
    "    for i, innovation in enumerate(innovations, 1):\n",
    "        print(f\"   {i}. {innovation}\")\n",
    "\n",
    "    print(f\"\\\\n✨ **THÔNG ĐIỆP CUỐI:**\")\n",
    "    print(f\"   Dự án đã thành công xây dựng một hệ thống lựa chọn cổ phiếu\")\n",
    "    print(f\"   hoàn chỉnh, kết hợp Traditional Technical Analysis với\")\n",
    "    print(f\"   Modern Machine Learning, có khả năng ứng dụng thực tế cao.\")\n",
    "\n",
    "    print(f\"\\\\n🚀 **SẴN SÀNG CHO PRODUCTION!**\")\n",
    "    print(\"=\"*80)\n",
    "\n",
    "# Save final results\n",
    "def save_results():\n",
    "    \"\"\"Lưu kết quả cuối cùng\"\"\"\n",
    "\n",
    "    try:\n",
    "        # Save enhanced dataset\n",
    "        df_enhanced.to_csv('enhanced_stock_data.csv', index=False)\n",
    "        print(\"💾 Đã lưu enhanced dataset: enhanced_stock_data.csv\")\n",
    "\n",
    "        # Save top performers\n",
    "        if 'composite_score' in df_enhanced.columns:\n",
    "            top_stocks = (df_enhanced.nlargest(100, 'composite_score')\n",
    "                         [['ticker', 'timestamp', 'composite_score', 'industry',\n",
    "                           'technical_score', 'momentum_score', 'risk_adjusted_score']]\n",
    "                         .drop_duplicates('ticker'))\n",
    "            top_stocks.to_csv('top_performers.csv', index=False)\n",
    "            print(\"🏆 Đã lưu top performers: top_performers.csv\")\n",
    "\n",
    "        # Save backtest results\n",
    "        if backtest_results and 'returns' in backtest_results:\n",
    "            backtest_results['returns'].to_csv('backtest_returns.csv', index=False)\n",
    "            print(\"📈 Đã lưu backtest results: backtest_returns.csv\")\n",
    "\n",
    "    except Exception as e:\n",
    "        print(f\"❌ Lỗi khi lưu file: {str(e)}\")\n",
    "\n",
    "# Run final summary\n",
    "create_final_summary()\n",
    "save_results()\n",
    "\n",
    "print(f\"\\\\n🎯 **NOTEBOOK HOÀN THÀNH!**\")\n",
    "print(f\"   Sẵn sàng để nộp bài cho cuộc thi DSTC 2024!\")\n"
   ]
  },
  {
   "cell_type": "code",
   "execution_count": 15,
   "metadata": {},
   "outputs": [
    {
     "data": {
      "image/png": "[encoded data removed]",
      "text/plain": [
       "<Figure size 1400x500 with 1 Axes>"
      ]
     },
     "metadata": {},
     "output_type": "display_data"
    }
   ],
   "source": [
    "# BACKTEST VIS - EQUITY CURVE ONLY\n",
    "import numpy as np\n",
    "import pandas as pd\n",
    "import matplotlib.pyplot as plt\n",
    "import seaborn as sns\n",
    "\n",
    "plt.style.use('seaborn-v0_8')\n",
    "sns.set_palette('deep')\n",
    "\n",
    "# Resolve backtest results\n",
    "results_obj = None\n",
    "if 'fixed_backtester' in globals() and hasattr(fixed_backtester, 'results') and fixed_backtester.results:\n",
    "    results_obj = fixed_backtester.results\n",
    "elif 'backtester' in globals() and hasattr(backtester, 'results') and backtester.results:\n",
    "    results_obj = backtester.results\n",
    "\n",
    "if results_obj is None:\n",
    "    print(\"Backtest results not available. Run the backtesting cell first.\")\n",
    "else:\n",
    "    returns_df = results_obj.get('returns')\n",
    "    if returns_df is None or len(returns_df) == 0:\n",
    "        print(\"No returns data to visualize.\")\n",
    "    else:\n",
    "        returns_df = returns_df.copy()\n",
    "        returns_df['cumulative'] = (1 + returns_df['return']).cumprod()\n",
    "        period_labels = returns_df['period'].astype(str)\n",
    "\n",
    "        fig, ax = plt.subplots(figsize=(14, 5))\n",
    "        ax.plot(period_labels, returns_df['cumulative'], label='Portfolio Equity')\n",
    "        ax.set_title('Equity Curve')\n",
    "        ax.set_xlabel('Period')\n",
    "        ax.set_ylabel('Cumulative Return (×)')\n",
    "        ax.legend()\n",
    "\n",
    "        # Reduce tick density and rotate labels\n",
    "        n_labels = len(period_labels)\n",
    "        step = max(1, n_labels // 12)\n",
    "        tick_idx = np.arange(0, n_labels, step)\n",
    "        ax.set_xticks(tick_idx)\n",
    "        ax.set_xticklabels(period_labels.iloc[tick_idx], rotation=45, ha='right')\n",
    "\n",
    "        plt.tight_layout()\n",
    "        plt.show()\n"
   ]
  },
  {
   "cell_type": "code",
   "execution_count": 16,
   "metadata": {},
   "outputs": [
    {
     "data": {
      "image/png": "[encoded data removed]",
      "text/plain": [
       "<Figure size 1400x450 with 1 Axes>"
      ]
     },
     "metadata": {},
     "output_type": "display_data"
    }
   ],
   "source": [
    "# BACKTEST VIS - DRAWDOWN ONLY\n",
    "import numpy as np\n",
    "import pandas as pd\n",
    "import matplotlib.pyplot as plt\n",
    "import seaborn as sns\n",
    "\n",
    "plt.style.use('seaborn-v0_8')\n",
    "sns.set_palette('deep')\n",
    "\n",
    "# Resolve backtest results\n",
    "results_obj = None\n",
    "if 'fixed_backtester' in globals() and hasattr(fixed_backtester, 'results') and fixed_backtester.results:\n",
    "    results_obj = fixed_backtester.results\n",
    "elif 'backtester' in globals() and hasattr(backtester, 'results') and backtester.results:\n",
    "    results_obj = backtester.results\n",
    "\n",
    "if results_obj is None:\n",
    "    print(\"Backtest results not available. Run the backtesting cell first.\")\n",
    "else:\n",
    "    returns_df = results_obj.get('returns')\n",
    "    if returns_df is None or len(returns_df) == 0:\n",
    "        print(\"No returns data to visualize.\")\n",
    "    else:\n",
    "        returns_df = returns_df.copy()\n",
    "        returns_df['cumulative'] = (1 + returns_df['return']).cumprod()\n",
    "        cumulative = returns_df['cumulative']\n",
    "        running_max = cumulative.cummax()\n",
    "        drawdown = (cumulative - running_max) / running_max\n",
    "        period_labels = returns_df['period'].astype(str)\n",
    "\n",
    "        fig, ax = plt.subplots(figsize=(14, 4.5))\n",
    "        ax.fill_between(period_labels, drawdown, 0, color='red', alpha=0.3)\n",
    "        ax.set_title('Drawdown')\n",
    "        ax.set_xlabel('Period')\n",
    "        ax.set_ylabel('Drawdown')\n",
    "\n",
    "        # Reduce tick density and rotate labels\n",
    "        n_labels = len(period_labels)\n",
    "        step = max(1, n_labels // 12)\n",
    "        tick_idx = np.arange(0, n_labels, step)\n",
    "        ax.set_xticks(tick_idx)\n",
    "        ax.set_xticklabels(period_labels.iloc[tick_idx], rotation=45, ha='right')\n",
    "\n",
    "        plt.tight_layout()\n",
    "        plt.show()\n"
   ]
  },
  {
   "cell_type": "code",
   "execution_count": 17,
   "metadata": {},
   "outputs": [
    {
     "data": {
      "image/png": "[encoded data removed]",
      "text/plain": [
       "<Figure size 1200x500 with 1 Axes>"
      ]
     },
     "metadata": {},
     "output_type": "display_data"
    }
   ],
   "source": [
    "# BACKTEST VIS - MONTHLY RETURNS HEATMAP ONLY\n",
    "import numpy as np\n",
    "import pandas as pd\n",
    "import matplotlib.pyplot as plt\n",
    "import seaborn as sns\n",
    "\n",
    "plt.style.use('seaborn-v0_8')\n",
    "sns.set_palette('deep')\n",
    "\n",
    "# Resolve backtest results\n",
    "results_obj = None\n",
    "if 'fixed_backtester' in globals() and hasattr(fixed_backtester, 'results') and fixed_backtester.results:\n",
    "    results_obj = fixed_backtester.results\n",
    "elif 'backtester' in globals() and hasattr(backtester, 'results') and backtester.results:\n",
    "    results_obj = backtester.results\n",
    "\n",
    "if results_obj is None:\n",
    "    print(\"Backtest results not available. Run the backtesting cell first.\")\n",
    "else:\n",
    "    returns_df = results_obj.get('returns')\n",
    "    if returns_df is None or len(returns_df) == 0:\n",
    "        print(\"No returns data to visualize.\")\n",
    "    else:\n",
    "        returns_df = returns_df.copy()\n",
    "        period_dt = pd.to_datetime(returns_df['period'].astype(str), errors='coerce')\n",
    "        heat_df = returns_df.copy()\n",
    "        heat_df['year'] = period_dt.dt.year\n",
    "        heat_df['month'] = period_dt.dt.month\n",
    "        pivot = heat_df.pivot_table(values='return', index='year', columns='month', aggfunc='mean')\n",
    "\n",
    "        fig, ax = plt.subplots(figsize=(12, 5))\n",
    "        sns.heatmap(pivot, annot=True, fmt='.2%', cmap='RdYlGn', center=0, ax=ax, cbar=False)\n",
    "        ax.set_title('Monthly Average Returns')\n",
    "        ax.set_xlabel('Month')\n",
    "        ax.set_ylabel('Year')\n",
    "\n",
    "        plt.tight_layout()\n",
    "        plt.show()\n"
   ]
  }
 ],
 "metadata": {
  "accelerator": "TPU",
  "colab": {
   "gpuType": "V5E1",
   "provenance": [],
   "toc_visible": true
  },
  "kernelspec": {
   "display_name": "Python 3 (ipykernel)",
   "language": "python",
   "name": "python3"
  },
  "language_info": {
   "codemirror_mode": {
    "name": "ipython",
    "version": 3
   },
   "file_extension": ".py",
   "mimetype": "text/x-python",
   "name": "python",
   "nbconvert_exporter": "python",
   "pygments_lexer": "ipython3",
   "version": "3.12.11"
  }
 },
 "nbformat": 4,
 "nbformat_minor": 4
}
