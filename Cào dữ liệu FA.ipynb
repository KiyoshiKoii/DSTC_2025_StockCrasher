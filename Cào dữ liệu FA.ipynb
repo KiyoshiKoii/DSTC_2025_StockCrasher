{
 "cells": [
  {
   "cell_type": "code",
   "execution_count": null,
   "id": "66e1f6b3-b2dd-4105-bb56-5713e2034f6a",
   "metadata": {
    "id": "66e1f6b3-b2dd-4105-bb56-5713e2034f6a"
   },
   "outputs": [],
   "source": [
    "from FiinQuantX import FiinSession\n",
    "\n",
    "\n",
    "username = 'DSTC_20@fiinquant.vn'\n",
    "password = 'Fiinquant0606'\n",
    "\n",
    "client = FiinSession(\n",
    "    username=username,\n",
    "    password=password,\n",
    ").login()"
   ]
  },
  {
   "cell_type": "code",
   "execution_count": null,
   "id": "0e4c80f2-7755-4269-95b3-dc12debb10c8",
   "metadata": {
    "id": "0e4c80f2-7755-4269-95b3-dc12debb10c8"
   },
   "outputs": [],
   "source": [
    "import pandas as pd\n",
    "from FiinQuantX import FiinSession\n",
    "\n",
    "# --- 1. Login ---\n",
    "client = FiinSession(username=username, password=password).login()\n",
    "\n",
    "# --- 2. Lấy toàn bộ tickers ---\n",
    "hose_tickers = list(client.TickerList(ticker=\"VNINDEX\"))\n",
    "hnx_tickers  = list(client.TickerList(ticker=\"HNXINDEX\"))\n",
    "upcom_tickers = list(client.TickerList(ticker=\"UPCOMINDEX\"))\n",
    "\n",
    "all_tickers = hose_tickers + hnx_tickers + upcom_tickers\n",
    "print(f\"✅ Tổng số tickers: {len(all_tickers)}\")\n",
    "\n",
    "# Lưu danh sách tickers ra file\n",
    "pd.DataFrame(all_tickers, columns=[\"ticker\"]).to_csv(\"all_tickers.csv\", index=False)\n",
    "all_tickers = pd.read_csv(\"all_tickers.csv\")[\"ticker\"].tolist()\n",
    "print(\"✅ Xuất file all_tickers.csv thành công\")\n",
    "\n",
    "# --- 3. Hàm flatten ratios ---\n",
    "def flatten_ratios(fi_dict):\n",
    "    rows = []\n",
    "    for rec in fi_dict:\n",
    "        base = {\n",
    "            \"ticker\": rec.get(\"ticker\"),\n",
    "            \"year\": rec.get(\"year\"),\n",
    "            \"quarter\": rec.get(\"quarter\")\n",
    "        }\n",
    "        ratios = rec.get(\"ratios\", {})\n",
    "        for group, metrics in ratios.items():\n",
    "            for k, v in metrics.items():\n",
    "                base[k] = v\n",
    "        rows.append(base)\n",
    "    return rows\n",
    "\n",
    "# --- 4. Lấy dữ liệu cho tất cả tickers ---\n",
    "all_rows = []\n",
    "for i, t in enumerate(all_tickers, 1):\n",
    "    try:\n",
    "        fi_dict = client.FundamentalAnalysis().get_ratios(\n",
    "            tickers=[t],\n",
    "            TimeFilter=\"Yearly\",\n",
    "            LatestYear=2025,\n",
    "            NumberOfPeriod=3,\n",
    "            Consolidated=True\n",
    "        )\n",
    "        rows = flatten_ratios(fi_dict)\n",
    "        all_rows.extend(rows)\n",
    "        if i % 50 == 0:\n",
    "            print(f\"Đã xử lý {i}/{len(all_tickers)} tickers...\")\n",
    "    except Exception as e:\n",
    "        print(f\"⚠️ Lỗi khi lấy {t}: {e}\")\n",
    "\n",
    "# --- 5. Tạo DataFrame & Xuất CSV ---\n",
    "df = pd.DataFrame(all_rows)\n",
    "df = df.sort_values(by=[\"ticker\", \"year\"]).reset_index(drop=True)\n",
    "\n",
    "df.to_csv(\"all_fundamental_ratios.csv\", index=False, encoding=\"utf-8-sig\")\n",
    "print(\"✅ Xuất file all_fundamental_ratios.csv thành công\")\n"
   ]
  },
  {
   "cell_type": "code",
   "execution_count": null,
   "id": "4b1f5b3c-74de-4a2b-b27e-fc4cdb35e1c3",
   "metadata": {
    "id": "4b1f5b3c-74de-4a2b-b27e-fc4cdb35e1c3",
    "outputId": "0a1aa27e-61fa-4d54-9ed6-a73a469d1b34"
   },
   "outputs": [
    {
     "name": "stdout",
     "output_type": "stream",
     "text": [
      "✅ Có dữ liệu ACB, year=2025, consolidated=True\n"
     ]
    }
   ],
   "source": [
    "def try_ratios(ticker):\n",
    "    for consolidated in [True, False]:\n",
    "        for year in [2025, 2024, 2023]:\n",
    "            try:\n",
    "                fi_dict = client.FundamentalAnalysis().get_ratios(\n",
    "                    tickers=[ticker],\n",
    "                    TimeFilter=\"Yearly\",\n",
    "                    LatestYear=year,\n",
    "                    NumberOfPeriod=3,\n",
    "                    Consolidated=consolidated\n",
    "                )\n",
    "                if fi_dict:\n",
    "                    print(f\"✅ Có dữ liệu {ticker}, year={year}, consolidated={consolidated}\")\n",
    "                    return fi_dict\n",
    "            except:\n",
    "                pass\n",
    "    print(f\"⚠️ Không có dữ liệu cho {ticker}\")\n",
    "    return None\n",
    "\n",
    "test_data = try_ratios(\"ACB\")\n"
   ]
  },
  {
   "cell_type": "code",
   "execution_count": null,
   "id": "747eaaad-5ec1-4945-a4e1-58b5882b4554",
   "metadata": {
    "id": "747eaaad-5ec1-4945-a4e1-58b5882b4554",
    "outputId": "071920cb-fd96-4aff-b491-89036c104829"
   },
   "outputs": [
    {
     "name": "stdout",
     "output_type": "stream",
     "text": [
      "⚠️ Các ticker không có dữ liệu ratios:\n",
      "['ABB', 'ACB', 'BAB', 'BID', 'BVB', 'CTG', 'EIB', 'EVF', 'HDB', 'HTS', 'KLB', 'LPB', 'MBB', 'MDD', 'MSB', 'NAB', 'NVB', 'OCB', 'PGB', 'PXK', 'SGB', 'SHB', 'SSB', 'STB', 'TCB', 'TIN', 'TPB', 'VAB', 'VBB', 'VCB', 'VIB', 'VPB']\n",
      "👉 Tổng cộng: 32 mã\n"
     ]
    }
   ],
   "source": [
    "import pandas as pd\n",
    "\n",
    "# Đọc lại file CSV đã xuất\n",
    "df = pd.read_csv(\"all_fundamental_ratios.csv\")\n",
    "\n",
    "# Xác định cột dữ liệu ratios (bỏ ticker, year, quarter)\n",
    "ratio_cols = [c for c in df.columns if c not in [\"ticker\", \"year\", \"quarter\"]]\n",
    "\n",
    "# Tìm ticker nào tất cả giá trị ratios đều null\n",
    "null_tickers = (\n",
    "    df.groupby(\"ticker\")[ratio_cols]\n",
    "      .apply(lambda x: x.isnull().all().all())\n",
    ")\n",
    "\n",
    "# Lọc ra những ticker bị null hoàn toàn\n",
    "null_tickers = null_tickers[null_tickers].index.tolist()\n",
    "\n",
    "print(\"⚠️ Các ticker không có dữ liệu ratios:\")\n",
    "print(null_tickers)\n",
    "print(f\"👉 Tổng cộng: {len(null_tickers)} mã\")\n"
   ]
  },
  {
   "cell_type": "code",
   "execution_count": null,
   "id": "c8392861-bd40-4331-bef6-ea5b7f9ab4d9",
   "metadata": {
    "id": "c8392861-bd40-4331-bef6-ea5b7f9ab4d9",
    "outputId": "92bc719b-9799-4899-f0bb-0bb4974b2c94"
   },
   "outputs": [
    {
     "name": "stdout",
     "output_type": "stream",
     "text": [
      "✅ Xuất xong!\n",
      "👉 ratios_null.csv: 32 mã\n",
      "👉 ratios_non_null.csv: 1579 mã\n"
     ]
    }
   ],
   "source": [
    "import pandas as pd\n",
    "\n",
    "# Đọc dữ liệu gốc\n",
    "df = pd.read_csv(\"all_fundamental_ratios.csv\")\n",
    "\n",
    "# Xác định cột dữ liệu ratios (bỏ ticker, year, quarter)\n",
    "ratio_cols = [c for c in df.columns if c not in [\"ticker\", \"year\", \"quarter\"]]\n",
    "\n",
    "# Nhóm theo ticker và check có toàn null không\n",
    "null_tickers = (\n",
    "    df.groupby(\"ticker\")[ratio_cols]\n",
    "      .apply(lambda x: x.isnull().all().all())\n",
    ")\n",
    "\n",
    "# Tách ticker null và non-null\n",
    "tickers_null = null_tickers[null_tickers].index.tolist()\n",
    "tickers_non_null = null_tickers[~null_tickers].index.tolist()\n",
    "\n",
    "# Tạo 2 DataFrame\n",
    "df_null = df[df[\"ticker\"].isin(tickers_null)]\n",
    "df_non_null = df[df[\"ticker\"].isin(tickers_non_null)]\n",
    "\n",
    "# Xuất ra CSV\n",
    "df_null.to_csv(\"ratios_null.csv\", index=False, encoding=\"utf-8-sig\")\n",
    "df_non_null.to_csv(\"ratios_non_null.csv\", index=False, encoding=\"utf-8-sig\")\n",
    "\n",
    "print(f\"✅ Xuất xong!\")\n",
    "print(f\"👉 ratios_null.csv: {len(df_null['ticker'].unique())} mã\")\n",
    "print(f\"👉 ratios_non_null.csv: {len(df_non_null['ticker'].unique())} mã\")\n"
   ]
  },
  {
   "cell_type": "code",
   "execution_count": null,
   "id": "e205755e-a89b-463c-a9a9-f72d3a4ee256",
   "metadata": {
    "id": "e205755e-a89b-463c-a9a9-f72d3a4ee256",
    "outputId": "780f21ff-42f5-4fbe-b018-5851b8850708"
   },
   "outputs": [
    {
     "name": "stdout",
     "output_type": "stream",
     "text": [
      "Retrieved 17 financial ratios data point for stock ticker ABB.\n",
      "✅ Lấy ratios thành công: ABB, 17 dòng\n",
      "Retrieved 21 financial ratios data point for stock ticker ACB.\n",
      "✅ Lấy ratios thành công: ACB, 21 dòng\n",
      "Retrieved 14 financial ratios data point for stock ticker BAB.\n",
      "✅ Lấy ratios thành công: BAB, 14 dòng\n",
      "Retrieved 20 financial ratios data point for stock ticker BID.\n",
      "✅ Lấy ratios thành công: BID, 20 dòng\n",
      "Retrieved 6 financial ratios data point for stock ticker BVB.\n",
      "✅ Lấy ratios thành công: BVB, 6 dòng\n",
      "Retrieved 18 financial ratios data point for stock ticker CTG.\n",
      "✅ Lấy ratios thành công: CTG, 18 dòng\n",
      "Retrieved 19 financial ratios data point for stock ticker EIB.\n",
      "✅ Lấy ratios thành công: EIB, 19 dòng\n",
      "Retrieved 5 financial ratios data point for stock ticker EVF.\n",
      "✅ Lấy ratios thành công: EVF, 5 dòng\n",
      "Retrieved 18 financial ratios data point for stock ticker HDB.\n",
      "✅ Lấy ratios thành công: HDB, 18 dòng\n",
      "❌ Lỗi với HTS: No data found for the symbol HTS.\n",
      "Retrieved 18 financial ratios data point for stock ticker KLB.\n",
      "✅ Lấy ratios thành công: KLB, 18 dòng\n",
      "Retrieved 15 financial ratios data point for stock ticker LPB.\n",
      "✅ Lấy ratios thành công: LPB, 15 dòng\n",
      "Retrieved 20 financial ratios data point for stock ticker MBB.\n",
      "✅ Lấy ratios thành công: MBB, 20 dòng\n",
      "❌ Lỗi với MDD: No data found for the symbol MDD.\n",
      "Retrieved 18 financial ratios data point for stock ticker MSB.\n",
      "✅ Lấy ratios thành công: MSB, 18 dòng\n",
      "Retrieved 17 financial ratios data point for stock ticker NAB.\n",
      "✅ Lấy ratios thành công: NAB, 17 dòng\n",
      "Retrieved 17 financial ratios data point for stock ticker NVB.\n",
      "✅ Lấy ratios thành công: NVB, 17 dòng\n",
      "Retrieved 17 financial ratios data point for stock ticker OCB.\n",
      "✅ Lấy ratios thành công: OCB, 17 dòng\n",
      "Retrieved 17 financial ratios data point for stock ticker PGB.\n",
      "✅ Lấy ratios thành công: PGB, 17 dòng\n",
      "❌ Lỗi với PXK: No data found for the symbol PXK.\n",
      "Retrieved 17 financial ratios data point for stock ticker SGB.\n",
      "✅ Lấy ratios thành công: SGB, 17 dòng\n",
      "Retrieved 17 financial ratios data point for stock ticker SHB.\n",
      "✅ Lấy ratios thành công: SHB, 17 dòng\n",
      "Retrieved 4 financial ratios data point for stock ticker SSB.\n",
      "✅ Lấy ratios thành công: SSB, 4 dòng\n",
      "Retrieved 21 financial ratios data point for stock ticker STB.\n",
      "✅ Lấy ratios thành công: STB, 21 dòng\n",
      "Retrieved 22 financial ratios data point for stock ticker TCB.\n",
      "✅ Lấy ratios thành công: TCB, 22 dòng\n",
      "Retrieved 4 financial ratios data point for stock ticker TIN.\n",
      "✅ Lấy ratios thành công: TIN, 4 dòng\n",
      "Retrieved 15 financial ratios data point for stock ticker TPB.\n",
      "✅ Lấy ratios thành công: TPB, 15 dòng\n",
      "Retrieved 17 financial ratios data point for stock ticker VAB.\n",
      "✅ Lấy ratios thành công: VAB, 17 dòng\n",
      "Retrieved 6 financial ratios data point for stock ticker VBB.\n",
      "✅ Lấy ratios thành công: VBB, 6 dòng\n",
      "Retrieved 19 financial ratios data point for stock ticker VCB.\n",
      "✅ Lấy ratios thành công: VCB, 19 dòng\n",
      "Retrieved 18 financial ratios data point for stock ticker VIB.\n",
      "✅ Lấy ratios thành công: VIB, 18 dòng\n",
      "Retrieved 17 financial ratios data point for stock ticker VPB.\n",
      "✅ Lấy ratios thành công: VPB, 17 dòng\n",
      "📂 Đã lưu file bank_ratios_vietfin.csv (454 dòng)\n"
     ]
    }
   ],
   "source": [
    "import pandas as pd\n",
    "from vietfin import vf\n",
    "\n",
    "bank_tickers = [\n",
    "    'ABB', 'ACB', 'BAB', 'BID', 'BVB', 'CTG', 'EIB', 'EVF', 'HDB', 'HTS',\n",
    "    'KLB', 'LPB', 'MBB', 'MDD', 'MSB', 'NAB', 'NVB', 'OCB', 'PGB', 'PXK',\n",
    "    'SGB', 'SHB', 'SSB', 'STB', 'TCB', 'TIN', 'TPB', 'VAB', 'VBB', 'VCB',\n",
    "    'VIB', 'VPB'\n",
    "]\n",
    "\n",
    "all_df = []\n",
    "\n",
    "for ticker in bank_tickers:\n",
    "    try:\n",
    "        ratios_obj = vf.equity.fundamental.ratios(symbol=ticker)\n",
    "\n",
    "        # Truy xuất DataFrame từ VfObject\n",
    "        if hasattr(ratios_obj, \"to_df\"):\n",
    "            df = ratios_obj.to_df()\n",
    "        elif hasattr(ratios_obj, \"data\"):\n",
    "            df = pd.DataFrame(ratios_obj.data)\n",
    "        else:\n",
    "            raise ValueError(\"Không tìm thấy dữ liệu dạng bảng\")\n",
    "\n",
    "        if not df.empty:\n",
    "            df[\"ticker\"] = ticker\n",
    "            all_df.append(df)\n",
    "            print(f\"✅ Lấy ratios thành công: {ticker}, {len(df)} dòng\")\n",
    "        else:\n",
    "            print(f\"⚠️ Không có dữ liệu cho {ticker}\")\n",
    "\n",
    "    except Exception as e:\n",
    "        print(f\"❌ Lỗi với {ticker}: {e}\")\n",
    "\n",
    "if all_df:\n",
    "    df_all = pd.concat(all_df, ignore_index=True)\n",
    "    df_all.to_csv(\"bank_ratios_vietfin.csv\", index=False, encoding=\"utf-8-sig\")\n",
    "    print(f\"📂 Đã lưu file bank_ratios_vietfin.csv ({df_all.shape[0]} dòng)\")\n",
    "else:\n",
    "    print(\"❌ Không có dữ liệu nào được lưu\")\n"
   ]
  }
 ],
 "metadata": {
  "colab": {
   "provenance": []
  },
  "kernelspec": {
   "display_name": "Python 3 (ipykernel)",
   "language": "python",
   "name": "python3"
  },
  "language_info": {
   "codemirror_mode": {
    "name": "ipython",
    "version": 3
   },
   "file_extension": ".py",
   "mimetype": "text/x-python",
   "name": "python",
   "nbconvert_exporter": "python",
   "pygments_lexer": "ipython3",
   "version": "3.12.11"
  }
 },
 "nbformat": 4,
 "nbformat_minor": 5
}
